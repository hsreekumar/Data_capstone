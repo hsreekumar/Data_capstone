{
  "nbformat": 4,
  "nbformat_minor": 0,
  "metadata": {
    "colab": {
      "provenance": [],
      "machine_shape": "hm"
    },
    "kernelspec": {
      "name": "python3",
      "display_name": "Python 3"
    },
    "language_info": {
      "name": "python"
    }
  },
  "cells": [
    {
      "cell_type": "markdown",
      "source": [
        "# Mini Project: Recommendation Engines\n",
        "\n",
        "Recommendation engines are algorithms designed to provide personalized suggestions or recommendations to users. These systems analyze user behavior, preferences, and interactions with items (products, movies, music, articles, etc.) to predict and offer items that users are likely to be interested in. Recommendation engines play a crucial role in enhancing user experience, driving engagement, and increasing conversion rates in various applications, including e-commerce, entertainment, content platforms, and more.\n",
        "\n",
        "There are generally two approaches taken in collaborative filtering and content-based recommendation engines:\n",
        "\n",
        "**1. Collaborative Filtering:**\n",
        "Collaborative Filtering is a popular approach to building recommendation systems that leverages the collective behavior of users to make personalized recommendations. It is based on the idea that users who have agreed in the past will likely agree in the future. There are two main types of collaborative filtering:\n",
        "\n",
        "- **User-based Collaborative Filtering:** This method finds users similar to the target user based on their past interactions (e.g., ratings or purchases). It then recommends items that similar users have liked but the target user has not interacted with yet.\n",
        "\n",
        "- **Item-based Collaborative Filtering:** In this approach, the system identifies similar items based on user interactions. It recommends items that are similar to the ones the target user has already liked or interacted with.\n",
        "\n",
        "Collaborative filtering does not require any explicit information about items but relies on the similarity between users or items. It is effective in capturing complex patterns and can provide serendipitous recommendations. However, it suffers from the cold-start problem (i.e., difficulty in recommending to new users or items with no interactions) and scalability challenges in large datasets.\n",
        "\n",
        "**2. Content-Based Recommendation:**\n",
        "Content-based recommendation is an alternative approach to building recommendation systems that focuses on the attributes or features of items and users. It leverages the characteristics of items to make recommendations. The key steps involved in content-based recommendation are:\n",
        "\n",
        "- **Feature Extraction:** For each item, relevant features are extracted. For movies, these features could be genre, director, actors, and plot summary.\n",
        "\n",
        "- **User Profile:** A user profile is created based on the items they have interacted with in the past. The user profile contains the weighted importance of features based on their interactions.\n",
        "\n",
        "- **Similarity Calculation:** The similarity between items or between items and the user profile is calculated using similarity metrics like cosine similarity or Euclidean distance.\n",
        "\n",
        "- **Recommendation:** Items that are most similar to the user profile are recommended to the user.\n",
        "\n",
        "Content-based recommendation systems are less affected by the cold-start problem as they can still recommend items based on their features. They are also more interpretable as they rely on item attributes. However, they may miss out on providing serendipitous recommendations and can be limited by the quality of feature extraction and user profiles.\n",
        "\n",
        "**Choosing Between Collaborative Filtering and Content-Based:**\n",
        "Both collaborative filtering and content-based approaches have their strengths and weaknesses. The choice between them depends on the specific requirements of the recommendation system, the type of data available, and the user base. Hybrid approaches that combine collaborative filtering and content-based techniques are also common, aiming to leverage the strengths of both methods and mitigate their weaknesses."
      ],
      "metadata": {
        "id": "fyXucUekO19i"
      }
    },
    {
      "cell_type": "markdown",
      "source": [
        "In this mini-project, you'll be building both content based and collaborative filtering engines for the [MovieLens 25M dataset](https://grouplens.org/datasets/movielens/25m/). The MovieLens 25M dataset is one of the most widely used and popular datasets for building and evaluating recommendation systems. It is provided by the GroupLens Research project, which collects and studies datasets related to movie ratings and recommendations. The MovieLens 25M dataset contains movie ratings and other related information contributed by users of the MovieLens website.\n",
        "\n",
        "**Dataset Details:**\n",
        "- **Size:** The dataset contains approximately 25 million movie ratings.\n",
        "- **Users:** It includes ratings from over 162,000 users.\n",
        "- **Movies:** The dataset consists of ratings for more than 62,000 movies.\n",
        "- **Ratings:** The ratings are provided on a scale of 1 to 5, where 1 is the lowest rating and 5 is the highest.\n",
        "- **Timestamps:** Each rating is associated with a timestamp, indicating when the rating was given.\n",
        "\n",
        "**Data Files:**\n",
        "The dataset is usually split into three CSV files:\n",
        "\n",
        "1. **movies.csv:** Contains information about movies, including the movie ID, title, genres, and release year.\n",
        "   - Columns: movieId, title, genres\n",
        "\n",
        "2. **ratings.csv:** Contains movie ratings provided by users, including the user ID, movie ID, rating, and timestamp.\n",
        "   - Columns: userId, movieId, rating, timestamp\n",
        "\n",
        "3. **tags.csv:** Contains user-generated tags for movies, including the user ID, movie ID, tag, and timestamp.\n",
        "   - Columns: userId, movieId, tag, timestamp"
      ],
      "metadata": {
        "id": "TYuE9O6I2uRY"
      }
    },
    {
      "cell_type": "markdown",
      "source": [
        "First, import all the libraries you'll need."
      ],
      "metadata": {
        "id": "DN0qzP-cRlMo"
      }
    },
    {
      "cell_type": "code",
      "execution_count": 203,
      "metadata": {
        "id": "kLWR1DfQPakn"
      },
      "outputs": [],
      "source": [
        "import zipfile\n",
        "import numpy as np\n",
        "import pandas as pd\n",
        "from urllib.request import urlretrieve\n",
        "from sklearn.metrics.pairwise import cosine_similarity\n",
        "from sklearn.feature_extraction.text import TfidfTransformer\n",
        "import matplotlib.pyplot as plt\n",
        "from matplotlib_venn import venn2\n"
      ]
    },
    {
      "cell_type": "markdown",
      "source": [
        "Next, download the relevant components of the MoveLens dataset. Note, these instructions are roughly based on the colab [here](https://colab.research.google.com/github/google/eng-edu/blob/main/ml/recommendation-systems/recommendation-systems.ipynb?utm_source=ss-recommendation-systems&utm_campaign=colab-external&utm_medium=referral&utm_content=recommendation-systems#scrollTo=O3bcgduFo4s6)."
      ],
      "metadata": {
        "id": "iaG6vAKyREej"
      }
    },
    {
      "cell_type": "code",
      "source": [
        "print(\"Downloading movielens data...\")\n",
        "\n",
        "urlretrieve('http://files.grouplens.org/datasets/movielens/ml-100k.zip', 'movielens.zip')\n",
        "zip_ref = zipfile.ZipFile('movielens.zip', 'r')\n",
        "zip_ref.extractall()\n",
        "print(\"Done. Dataset contains:\")\n",
        "print(zip_ref.read('ml-100k/u.info'))\n",
        "\n",
        "ratings_cols = ['user_id', 'movie_id', 'rating', 'unix_timestamp']\n",
        "ratings = pd.read_csv(\n",
        "    'ml-100k/u.data', sep='\\t', names=ratings_cols, encoding='latin-1')\n",
        "\n",
        "# The movies file contains a binary feature for each genre.\n",
        "genre_cols = [\n",
        "    \"genre_unknown\", \"Action\", \"Adventure\", \"Animation\", \"Children\", \"Comedy\",\n",
        "    \"Crime\", \"Documentary\", \"Drama\", \"Fantasy\", \"Film-Noir\", \"Horror\",\n",
        "    \"Musical\", \"Mystery\", \"Romance\", \"Sci-Fi\", \"Thriller\", \"War\", \"Western\"\n",
        "]\n",
        "movies_cols = [\n",
        "    'movie_id', 'title', 'release_date', \"video_release_date\", \"imdb_url\"\n",
        "] + genre_cols\n",
        "movies = pd.read_csv(\n",
        "    'ml-100k/u.item', sep='|', names=movies_cols, encoding='latin-1')"
      ],
      "metadata": {
        "id": "-wCvx2ukPm-3",
        "colab": {
          "base_uri": "https://localhost:8080/"
        },
        "outputId": "15520d47-df2b-41a0-9129-4413436aeaf0"
      },
      "execution_count": 3,
      "outputs": [
        {
          "output_type": "stream",
          "name": "stdout",
          "text": [
            "Downloading movielens data...\n",
            "Done. Dataset contains:\n",
            "b'943 users\\n1682 items\\n100000 ratings\\n'\n"
          ]
        }
      ]
    },
    {
      "cell_type": "markdown",
      "source": [
        "Before doing any kind of machine learning, it's always good to familiarize yourself with the datasets you'lll be working with.\n",
        "\n",
        "Here are your tasks:\n",
        "\n",
        "1. Spend some time familiarizing yourself with both the `movies` and `ratings` dataframes. How many unique user ids are present? How many unique movies are there?\n",
        "2. Create a new dataframe that merges the `movies` and `ratings` tables on 'movie_id'. Only keep the 'user_id', 'title', 'rating' fields in this new dataframe."
      ],
      "metadata": {
        "id": "pLAMVhnbR-Cy"
      }
    },
    {
      "cell_type": "code",
      "source": [
        "print(movies.head())\n",
        "print(ratings.head())# Spend some time familiarizing yourself with both the movies and ratings\n",
        "# dataframes. How many unique user ids are present? How many unique movies are there?\n",
        "nUsers = ratings['user_id'].unique().size\n",
        "print(f'\\n no: of users: {nUsers}')\n",
        "nMovies = ratings['movie_id'].unique().size\n",
        "print(f'\\n no: of movies: {nMovies}')"
      ],
      "metadata": {
        "id": "vp7Tx7H_P5f2",
        "colab": {
          "base_uri": "https://localhost:8080/"
        },
        "outputId": "2c020460-70ce-4b66-8749-5eb38135da2b"
      },
      "execution_count": 4,
      "outputs": [
        {
          "output_type": "stream",
          "name": "stdout",
          "text": [
            "   movie_id              title release_date  video_release_date  \\\n",
            "0         1   Toy Story (1995)  01-Jan-1995                 NaN   \n",
            "1         2   GoldenEye (1995)  01-Jan-1995                 NaN   \n",
            "2         3  Four Rooms (1995)  01-Jan-1995                 NaN   \n",
            "3         4  Get Shorty (1995)  01-Jan-1995                 NaN   \n",
            "4         5     Copycat (1995)  01-Jan-1995                 NaN   \n",
            "\n",
            "                                            imdb_url  genre_unknown  Action  \\\n",
            "0  http://us.imdb.com/M/title-exact?Toy%20Story%2...              0       0   \n",
            "1  http://us.imdb.com/M/title-exact?GoldenEye%20(...              0       1   \n",
            "2  http://us.imdb.com/M/title-exact?Four%20Rooms%...              0       0   \n",
            "3  http://us.imdb.com/M/title-exact?Get%20Shorty%...              0       1   \n",
            "4  http://us.imdb.com/M/title-exact?Copycat%20(1995)              0       0   \n",
            "\n",
            "   Adventure  Animation  Children  ...  Fantasy  Film-Noir  Horror  Musical  \\\n",
            "0          0          1         1  ...        0          0       0        0   \n",
            "1          1          0         0  ...        0          0       0        0   \n",
            "2          0          0         0  ...        0          0       0        0   \n",
            "3          0          0         0  ...        0          0       0        0   \n",
            "4          0          0         0  ...        0          0       0        0   \n",
            "\n",
            "   Mystery  Romance  Sci-Fi  Thriller  War  Western  \n",
            "0        0        0       0         0    0        0  \n",
            "1        0        0       0         1    0        0  \n",
            "2        0        0       0         1    0        0  \n",
            "3        0        0       0         0    0        0  \n",
            "4        0        0       0         1    0        0  \n",
            "\n",
            "[5 rows x 24 columns]\n",
            "   user_id  movie_id  rating  unix_timestamp\n",
            "0      196       242       3       881250949\n",
            "1      186       302       3       891717742\n",
            "2       22       377       1       878887116\n",
            "3      244        51       2       880606923\n",
            "4      166       346       1       886397596\n",
            "\n",
            " no: of users: 943\n",
            "\n",
            " no: of movies: 1682\n"
          ]
        }
      ]
    },
    {
      "cell_type": "code",
      "source": [
        "merged_df = pd.merge(movies, ratings, on='movie_id')\n",
        "merged_df.head()\n",
        "print(merged_df.head())# Merge movies and ratings dataframes"
      ],
      "metadata": {
        "id": "f6MrymMJRMjB",
        "colab": {
          "base_uri": "https://localhost:8080/"
        },
        "outputId": "e0f19354-ffe3-403f-96c5-46464eb15c49"
      },
      "execution_count": 5,
      "outputs": [
        {
          "output_type": "stream",
          "name": "stdout",
          "text": [
            "   movie_id             title release_date  video_release_date  \\\n",
            "0         1  Toy Story (1995)  01-Jan-1995                 NaN   \n",
            "1         1  Toy Story (1995)  01-Jan-1995                 NaN   \n",
            "2         1  Toy Story (1995)  01-Jan-1995                 NaN   \n",
            "3         1  Toy Story (1995)  01-Jan-1995                 NaN   \n",
            "4         1  Toy Story (1995)  01-Jan-1995                 NaN   \n",
            "\n",
            "                                            imdb_url  genre_unknown  Action  \\\n",
            "0  http://us.imdb.com/M/title-exact?Toy%20Story%2...              0       0   \n",
            "1  http://us.imdb.com/M/title-exact?Toy%20Story%2...              0       0   \n",
            "2  http://us.imdb.com/M/title-exact?Toy%20Story%2...              0       0   \n",
            "3  http://us.imdb.com/M/title-exact?Toy%20Story%2...              0       0   \n",
            "4  http://us.imdb.com/M/title-exact?Toy%20Story%2...              0       0   \n",
            "\n",
            "   Adventure  Animation  Children  ...  Musical  Mystery  Romance  Sci-Fi  \\\n",
            "0          0          1         1  ...        0        0        0       0   \n",
            "1          0          1         1  ...        0        0        0       0   \n",
            "2          0          1         1  ...        0        0        0       0   \n",
            "3          0          1         1  ...        0        0        0       0   \n",
            "4          0          1         1  ...        0        0        0       0   \n",
            "\n",
            "   Thriller  War  Western  user_id  rating  unix_timestamp  \n",
            "0         0    0        0      308       4       887736532  \n",
            "1         0    0        0      287       5       875334088  \n",
            "2         0    0        0      148       4       877019411  \n",
            "3         0    0        0      280       4       891700426  \n",
            "4         0    0        0       66       3       883601324  \n",
            "\n",
            "[5 rows x 27 columns]\n"
          ]
        }
      ]
    },
    {
      "cell_type": "markdown",
      "source": [
        "As mentioned in the introduction, content-Based Filtering is a recommendation engine approach that focuses on the attributes or features of items (products, movies, music, articles, etc.) and leverages these features to make personalized recommendations. The underlying idea is to match the characteristics of items with the preferences of users to suggest items that align with their interests. Content-based filtering is particularly useful when explicit user-item interactions (e.g., ratings or purchases) are sparse or unavailable.\n",
        "\n",
        "**Key Steps in Content-Based Filtering:**\n",
        "\n",
        "1. **Feature Extraction:**\n",
        "   - For each item, relevant features are extracted. These features are typically descriptive attributes that can be represented numerically, such as genre, director, actors, author, publication date, and keywords.\n",
        "   - In the case of text-based items, natural language processing techniques may be used to extract features like TF-IDF (Term Frequency-Inverse Document Frequency) scores.\n",
        "\n",
        "2. **User Profile Creation:**\n",
        "   - A user profile is created based on the items they have interacted with in the past. The user profile contains the weighted importance of features based on their interactions.\n",
        "   - For example, if a user has watched several action movies, the action genre feature would receive a higher weight in their profile.\n",
        "\n",
        "3. **Similarity Calculation:**\n",
        "   - The similarity between items or between items and the user profile is calculated using similarity metrics like cosine similarity, Euclidean distance, or Pearson correlation.\n",
        "   - Cosine similarity is commonly used as it measures the cosine of the angle between two vectors, which represents their similarity.\n",
        "\n",
        "4. **Recommendation:**\n",
        "   - Items that are most similar to the user profile are recommended to the user. These are items whose features have the highest similarity scores with the user profile.\n",
        "   - The recommended items are presented as a list sorted by their similarity scores.\n",
        "\n",
        "**Advantages of Content-Based Filtering:**\n",
        "1. **No Cold-Start Problem:** Content-based filtering can make recommendations even for new users with no historical interactions because it relies on item features rather than user history.\n",
        "\n",
        "2. **User Independence:** The recommendations are based solely on the features of items and do not require knowledge of other users' preferences or behavior.\n",
        "\n",
        "3. **Transparency:** Content-based recommendations are interpretable, as they depend on the features of items, making it easier for users to understand why specific items are recommended.\n",
        "\n",
        "4. **Serendipity:** Content-based filtering can recommend items with characteristics not seen before by the user, leading to serendipitous discoveries.\n",
        "\n",
        "5. **Diversity in Recommendations:** The method can offer diverse recommendations since it suggests items with different feature combinations.\n",
        "\n",
        "**Limitations of Content-Based Filtering:**\n",
        "1. **Limited Discovery:** Content-based filtering may struggle to recommend items outside the scope of users' historical interactions or interests.\n",
        "\n",
        "2. **Over-Specialization:** Users may receive recommendations that are too similar to their previous choices, leading to a lack of exposure to new item categories.\n",
        "\n",
        "3. **Dependency on Feature Quality:** The quality and relevance of item features significantly influence the quality of recommendations.\n",
        "\n",
        "4. **Limited for Cold Items:** Content-based filtering can struggle to recommend new items with limited feature information."
      ],
      "metadata": {
        "id": "_U44W0TMT3qf"
      }
    },
    {
      "cell_type": "markdown",
      "source": [
        "Here is your task:\n",
        "\n",
        "1. Write a function that takes in a user id and the dataframe you created before that contains 'user_id', 'title', and 'rating'. The function should return content-based recommendations for this user. Here are steps you can take:\n",
        "\n",
        "  A. Get the user's rated movies\n",
        "\n",
        "  B. Create a TF-IDF matrix using movie genres. Note, this can be extracted from the `movies` dataframe.\n",
        "\n",
        "  C. Compute the cosine similarity between movie genres. Use the [cosine_similarity](https://scikit-learn.org/stable/modules/generated/sklearn.metrics.pairwise.cosine_similarity.html) function.\n",
        "\n",
        "  D. Get the indices of similar movies to those rated by the user based on cosine similarity. Keep only the top 5.\n",
        "\n",
        "  E. Remove duplicates and movies already rated by the user."
      ],
      "metadata": {
        "id": "sbJGD7j7Ui-8"
      }
    },
    {
      "cell_type": "code",
      "source": [
        "# Content-Based Filtering using Movie Genres\n",
        "def content_based_recommendation(user_id, df):\n",
        "  # Get the user's rated movies\n",
        "  result = {}\n",
        "  user_movies = df[merged_df['user_id'] == user_id]\n",
        "  user_movie_index = user_movies['title'].apply(lambda x: movies[movies['title'] == x].index[0]).tolist()\n",
        "  umid = user_movies['movie_id'].tolist()\n",
        "\n",
        "  #Create a TF-IDF matrix using movie genres. Note, this can be extracted from the movies dataframe.\n",
        "\n",
        "  tfidf = TfidfTransformer()\n",
        "\n",
        "  movie_genres = movies[genre_cols]\n",
        "  tfidf_matrix = tfidf.fit_transform(movie_genres)\n",
        "\n",
        "  #Compute the cosine similarity between movie genres. Use the cosine_similarity function.\n",
        "  cosine_sim = cosine_similarity(tfidf_matrix, tfidf_matrix)\n",
        "\n",
        "  #Get the indices of similar movies to those rated by the user based on cosine similarity. Keep only the top 5 movies for each user_movie_index\n",
        "\n",
        "  indices = cosine_sim[user_movie_index].argsort()\n",
        "  similar_indices = indices[:, -5:]\n",
        "\n",
        "\n",
        "  #Test code\n",
        "  print(f'no: of movies rated by userId : {user_id} = {len(user_movie_index)}\\n')\n",
        "  print(f'printing first 10 movies rated by userId : {user_id} -- {user_movie_index[:10]}')\n",
        "  print(f'\\ncosine for 3rd movie with movie index: {user_movie_index[2:3]} : {cosine_sim[user_movie_index][2:3]}\\n')\n",
        "  first =cosine_sim[user_movie_index][2:3]\n",
        "  sorted_indices = first.argsort()\n",
        "  sorted_indices_descending = np.flip(sorted_indices)\n",
        "  print(f'sorted cosine for 3rd movie: {sorted_indices} \\n')\n",
        "  print('\\n---- last 5 values of the first 10 user_movies in cosines sorted ascending-------\\n')\n",
        "  print(indices[:10, -5:])\n",
        "\n",
        "\n",
        "\n",
        "  #get the elements corresponding to sorted indices in descending order\n",
        "\n",
        "  similar_movies = []\n",
        "  present = []\n",
        "  for i in range(similar_indices.shape[0]):\n",
        "    similar_movies.append([])\n",
        "\n",
        "  for i in range(similar_indices.shape[0]):\n",
        "    movie_key = movies[movies.index == user_movie_index[i]]['title'].values[0]\n",
        "    #print(movie_key)\n",
        "    for j in range(similar_indices.shape[1]):\n",
        "        index = similar_indices[i][j]\n",
        "\n",
        "        # Check if the index is in the movies DataFrame\n",
        "        if not np.isin(index, list(movies.index)):\n",
        "            similar_movies[i].append(None)\n",
        "        else:\n",
        "            movie_id = movies[movies.index == index]['movie_id'].values[0]\n",
        "            # Check if the movie_id is not in the user's rated movies\n",
        "            if movie_id not in umid:\n",
        "                m = movies[movies['movie_id'] == index]\n",
        "                # Check if the DataFrame is not empty before accessing its elements\n",
        "                if not m.empty:\n",
        "                    movie_title = m['title'].values[0]  # Extract the title from the DataFrame\n",
        "                    if movie_title not in present:\n",
        "                      # Avoid duplicates\n",
        "                      present.append(movie_title)\n",
        "                      similar_movies[i].append(movie_title)\n",
        "\n",
        "    result[movie_key] =  similar_movies[i]\n",
        "\n",
        "  return result, present\n"
      ],
      "metadata": {
        "id": "JwBQSC-POTzn"
      },
      "execution_count": 211,
      "outputs": []
    },
    {
      "cell_type": "code",
      "source": [
        "result_map, result_list = content_based_recommendation(22, merged_df)\n",
        "print(f'\\nResult Map: {result_map} \\n')\n",
        "print(f'Result List: {result_list}')\n"
      ],
      "metadata": {
        "colab": {
          "base_uri": "https://localhost:8080/"
        },
        "id": "OlXbnc6uA0Pi",
        "outputId": "da84e1f2-5f72-45d1-f84e-d4a2f812d2a3"
      },
      "execution_count": 212,
      "outputs": [
        {
          "output_type": "stream",
          "name": "stdout",
          "text": [
            "no: of movies rated by userId : 22 = 128\n",
            "\n",
            "printing first 10 movies rated by userId : 22 -- [1, 3, 16, 20, 23, 28, 49, 52, 61, 67]\n",
            "\n",
            "cosine for 3rd movie with movie index: [16] : [[0.10801791 0.43694049 0.40701128 ... 0.         0.30913614 0.        ]]\n",
            "\n",
            "sorted cosine for 3rd movie: [[1681  470 1084 ...  272  395   16]] \n",
            "\n",
            "\n",
            "---- last 5 values of the first 10 user_movies in cosines sorted ascending-------\n",
            "\n",
            "[[ 565  929    1 1015 1104]\n",
            " [1180 1182  875   73    3]\n",
            " [ 306 1138  272  395   16]\n",
            " [1313  117  185  361   20]\n",
            " [  28  402  575  253   23]\n",
            " [  23  253  575  230   28]\n",
            " [ 497  270  171   49  180]\n",
            " [1547   78 1594  545  840]\n",
            " [ 227  228  229   61  448]\n",
            " [ 567   32 1088  750   67]]\n",
            "\n",
            "Result Map: {'GoldenEye (1995)': ['Harriet the Spy (1996)', 'Shiloh (1997)', \"C'est arrivé près de chez vous (1992)\"], 'Get Shorty (1995)': ['I Love Trouble (1994)', 'Cops and Robbersons (1994)', \"She's So Lovely (1997)\", 'Maverick (1994)'], 'From Dusk Till Dawn (1996)': ['Mrs. Brown (Her Majesty, Mrs. Brown) (1997)', 'Best Men (1997)', 'Good Will Hunting (1997)', 'Robin Hood: Men in Tights (1993)'], 'Muppet Treasure Island (1996)': ['Palmetto (1998)', 'Incognito (1997)'], 'Rumble in the Bronx (1995)': [\"City Slickers II: The Legend of Curly's Gold (1994)\", 'Pillow Book, The (1995)'], 'Batman Forever (1995)': [], 'Star Wars (1977)': ['Bringing Up Baby (1938)', 'Gattaca (1997)'], 'Natural Born Killers (1994)': ['Show, The (1995)', 'Everest (1998)', 'Last Man Standing (1996)'], 'Stargate (1994)': [], 'Crow, The (1994)': ['Crumb (1994)', 'Double Team (1997)', 'Amistad (1997)'], 'Fugitive, The (1993)': [], 'Hot Shots! Part Deux (1993)': ['Godfather: Part II, The (1974)', 'Crash (1996)'], 'Ref, The (1994)': ['Nutty Professor, The (1996)', 'Kundun (1997)', 'Surviving Picasso (1996)', 'Babysitter, The (1995)'], 'Blade Runner (1982)': ['Woman in Question, The (1950)', 'Bhaji on the Beach (1993)', 'Roman Holiday (1953)', 'Seven Years in Tibet (1997)'], 'Home Alone (1990)': ['Stargate (1994)', 'Anastasia (1997)', 'Pollyanna (1960)', 'D3: The Mighty Ducks (1996)', 'Event Horizon (1997)'], 'Terminator 2: Judgment Day (1991)': ['Great White Hype, The (1996)', \"Ulee's Gold (1997)\", 'Primary Colors (1998)', 'Devil in a Blue Dress (1995)', 'Shopping (1994)'], 'Sgt. Bilko (1996)': [], 'Mystery Science Theater 3000: The Movie (1996)': ['Cinema Paradiso (1988)', 'Cliffhanger (1993)', 'Hideaway (1995)'], 'Operation Dumbo Drop (1995)': ['Treasure of the Sierra Madre, The (1948)', \"Daniel Defoe's Robinson Crusoe (1996)\"], 'Rock, The (1996)': [], 'Twister (1996)': [], 'Independence Day (ID4) (1996)': ['James and the Giant Peach (1996)', 'Jaws (1975)'], 'Godfather, The (1972)': ['Nightwatch (1997)', 'American Dream (1990)', 'Manhattan Murder Mystery (1993)'], 'Supercop (1992)': [], 'Die Hard (1988)': [], 'Fish Called Wanda, A (1988)': [], \"Monty Python's Life of Brian (1979)\": [], 'Top Gun (1986)': ['Midnight in the Garden of Good and Evil (1997)', 'Akira (1988)', 'Gate of Heavenly Peace, The (1995)', 'Murder, My Sweet (1944)'], 'Return of the Pink Panther, The (1974)': [], 'Private Benjamin (1980)': [], 'Monty Python and the Holy Grail (1974)': [], 'Empire Strikes Back, The (1980)': [], 'Princess Bride, The (1987)': ['Canadian Bacon (1994)', 'Full Speed (1996)'], 'Raiders of the Lost Ark (1981)': ['Homeward Bound II: Lost in San Francisco (1996)', 'Money Train (1995)', 'Long Kiss Goodnight, The (1996)', 'Hunt for Red October, The (1990)'], 'Brazil (1985)': ['Backbeat (1993)', 'Lord of Illusions (1995)', 'Fair Game (1995)', \"Roseanna's Grave (For Roseanna) (1997)\"], 'Aliens (1986)': ['That Darn Cat! (1997)'], 'Return of the Jedi (1983)': [], 'Army of Darkness (1993)': ['Wild Bunch, The (1969)', 'Spice World (1997)', 'When the Cats Away (Chacun cherche son chat) (1996)'], 'Blues Brothers, The (1980)': ['Prophecy II, The (1998)', 'Oliver & Company (1988)', 'Month by the Lake, A (1995)'], 'Godfather: Part II, The (1974)': [], 'Sting, The (1973)': ['Turbo: A Power Rangers Movie (1997)', 'Flirt (1995)', 'Apartment, The (1960)', \"I Don't Want to Talk About It (De eso no se habla) (1993)\"], 'Terminator, The (1984)': [], 'Evil Dead II (1987)': ['Grease (1978)', 'Jaws 2 (1978)'], 'Groundhog Day (1993)': ['Hearts and Minds (1996)', 'Ice Storm, The (1997)', 'Sirens (1994)', 'Meet Wally Sparks (1997)', 'Nightmare on Elm Street, A (1984)'], 'Back to the Future (1985)': [], 'Young Frankenstein (1974)': ['Amityville: Dollhouse (1996)', 'Cable Guy, The (1996)', 'Braindead (1992)', 'Bloody Child, The (1996)', 'Purple Noon (1960)'], 'This Is Spinal Tap (1984)': ['Love Affair (1994)'], 'Indiana Jones and the Last Crusade (1989)': [], 'M*A*S*H (1970)': ['Hear My Song (1991)'], 'When Harry Met Sally... (1989)': [], 'Star Trek: First Contact (1996)': [], 'Die Hard 2 (1990)': [], 'Star Trek VI: The Undiscovered Country (1991)': [], 'Star Trek: The Wrath of Khan (1982)': [], 'Star Trek III: The Search for Spock (1984)': [], 'Star Trek IV: The Voyage Home (1986)': [], 'Batman Returns (1992)': [], 'Under Siege (1992)': ['Night Flier (1997)', 'In the Company of Men (1997)', 'Lay of the Land, The (1997)', 'Machine, The (1994)', \"It's My Party (1995)\"], 'Raising Arizona (1987)': [], 'Last of the Mohicans, The (1992)': ['Last Time I Saw Paris, The (1954)', \"Ed's Next Move (1996)\", 'Original Gangstas (1996)', 'Great Race, The (1965)'], 'Fifth Element, The (1997)': ['Coneheads (1993)', 'In the Realm of the Senses (Ai no corrida) (1976)', 'Speechless (1994)', 'Joy Luck Club, The (1993)'], 'Contact (1997)': ['Shanghai Triad (Yao a yao yao dao waipo qiao) (1995)', 'Harold and Maude (1971)', 'Double vie de Véronique, La (Double Life of Veronique, The) (1991)'], 'Hunt for Red October, The (1990)': [], 'Fierce Creatures (1997)': [], 'Liar Liar (1997)': [], 'Spawn (1997)': ['Return of the Pink Panther, The (1974)', 'Shall We Dance? (1996)', 'Power 98 (1995)'], 'Clueless (1995)': [], 'Houseguest (1994)': [], 'Heavyweights (1994)': [], 'Naked Gun 33 1/3: The Final Insult (1994)': [], 'True Lies (1994)': [], 'Addams Family Values (1993)': [], 'Mrs. Doubtfire (1993)': [], 'Three Musketeers, The (1993)': ['Alaska (1996)', 'To Catch a Thief (1955)', 'Tango Lesson, The (1997)'], 'Batman (1989)': [], 'Mission: Impossible (1996)': ['Program, The (1993)', 'Casper (1995)'], 'Spy Hard (1996)': [], 'Nutty Professor, The (1996)': ['I, Worst of All (Yo, la peor de todas) (1990)', 'Aladdin and the King of Thieves (1996)', 'Cool Runnings (1993)', 'Interview with the Vampire (1994)'], 'Duck Soup (1933)': [], 'Highlander (1986)': [], 'Heathers (1989)': [], 'Butch Cassidy and the Sundance Kid (1969)': ['Aliens (1986)', 'Switchblade Sisters (1975)', 'Mask, The (1994)', 'Batman Returns (1992)'], 'Star Trek: The Motion Picture (1979)': [], 'Grease (1978)': ['Princess Caraboo (1994)', \"Schindler's List (1993)\", 'Drop Dead Fred (1991)', 'Maybe, Maybe Not (Bewegte Mann, Der) (1994)'], \"Jackie Chan's First Strike (1996)\": [], 'Beverly Hills Ninja (1997)': ['Fear of a Black Hat (1993)', 'Man in the Iron Mask, The (1998)', 'Soul Food (1997)'], 'Bananas (1971)': [], 'Magnificent Seven, The (1954)': [], 'Lawrence of Arabia (1962)': [], 'Boot, Das (1981)': ['Hard Target (1993)', 'Muppet Treasure Island (1996)'], 'Cool Hand Luke (1967)': ['Jackie Brown (1997)', 'Apostle, The (1997)', 'Two Much (1996)', 'Fire Down Below (1997)', 'Vermont Is For Lovers (1992)'], 'Ben-Hur (1959)': ['Conan the Barbarian (1981)'], 'Broken Arrow (1996)': [], 'Die Hard: With a Vengeance (1995)': [], 'Waterworld (1995)': [], 'Clear and Present Danger (1994)': [], 'Speed (1994)': [], 'Escape from New York (1981)': [], 'Quiet Man, The (1952)': [], 'Glory (1989)': [], 'Alien 3 (1992)': ['Man Who Knew Too Little, The (1997)', 'GoodFellas (1990)'], 'Rocket Man (1997)': [], 'In the Line of Fire (1993)': [], \"McHale's Navy (1997)\": [], 'Leave It to Beaver (1997)': [], 'American President, The (1995)': ['Lawrence of Arabia (1962)', 'Red Firecracker, Green Firecracker (1994)', 'Paradise Road (1997)', 'Wrong Trousers, The (1993)'], 'Tin Men (1987)': [], 'Corrina, Corrina (1994)': [], 'Dave (1993)': [], 'Dumb & Dumber (1994)': [], 'Baby-Sitters Club, The (1995)': ['Exit to Eden (1994)', 'Apple Dumpling Gang, The (1975)', 'Police Story 4: Project S (Chao ji ji hua) (1993)', 'Portrait of a Lady, The (1996)'], 'Bullets Over Broadway (1994)': [], 'Last Man Standing (1996)': [], 'Jingle All the Way (1996)': ['Selena (1997)', 'Jefferson in Paris (1995)', 'Reckless (1995)', 'Swingers (1996)'], 'Vegas Vacation (1997)': [], 'That Darn Cat! (1997)': [], 'Down Periscope (1996)': [], 'First Kid (1996)': [], 'Booty Call (1997)': [], 'Beautician and the Beast, The (1997)': [], 'Big Green, The (1995)': [], 'Stuart Saves His Family (1995)': [], 'Cabin Boy (1994)': [], 'Clean Slate (1994)': [], 'Lightning Jack (1994)': ['Beauty and the Beast (1991)', 'Angel and the Badman (1947)', 'Groundhog Day (1993)', 'Boxing Helena (1993)'], 'Stupids, The (1996)': [], 'Pest, The (1997)': []} \n",
            "\n",
            "Result List: ['Harriet the Spy (1996)', 'Shiloh (1997)', \"C'est arrivé près de chez vous (1992)\", 'I Love Trouble (1994)', 'Cops and Robbersons (1994)', \"She's So Lovely (1997)\", 'Maverick (1994)', 'Mrs. Brown (Her Majesty, Mrs. Brown) (1997)', 'Best Men (1997)', 'Good Will Hunting (1997)', 'Robin Hood: Men in Tights (1993)', 'Palmetto (1998)', 'Incognito (1997)', \"City Slickers II: The Legend of Curly's Gold (1994)\", 'Pillow Book, The (1995)', 'Bringing Up Baby (1938)', 'Gattaca (1997)', 'Show, The (1995)', 'Everest (1998)', 'Last Man Standing (1996)', 'Crumb (1994)', 'Double Team (1997)', 'Amistad (1997)', 'Godfather: Part II, The (1974)', 'Crash (1996)', 'Nutty Professor, The (1996)', 'Kundun (1997)', 'Surviving Picasso (1996)', 'Babysitter, The (1995)', 'Woman in Question, The (1950)', 'Bhaji on the Beach (1993)', 'Roman Holiday (1953)', 'Seven Years in Tibet (1997)', 'Stargate (1994)', 'Anastasia (1997)', 'Pollyanna (1960)', 'D3: The Mighty Ducks (1996)', 'Event Horizon (1997)', 'Great White Hype, The (1996)', \"Ulee's Gold (1997)\", 'Primary Colors (1998)', 'Devil in a Blue Dress (1995)', 'Shopping (1994)', 'Cinema Paradiso (1988)', 'Cliffhanger (1993)', 'Hideaway (1995)', 'Treasure of the Sierra Madre, The (1948)', \"Daniel Defoe's Robinson Crusoe (1996)\", 'James and the Giant Peach (1996)', 'Jaws (1975)', 'Nightwatch (1997)', 'American Dream (1990)', 'Manhattan Murder Mystery (1993)', 'Midnight in the Garden of Good and Evil (1997)', 'Akira (1988)', 'Gate of Heavenly Peace, The (1995)', 'Murder, My Sweet (1944)', 'Canadian Bacon (1994)', 'Full Speed (1996)', 'Homeward Bound II: Lost in San Francisco (1996)', 'Money Train (1995)', 'Long Kiss Goodnight, The (1996)', 'Hunt for Red October, The (1990)', 'Backbeat (1993)', 'Lord of Illusions (1995)', 'Fair Game (1995)', \"Roseanna's Grave (For Roseanna) (1997)\", 'That Darn Cat! (1997)', 'Wild Bunch, The (1969)', 'Spice World (1997)', 'When the Cats Away (Chacun cherche son chat) (1996)', 'Prophecy II, The (1998)', 'Oliver & Company (1988)', 'Month by the Lake, A (1995)', 'Turbo: A Power Rangers Movie (1997)', 'Flirt (1995)', 'Apartment, The (1960)', \"I Don't Want to Talk About It (De eso no se habla) (1993)\", 'Grease (1978)', 'Jaws 2 (1978)', 'Hearts and Minds (1996)', 'Ice Storm, The (1997)', 'Sirens (1994)', 'Meet Wally Sparks (1997)', 'Nightmare on Elm Street, A (1984)', 'Amityville: Dollhouse (1996)', 'Cable Guy, The (1996)', 'Braindead (1992)', 'Bloody Child, The (1996)', 'Purple Noon (1960)', 'Love Affair (1994)', 'Hear My Song (1991)', 'Night Flier (1997)', 'In the Company of Men (1997)', 'Lay of the Land, The (1997)', 'Machine, The (1994)', \"It's My Party (1995)\", 'Last Time I Saw Paris, The (1954)', \"Ed's Next Move (1996)\", 'Original Gangstas (1996)', 'Great Race, The (1965)', 'Coneheads (1993)', 'In the Realm of the Senses (Ai no corrida) (1976)', 'Speechless (1994)', 'Joy Luck Club, The (1993)', 'Shanghai Triad (Yao a yao yao dao waipo qiao) (1995)', 'Harold and Maude (1971)', 'Double vie de Véronique, La (Double Life of Veronique, The) (1991)', 'Return of the Pink Panther, The (1974)', 'Shall We Dance? (1996)', 'Power 98 (1995)', 'Alaska (1996)', 'To Catch a Thief (1955)', 'Tango Lesson, The (1997)', 'Program, The (1993)', 'Casper (1995)', 'I, Worst of All (Yo, la peor de todas) (1990)', 'Aladdin and the King of Thieves (1996)', 'Cool Runnings (1993)', 'Interview with the Vampire (1994)', 'Aliens (1986)', 'Switchblade Sisters (1975)', 'Mask, The (1994)', 'Batman Returns (1992)', 'Princess Caraboo (1994)', \"Schindler's List (1993)\", 'Drop Dead Fred (1991)', 'Maybe, Maybe Not (Bewegte Mann, Der) (1994)', 'Fear of a Black Hat (1993)', 'Man in the Iron Mask, The (1998)', 'Soul Food (1997)', 'Hard Target (1993)', 'Muppet Treasure Island (1996)', 'Jackie Brown (1997)', 'Apostle, The (1997)', 'Two Much (1996)', 'Fire Down Below (1997)', 'Vermont Is For Lovers (1992)', 'Conan the Barbarian (1981)', 'Man Who Knew Too Little, The (1997)', 'GoodFellas (1990)', 'Lawrence of Arabia (1962)', 'Red Firecracker, Green Firecracker (1994)', 'Paradise Road (1997)', 'Wrong Trousers, The (1993)', 'Exit to Eden (1994)', 'Apple Dumpling Gang, The (1975)', 'Police Story 4: Project S (Chao ji ji hua) (1993)', 'Portrait of a Lady, The (1996)', 'Selena (1997)', 'Jefferson in Paris (1995)', 'Reckless (1995)', 'Swingers (1996)', 'Foreign Correspondent (1940)', 'Jimmy Hollywood (1994)', '8 Seconds (1994)', 'Beauty and the Beast (1991)', 'Angel and the Badman (1947)', 'Groundhog Day (1993)', 'Boxing Helena (1993)']\n"
          ]
        }
      ]
    },
    {
      "cell_type": "markdown",
      "source": [
        "The key idea behind collaborative filtering is that users who have agreed in the past will likely agree in the future. Instead of relying on item attributes or user profiles, collaborative filtering identifies patterns of user behavior and item preferences from the interactions present in the data.\n",
        "\n",
        "**Types of Collaborative Filtering:**\n",
        "There are two main types of collaborative filtering:\n",
        "\n",
        "**Collaborative Filtering Process:**\n",
        "The collaborative filtering process typically involves the following steps:\n",
        "\n",
        "1. **Data Collection:**\n",
        "   - Gather data on user-item interactions, such as movie ratings, product purchases, or article clicks.\n",
        "\n",
        "2. **User-Item Matrix:**\n",
        "   - Organize the data into a user-item matrix, where rows represent users, columns represent items, and the entries contain the users' interactions (e.g., ratings).\n",
        "\n",
        "3. **Similarity Calculation:**\n",
        "   - Calculate the similarity between users or items using similarity metrics such as cosine similarity, Pearson correlation, or Jaccard similarity.\n",
        "   - For user-based collaborative filtering, user similarities are calculated, and for item-based collaborative filtering, item similarities are calculated.\n",
        "\n",
        "4. **Neighborhood Selection:**\n",
        "   - For each user or item, select the most similar users or items as the neighborhood.\n",
        "   - The size of the neighborhood (the number of similar users or items to consider) is an important parameter to control the system's behavior.\n",
        "\n",
        "5. **Prediction Generation:**\n",
        "   - Predict the ratings for items that the target user has not yet interacted with by combining the ratings of neighboring users or items.\n",
        "\n",
        "6. **Recommendation Generation:**\n",
        "   - Recommend items with the highest predicted ratings to the target user.\n",
        "\n",
        "**Advantages of Collaborative Filtering using User-Item Interactions:**\n",
        "- Collaborative filtering is based solely on user interactions and does not require knowledge of item attributes, making it useful for cases where item data is sparse or unavailable.\n",
        "- It can provide serendipitous recommendations, suggesting items that users may not have discovered on their own.\n",
        "- Collaborative filtering can be applied in various domains, including e-commerce, music, movie, and content recommendations.\n",
        "\n",
        "**Limitations of Collaborative Filtering:**\n",
        "- The cold-start problem: Collaborative filtering struggles to recommend to new users or items with no or limited interaction history.\n",
        "- It may suffer from sparsity when data is limited or when users have only interacted with a small subset of items.\n",
        "- Scalability issues can arise with large datasets and an increasing number of users or items."
      ],
      "metadata": {
        "id": "2NNt3gHLYDxU"
      }
    },
    {
      "cell_type": "markdown",
      "source": [
        "Here is your task:\n",
        "\n",
        "1. Write a function that takes in a user id and the dataframe you created before that contains 'user_id', 'title', and 'rating'. The function should return collaborative filtering recommendations for this user based on a user-item interaction matrix. Here are steps you can take:\n",
        "\n",
        "  A. Create the user-item matrix using Pandas' [pivot_table](https://pandas.pydata.org/docs/reference/api/pandas.pivot_table.html).\n",
        "\n",
        "  B. Fill missing values with zeros in this matrix.\n",
        "\n",
        "  C. Calculate user-user similarity matrix using cosine similarity.\n",
        "\n",
        "  D. Get the array of similarity scores of the target user with all other users from the similarity matrix.\n",
        "\n",
        "  E. Extract, say the the top 5 most similar users (excluding the target user).\n",
        "\n",
        "  F. Generate movie recommendations based on the most similar users.\n",
        "\n",
        "  G. Remove duplicate movies recommendations."
      ],
      "metadata": {
        "id": "ks4mWyCaYVNY"
      }
    },
    {
      "cell_type": "code",
      "source": [
        "# Collaborative Filtering using User-Item Interactions\n",
        "def collaborative_filtering_recommendation(user_id, df):\n",
        "  # Create the user-item matrix\n",
        "  user_item_matrix = df.pivot_table(index='user_id', columns='title', values='rating')\n",
        "  # Fill missing values with 0 (indicating no rating)\n",
        "  user_item_matrix = user_item_matrix.fillna(0)\n",
        "  # Calculate user-user similarity matrix using cosine similarity\n",
        "  user_similarity = cosine_similarity(user_item_matrix)\n",
        "  # Get the array of similarity scores of the target user with all other users\n",
        "  target_user_similarity = user_similarity[user_id - 1]\n",
        "  # Find the top N most similar users (excluding the target user)\n",
        "  top_similar_users_indices = np.argsort(target_user_similarity)[::-1][:6]\n",
        "  top_similar_users = [user + 1 for user in top_similar_users_indices]\n",
        "  print(f'top_similar_users:{top_similar_users}\\n')\n",
        "  top_similar_users = top_similar_users[1:]\n",
        "  print(f'top_similar_users excluding self:{top_similar_users}\\n')\n",
        "  # Generate movie recommendations based on the most similar users\n",
        "\n",
        "  #Find indices of movies not rated by user_id\n",
        "  unrated_movies_indices = user_item_matrix.columns[user_item_matrix.loc[user_id] == 0].tolist()\n",
        "  print(f'unrated_movies_indices for {user_id}:{sorted(unrated_movies_indices)}\\n')\n",
        "\n",
        "  recommendations = {}\n",
        "  for user_index in top_similar_users:\n",
        "    # Get top rated movies of user_index\n",
        "    top_rated_movies_user_id = user_item_matrix.loc[user_index].sort_values(ascending=False).head(100).index.tolist()\n",
        "    # Remove duplicates(already watched movies) from recommendations\n",
        "    top_unrated_movies_user_id = [movie for movie in top_rated_movies_user_id if movie in unrated_movies_indices]\n",
        "    print(f'filtered user_ratings size for {user_index }:{len(top_unrated_movies_user_id)}\\n')\n",
        "    recommendations[user_index] = top_unrated_movies_user_id\n",
        "    print(f'top 10 sorted movies for {user_index }:{sorted(top_unrated_movies_user_id[:10])}\\n')\n",
        "  return recommendations"
      ],
      "metadata": {
        "id": "BqZPgKRDWf-c"
      },
      "execution_count": 206,
      "outputs": []
    },
    {
      "cell_type": "markdown",
      "source": [
        "Now, test your recommendations engines! Select a few user ids and generate recommendations using both functions you've written. Are the recommendations similar? Do the recommendations make sense?"
      ],
      "metadata": {
        "id": "-Jj883VAZRNe"
      }
    },
    {
      "cell_type": "code",
      "source": [
        "# Test the recommendation engines\n",
        "r_map = collaborative_filtering_recommendation(22, merged_df)\n",
        "r_list = sorted(set(item for sublist in r_map.values() for item in sublist))\n",
        "\n",
        "print(f'\\nResults map:{r_map} \\n')\n",
        "print(f'Results List:{r_list}')"
      ],
      "metadata": {
        "id": "kt9nuOTNJXz8",
        "colab": {
          "base_uri": "https://localhost:8080/"
        },
        "outputId": "03a9ca6e-a196-4419-bbc6-7dc5079c2dbf"
      },
      "execution_count": 207,
      "outputs": [
        {
          "output_type": "stream",
          "name": "stdout",
          "text": [
            "top_similar_users:[22, 638, 746, 158, 648, 102]\n",
            "\n",
            "top_similar_users excluding self:[638, 746, 158, 648, 102]\n",
            "\n",
            "unrated_movies_indices for 22:[\"'Til There Was You (1997)\", '1-900 (1994)', '101 Dalmatians (1996)', '12 Angry Men (1957)', '187 (1997)', '2 Days in the Valley (1996)', '20,000 Leagues Under the Sea (1954)', '2001: A Space Odyssey (1968)', '3 Ninjas: High Noon At Mega Mountain (1998)', '39 Steps, The (1935)', '8 1/2 (1963)', '8 Heads in a Duffel Bag (1997)', '8 Seconds (1994)', 'A Chef in Love (1996)', 'Above the Rim (1994)', 'Absolute Power (1997)', 'Abyss, The (1989)', 'Ace Ventura: Pet Detective (1994)', 'Ace Ventura: When Nature Calls (1995)', 'Across the Sea of Time (1995)', 'Addicted to Love (1997)', 'Addiction, The (1995)', 'Adventures of Pinocchio, The (1996)', 'Adventures of Priscilla, Queen of the Desert, The (1994)', 'Adventures of Robin Hood, The (1938)', 'Affair to Remember, An (1957)', 'African Queen, The (1951)', 'Afterglow (1997)', 'Age of Innocence, The (1993)', 'Aiqing wansui (1994)', 'Air Bud (1997)', 'Air Force One (1997)', 'Air Up There, The (1994)', 'Airheads (1994)', 'Akira (1988)', 'Aladdin (1992)', 'Aladdin and the King of Thieves (1996)', 'Alaska (1996)', 'Albino Alligator (1996)', 'Alice in Wonderland (1951)', 'Alien (1979)', 'Alien: Resurrection (1997)', 'All About Eve (1950)', 'All Dogs Go to Heaven 2 (1996)', 'All Over Me (1997)', 'All Things Fair (1996)', 'Alphaville (1965)', 'Amadeus (1984)', 'Amateur (1994)', 'Amazing Panda Adventure, The (1995)', 'American Buffalo (1996)', 'American Dream (1990)', 'American Strays (1996)', 'American Werewolf in London, An (1981)', 'American in Paris, An (1951)', 'Amistad (1997)', \"Amityville 1992: It's About Time (1992)\", 'Amityville 3-D (1983)', 'Amityville Curse, The (1990)', 'Amityville Horror, The (1979)', 'Amityville II: The Possession (1982)', 'Amityville: A New Generation (1993)', 'Amityville: Dollhouse (1996)', 'Amos & Andrew (1993)', 'An Unforgettable Summer (1994)', 'Anaconda (1997)', 'Anastasia (1997)', 'Andre (1994)', 'Angel Baby (1995)', 'Angel and the Badman (1947)', 'Angel on My Shoulder (1946)', 'Angela (1995)', 'Angels and Insects (1995)', 'Angels in the Outfield (1994)', 'Angus (1995)', 'Anna (1996)', 'Anna Karenina (1997)', 'Anne Frank Remembered (1995)', 'Annie Hall (1977)', 'Another Stakeout (1993)', \"Antonia's Line (1995)\", 'Aparajito (1956)', 'Apartment, The (1960)', 'Apocalypse Now (1979)', 'Apollo 13 (1995)', 'Apostle, The (1997)', 'Apple Dumpling Gang, The (1975)', \"April Fool's Day (1986)\", 'Apt Pupil (1998)', 'Aristocats, The (1970)', 'Around the World in 80 Days (1956)', 'Arrival, The (1996)', 'Arsenic and Old Lace (1944)', 'As Good As It Gets (1997)', 'Assassins (1995)', 'Assignment, The (1997)', 'Associate, The (1996)', 'Audrey Rose (1977)', 'August (1996)', 'Austin Powers: International Man of Mystery (1997)', 'Awfully Big Adventure, An (1995)', 'Ayn Rand: A Sense of Life (1997)', 'B*A*P*S (1997)', 'B. Monkey (1998)', 'Babe (1995)', 'Babyfever (1994)', 'Babysitter, The (1995)', 'Backbeat (1993)', 'Bad Boys (1995)', 'Bad Company (1995)', 'Bad Girls (1994)', 'Bad Moon (1996)', 'Bad Taste (1987)', 'Ballad of Narayama, The (Narayama Bushiko) (1958)', 'Balto (1995)', 'Band Wagon, The (1953)', 'Barb Wire (1996)', 'Barbarella (1968)', 'Barcelona (1994)', 'Basic Instinct (1992)', 'Basketball Diaries, The (1995)', 'Basquiat (1996)', 'Bastard Out of Carolina (1996)', 'Batman & Robin (1997)', 'Baton Rouge (1988)', 'Bean (1997)', 'Beans of Egypt, Maine, The (1994)', 'Beat the Devil (1954)', 'Beautiful Girls (1996)', 'Beautiful Thing (1996)', 'Beauty and the Beast (1991)', 'Beavis and Butt-head Do America (1996)', 'Bed of Roses (1996)', 'Bedknobs and Broomsticks (1971)', 'Before Sunrise (1995)', 'Before and After (1996)', 'Before the Rain (Pred dozhdot) (1994)', 'Being Human (1993)', 'Being There (1979)', 'Believers, The (1987)', 'Belle de jour (1967)', 'Benny & Joon (1993)', 'Bent (1997)', 'Best Men (1997)', 'Best of the Best 3: No Turning Back (1995)', 'Better Off Dead... (1985)', 'Beverly Hillbillies, The (1993)', 'Beverly Hills Cop III (1994)', 'Bewegte Mann, Der (1994)', 'Beyond Bedlam (1993)', 'Beyond Rangoon (1995)', 'Bhaji on the Beach (1993)', 'Big Bang Theory, The (1994)', 'Big Blue, The (Grand bleu, Le) (1988)', 'Big Bully (1996)', 'Big Lebowski, The (1998)', 'Big Night (1996)', 'Big One, The (1997)', 'Big Sleep, The (1946)', 'Big Squeeze, The (1996)', 'Billy Madison (1995)', 'Bio-Dome (1996)', 'Bird of Prey (1996)', 'Birdcage, The (1996)', 'Birds, The (1963)', 'Bitter Moon (1992)', 'Bitter Sugar (Azucar Amargo) (1996)', 'Black Beauty (1994)', 'Black Sheep (1996)', 'Blink (1994)', 'Bliss (1997)', 'Blob, The (1958)', 'Blood & Wine (1997)', 'Blood Beach (1981)', \"Blood For Dracula (Andy Warhol's Dracula) (1974)\", 'Bloodsport 2 (1995)', 'Bloody Child, The (1996)', 'Blown Away (1994)', 'Blue Angel, The (Blaue Engel, Der) (1930)', 'Blue Chips (1994)', 'Blue Sky (1994)', 'Blue in the Face (1995)', 'Blues Brothers 2000 (1998)', 'Bob Roberts (1992)', 'Body Parts (1991)', 'Body Snatcher, The (1945)', 'Body Snatchers (1993)', 'Bogus (1996)', 'Bonheur, Le (1965)', 'Bonnie and Clyde (1967)', 'Boogie Nights (1997)', 'Boomerang (1992)', 'Bottle Rocket (1996)', 'Bound (1996)', 'Boxing Helena (1993)', \"Boy's Life 2 (1997)\", 'Boys (1996)', 'Boys Life (1995)', 'Boys in Venice (1996)', 'Boys of St. Vincent, The (1993)', 'Boys on the Side (1995)', 'Boys, Les (1997)', 'Brady Bunch Movie, The (1995)', 'Braindead (1992)', \"Bram Stoker's Dracula (1992)\", 'Brassed Off (1996)', 'Braveheart (1995)', 'Bread and Chocolate (Pane e cioccolata) (1973)', 'Breakdown (1997)', \"Breakfast at Tiffany's (1961)\", 'Breaking the Waves (1996)', 'Bride of Frankenstein (1935)', 'Bridge on the River Kwai, The (1957)', 'Bridges of Madison County, The (1995)', 'Bringing Up Baby (1938)', 'Broken English (1996)', 'Bronx Tale, A (1993)', 'Brother Minister: The Assassination of Malcolm X (1994)', \"Brother's Kiss, A (1997)\", 'Brothers McMullen, The (1995)', 'Brothers in Trouble (1995)', 'Browning Version, The (1994)', 'Buddy (1997)', 'Bulletproof (1996)', 'Burnt By the Sun (1994)', 'Burnt Offerings (1976)', 'Bushwhacked (1995)', 'Butcher Boy, The (1998)', 'Butterfly Kiss (1995)', 'Bye Bye, Love (1995)', \"C'est arrivé près de chez vous (1992)\", 'Cable Guy, The (1996)', 'Calendar Girl (1993)', 'Canadian Bacon (1994)', 'Candidate, The (1972)', 'Candyman (1992)', 'Candyman: Farewell to the Flesh (1995)', 'Cape Fear (1962)', 'Cape Fear (1991)', 'Captives (1994)', 'Career Girls (1997)', 'Careful (1992)', \"Carlito's Way (1993)\", 'Carmen Miranda: Bananas Is My Business (1994)', 'Caro Diario (Dear Diary) (1994)', 'Carpool (1996)', 'Carrie (1976)', 'Carried Away (1996)', 'Carrington (1995)', 'Casablanca (1942)', 'Casino (1995)', 'Casper (1995)', 'Castle Freak (1995)', 'Cat People (1982)', 'Cat on a Hot Tin Roof (1958)', \"Cats Don't Dance (1997)\", 'Catwalk (1995)', 'Caught (1996)', 'Celestial Clockwork (1994)', 'Celluloid Closet, The (1995)', 'Celtic Pride (1996)', 'Cement Garden, The (1993)', 'Cemetery Man (Dellamorte Dellamore) (1994)', 'Century (1993)', 'Chain Reaction (1996)', 'Chairman of the Board (1998)', 'Chamber, The (1996)', 'Charade (1963)', 'Chasers (1994)', 'Chasing Amy (1997)', 'Children of the Corn: The Gathering (1996)', 'Children of the Revolution (1996)', 'Chinatown (1974)', 'Christmas Carol, A (1938)', 'Chungking Express (1994)', 'Ciao, Professore! (1993)', 'Cinderella (1950)', 'Cinema Paradiso (1988)', 'Circle of Friends (1995)', 'Citizen Kane (1941)', 'Citizen Ruth (1996)', 'City Hall (1996)', \"City Slickers II: The Legend of Curly's Gold (1994)\", 'City of Angels (1998)', 'City of Industry (1997)', 'City of Lost Children, The (1995)', 'Clean Slate (Coup de Torchon) (1981)', 'Clerks (1994)', 'Client, The (1994)', 'Cliffhanger (1993)', 'Clockers (1995)', 'Clockwork Orange, A (1971)', 'Close Shave, A (1995)', 'Cobb (1994)', 'Cold Comfort Farm (1995)', 'Coldblooded (1995)', 'Collectionneuse, La (1967)', 'Colonel Chabert, Le (1994)', 'Color of Night (1994)', 'Commandments (1997)', 'Con Air (1997)', 'Conan the Barbarian (1981)', 'Condition Red (1995)', 'Coneheads (1993)', 'Congo (1995)', 'Conspiracy Theory (1997)', 'Contempt (Mépris, Le) (1963)', 'Convent, The (Convento, O) (1995)', 'Cook the Thief His Wife & Her Lover, The (1989)', 'Cool Runnings (1993)', 'Cop Land (1997)', 'Cops and Robbersons (1994)', 'Copycat (1995)', 'Cosi (1996)', 'Country Life (1994)', 'Courage Under Fire (1996)', 'Cowboy Way, The (1994)', 'Craft, The (1996)', 'Crash (1996)', 'Crimson Tide (1995)', 'Critical Care (1997)', 'Cronos (1992)', 'Crooklyn (1994)', 'Crossfire (1947)', 'Crossing Guard, The (1995)', 'Crow: City of Angels, The (1996)', 'Crows and Sparrows (1949)', 'Crucible, The (1996)', 'Crude Oasis, The (1995)', 'Crumb (1994)', 'Cry, the Beloved Country (1995)', 'Crying Game, The (1992)', 'Curdled (1996)', 'Cure, The (1995)', 'Cutthroat Island (1995)', 'Cyclo (1995)', 'Cyrano de Bergerac (1990)', 'Cérémonie, La (1995)', 'D3: The Mighty Ducks (1996)', 'Dadetown (1995)', 'Daens (1992)', 'Damsel in Distress, A (1937)', 'Dances with Wolves (1990)', 'Dangerous Beauty (1998)', 'Dangerous Ground (1997)', 'Dangerous Minds (1995)', \"Daniel Defoe's Robinson Crusoe (1996)\", \"Dante's Peak (1997)\", 'Dark City (1998)', 'Davy Crockett, King of the Wild Frontier (1955)', 'Day the Earth Stood Still, The (1951)', 'Day the Sun Turned Cold, The (Tianguo niezi) (1994)', 'Daylight (1996)', 'Days of Thunder (1990)', 'Daytrippers, The (1996)', 'Dazed and Confused (1993)', 'Dead Man (1995)', 'Dead Man Walking (1995)', 'Dead Poets Society (1989)', 'Dead Presidents (1995)', 'Dear God (1996)', 'Death and the Maiden (1994)', 'Death in Brunswick (1991)', 'Death in the Garden (Mort en ce jardin, La) (1956)', 'Deceiver (1997)', 'Deconstructing Harry (1997)', 'Deep Rising (1998)', 'Deer Hunter, The (1978)', 'Delicatessen (1991)', 'Delta of Venus (1994)', 'Demolition Man (1993)', 'Denise Calls Up (1995)', 'Desert Winds (1995)', 'Designated Mourner, The (1997)', 'Desperado (1995)', 'Desperate Measures (1998)', 'Destiny Turns on the Radio (1995)', 'Devil in a Blue Dress (1995)', \"Devil's Advocate, The (1997)\", \"Devil's Own, The (1997)\", 'Diabolique (1996)', 'Dial M for Murder (1954)', 'Die xue shuang xiong (Killer, The) (1989)', 'Dingo (1992)', 'Dirty Dancing (1987)', 'Disclosure (1994)', 'Diva (1981)', 'Dolores Claiborne (1994)', 'Don Juan DeMarco (1995)', \"Don't Be a Menace to South Central While Drinking Your Juice in the Hood (1996)\", 'Donnie Brasco (1997)', 'Doom Generation, The (1995)', 'Doors, The (1991)', 'Double Happiness (1994)', 'Double Team (1997)', 'Double vie de Véronique, La (Double Life of Veronique, The) (1991)', 'Down by Law (1986)', 'Dr. Strangelove or: How I Learned to Stop Worrying and Love the Bomb (1963)', 'Dracula: Dead and Loving It (1995)', 'Dragonheart (1996)', 'Dream Man (1995)', 'Dream With the Fishes (1997)', 'Drop Dead Fred (1991)', 'Drop Zone (1994)', 'Drunks (1995)', 'Dumbo (1941)', 'Dunston Checks In (1996)', 'Duoluo tianshi (1995)', 'E.T. the Extra-Terrestrial (1982)', 'East of Eden (1955)', 'Eat Drink Man Woman (1994)', 'Ed (1996)', 'Ed Wood (1994)', \"Ed's Next Move (1996)\", 'Eddie (1996)', 'Edge, The (1997)', 'Eighth Day, The (1996)', 'Emma (1996)', 'Enchanted April (1991)', 'Endless Summer 2, The (1994)', \"Enfer, L' (1994)\", 'English Patient, The (1996)', 'Englishman Who Went Up a Hill, But Came Down a Mountain, The (1995)', 'Entertaining Angels: The Dorothy Day Story (1996)', 'Eraser (1996)', 'Escape from L.A. (1996)', 'Escape to Witch Mountain (1975)', 'Etz Hadomim Tafus (Under the Domin Tree) (1994)', \"Eve's Bayou (1997)\", 'Even Cowgirls Get the Blues (1993)', 'Evening Star, The (1996)', 'Event Horizon (1997)', 'Everest (1998)', 'Every Other Weekend (1990)', 'Everyone Says I Love You (1996)', 'Evita (1996)', 'Excess Baggage (1997)', 'Executive Decision (1996)', 'Exit to Eden (1994)', 'Exotica (1994)', 'Extreme Measures (1996)', 'Eye for an Eye (1996)', \"Eye of Vichy, The (Oeil de Vichy, L') (1993)\", 'Face/Off (1997)', 'Faces (1968)', 'Fair Game (1995)', 'FairyTale: A True Story (1997)', 'Faithful (1996)', 'Fall (1997)', 'Fallen (1998)', 'Falling in Love Again (1980)', 'Family Thing, A (1996)', 'Fan, The (1996)', 'Fantasia (1940)', 'Far From Home: The Adventures of Yellow Dog (1995)', 'Farewell My Concubine (1993)', 'Farewell to Arms, A (1932)', 'Fargo (1996)', 'Farinelli: il castrato (1994)', 'Farmer & Chase (1995)', 'Fast, Cheap & Out of Control (1997)', 'Faster Pussycat! Kill! Kill! (1965)', 'Fatal Instinct (1993)', 'Father of the Bride (1950)', 'Father of the Bride Part II (1995)', \"Fathers' Day (1997)\", 'Faust (1994)', 'Fausto (1993)', 'Favor, The (1994)', 'Fear (1996)', 'Fear of a Black Hat (1993)', 'Fear, The (1995)', 'Fearless (1993)', 'Feast of July (1995)', 'Feeling Minnesota (1996)', 'Female Perversions (1996)', 'Field of Dreams (1989)', 'Fille seule, La (A Single Girl) (1995)', 'Fire Down Below (1997)', 'Fire on the Mountain (1996)', 'Firestorm (1998)', 'Firm, The (1993)', 'First Knight (1995)', 'First Wives Club, The (1996)', 'Fled (1996)', 'Flesh and Bone (1993)', 'Flintstones, The (1994)', 'Flipper (1996)', 'Flirt (1995)', 'Flirting With Disaster (1996)', 'Flower of My Secret, The (Flor de mi secreto, La) (1995)', 'Flubber (1997)', 'Fluke (1995)', 'Fly Away Home (1996)', 'Fog, The (1980)', 'Fools Rush In (1997)', 'For Ever Mozart (1996)', 'For Love or Money (1993)', 'For Richer or Poorer (1997)', 'For Whom the Bell Tolls (1943)', 'For the Moment (1994)', 'Forbidden Christ, The (Cristo proibito, Il) (1950)', 'Forbidden Planet (1956)', 'Foreign Correspondent (1940)', 'Foreign Student (1994)', 'Forget Paris (1995)', 'Forrest Gump (1994)', 'Four Days in September (1997)', 'Four Rooms (1995)', 'Four Weddings and a Funeral (1994)', 'Fox and the Hound, The (1981)', 'Foxfire (1996)', 'Frankie Starlight (1995)', 'Free Willy (1993)', 'Free Willy 2: The Adventure Home (1995)', 'Free Willy 3: The Rescue (1997)', 'Freeway (1996)', 'French Kiss (1995)', 'French Twist (Gazon maudit) (1995)', 'Fresh (1994)', 'Friday (1995)', 'Fried Green Tomatoes (1991)', 'Frighteners, The (1996)', 'Frisk (1995)', 'Full Metal Jacket (1987)', 'Full Monty, The (1997)', 'Full Speed (1996)', 'Funeral, The (1996)', 'Funny Face (1957)', 'Further Gesture, A (1996)', 'G.I. Jane (1997)', 'Gabbeh (1996)', 'Game, The (1997)', 'Gandhi (1982)', 'Gang Related (1997)', 'Garden of Finzi-Contini, The (Giardino dei Finzi-Contini, Il) (1970)', 'Gaslight (1944)', 'Gate of Heavenly Peace, The (1995)', 'Gattaca (1997)', 'Gay Divorcee, The (1934)', 'George of the Jungle (1997)', 'Georgia (1995)', 'Germinal (1993)', 'Geronimo: An American Legend (1993)', 'Get on the Bus (1996)', 'Getaway, The (1994)', 'Getting Away With Murder (1996)', 'Getting Even with Dad (1994)', 'Ghost (1990)', 'Ghost and Mrs. Muir, The (1947)', 'Ghost and the Darkness, The (1996)', 'Ghost in the Shell (Kokaku kidotai) (1995)', 'Ghosts of Mississippi (1996)', 'Giant (1956)', 'Gigi (1958)', \"Gilligan's Island: The Movie (1998)\", 'Girl 6 (1996)', 'Girl in the Cadillac (1995)', 'Girls Town (1996)', 'Glass Shield, The (1994)', 'Glengarry Glen Ross (1992)', 'Glimmer Man, The (1996)', 'Go Fish (1994)', 'Gold Diggers: The Secret of Bear Mountain (1995)', 'Golden Earrings (1947)', \"Gone Fishin' (1997)\", 'Gone with the Wind (1939)', 'Good Man in Africa, A (1994)', 'Good Morning (1971)', 'Good Will Hunting (1997)', 'Good, The Bad and The Ugly, The (1966)', 'GoodFellas (1990)', 'Goofy Movie, A (1995)', 'Gordy (1995)', 'Grace of My Heart (1996)', 'Graduate, The (1967)', 'Grand Day Out, A (1992)', 'Grass Harp, The (1995)', 'Grateful Dead (1995)', 'Grease 2 (1982)', 'Great Day in Harlem, A (1994)', 'Great Dictator, The (1940)', 'Great Escape, The (1963)', 'Great Expectations (1998)', 'Great Race, The (1965)', 'Great White Hype, The (1996)', \"Gridlock'd (1997)\", 'Grifters, The (1990)', 'Grosse Fatigue (1994)', 'Grosse Pointe Blank (1997)', 'Grumpier Old Men (1995)', 'Guantanamera (1994)', 'Guilty as Sin (1993)', 'Gumby: The Movie (1995)', 'Hackers (1995)', 'Half Baked (1998)', 'Halloween: The Curse of Michael Myers (1995)', 'Hamlet (1996)', 'Hana-bi (1997)', 'Happy Gilmore (1996)', 'Hard Eight (1996)', 'Hard Rain (1998)', 'Hard Target (1993)', 'Harlem (1993)', 'Harold and Maude (1971)', 'Harriet the Spy (1996)', 'Hate (Haine, La) (1995)', 'Haunted World of Edward D. Wood Jr., The (1995)', 'He Walked by Night (1948)', 'Head Above Water (1996)', 'Hear My Song (1991)', 'Hearts and Minds (1996)', 'Heat (1995)', 'Heaven & Earth (1993)', \"Heaven's Prisoners (1996)\", 'Heavenly Creatures (1994)', 'Heavy (1995)', 'Heavy Metal (1981)', 'Hedd Wyn (1992)', 'Heidi Fleiss: Hollywood Madam (1995) ', 'Hellraiser: Bloodline (1996)', 'Henry V (1989)', 'Herbie Rides Again (1974)', 'Hercules (1997)', 'Here Comes Cookie (1935)', 'Hideaway (1995)', 'High Noon (1952)', 'High School High (1996)', 'Higher Learning (1995)', 'Highlander III: The Sorcerer (1994)', 'His Girl Friday (1940)', 'Hollow Reed (1996)', 'Homage (1995)', 'Home Alone 3 (1997)', 'Home for the Holidays (1995)', 'Homeward Bound II: Lost in San Francisco (1996)', 'Homeward Bound: The Incredible Journey (1993)', 'Hoodlum (1997)', 'Hoop Dreams (1994)', 'Horse Whisperer, The (1998)', 'Horseman on the Roof, The (Hussard sur le toit, Le) (1995)', 'Hostile Intentions (1994)', 'Hotel de Love (1996)', 'Hour of the Pig, The (1993)', 'House Arrest (1996)', 'House Party 3 (1994)', 'House of Yes, The (1997)', 'House of the Spirits, The (1993)', 'How to Be a Player (1997)', 'How to Make an American Quilt (1995)', 'Howling, The (1981)', 'Hudsucker Proxy, The (1994)', 'Hugo Pool (1997)', 'Hunchback of Notre Dame, The (1996)', 'Hungarian Fairy Tale, A (1987)', 'Hunted, The (1995)', 'Hurricane Streets (1998)', 'Hush (1998)', \"I Can't Sleep (J'ai pas sommeil) (1994)\", \"I Don't Want to Talk About It (De eso no se habla) (1993)\", 'I Know What You Did Last Summer (1997)', 'I Like It Like That (1994)', 'I Love Trouble (1994)', 'I Shot Andy Warhol (1996)', \"I'll Do Anything (1994)\", \"I'm Not Rappaport (1996)\", 'I, Worst of All (Yo, la peor de todas) (1990)', 'I.Q. (1994)', 'Ice Storm, The (1997)', 'If Lucy Fell (1996)', 'Ill Gotten Gains (1997)', 'Immortal Beloved (1994)', 'In & Out (1997)', 'In Love and War (1996)', 'In the Army Now (1994)', 'In the Bleak Midwinter (1995)', 'In the Company of Men (1997)', 'In the Line of Duty 2 (1987)', 'In the Mouth of Madness (1995)', 'In the Name of the Father (1993)', 'In the Realm of the Senses (Ai no corrida) (1976)', 'Incognito (1997)', 'Indian Summer (1996)', 'Indian in the Cupboard, The (1995)', 'Infinity (1996)', 'Inkwell, The (1994)', 'Innocent Sleep, The (1995)', 'Innocents, The (1961)', 'Inspector General, The (1949)', 'Interview with the Vampire (1994)', 'Intimate Relations (1996)', 'Inventing the Abbotts (1997)', 'Invitation, The (Zaproszenie) (1986)', 'Island of Dr. Moreau, The (1996)', 'It Could Happen to You (1994)', 'It Happened One Night (1934)', 'It Takes Two (1995)', \"It's My Party (1995)\", \"It's a Wonderful Life (1946)\", 'JLG/JLG - autoportrait de décembre (1994)', 'Jack (1996)', 'Jack and Sarah (1995)', 'Jackal, The (1997)', 'Jackie Brown (1997)', 'Jade (1995)', 'James and the Giant Peach (1996)', 'Jane Eyre (1996)', \"Jason's Lyric (1994)\", 'Jaws (1975)', 'Jaws 2 (1978)', 'Jaws 3-D (1983)', 'Jean de Florette (1986)', 'Jefferson in Paris (1995)', 'Jeffrey (1995)', 'Jerky Boys, The (1994)', 'Jerry Maguire (1996)', 'Jimmy Hollywood (1994)', \"Joe's Apartment (1996)\", 'Johnny 100 Pesos (1993)', 'Johnny Mnemonic (1995)', 'Johns (1996)', 'Journey of August King, The (1995)', 'Joy Luck Club, The (1993)', 'Jude (1996)', 'Judge Dredd (1995)', 'Judgment Night (1993)', 'Jumanji (1995)', 'Jungle Book, The (1994)', 'Jungle2Jungle (1997)', 'Junior (1994)', \"Jupiter's Wife (1994)\", 'Jurassic Park (1993)', 'Juror, The (1996)', 'Jury Duty (1995)', 'Just Cause (1995)', 'Kalifornia (1993)', 'Kama Sutra: A Tale of Love (1996)', 'Kansas City (1996)', 'Kaspar Hauser (1993)', 'Kazaam (1996)', 'Keys to Tulsa (1997)', 'Kicked in the Head (1997)', 'Kicking and Screaming (1995)', \"Kid in King Arthur's Court, A (1995)\", 'Kids (1995)', 'Kids in the Hall: Brain Candy (1996)', 'Kika (1993)', 'Killer (Bulletproof Heart) (1994)', 'Killer: A Journal of Murder (1995)', 'Killing Fields, The (1984)', 'Killing Zoe (1994)', 'Kim (1950)', 'King of New York (1990)', 'King of the Hill (1993)', 'Kingpin (1996)', 'Kiss Me, Guido (1997)', 'Kiss of Death (1995)', 'Kiss the Girls (1997)', 'Kissed (1996)', 'Kolya (1996)', 'Koyaanisqatsi (1983)', 'Kull the Conqueror (1997)', 'Kundun (1997)', 'L.A. Confidential (1997)', 'Lady of Burlesque (1943)', 'Ladybird Ladybird (1994)', 'Lamerica (1994)', 'Land Before Time III: The Time of the Great Giving (1995) (V)', 'Land and Freedom (Tierra y libertad) (1995)', 'Larger Than Life (1996)', 'Lashou shentan (1992)', 'Lassie (1994)', 'Last Action Hero (1993)', 'Last Dance (1996)', 'Last Klezmer: Leopold Kozlowski, His Life and Music, The (1995)', 'Last Summer in the Hamptons (1995)', 'Last Supper, The (1995)', 'Last Time I Committed Suicide, The (1997)', 'Last Time I Saw Paris, The (1954)', 'Late Bloomers (1996)', 'Laura (1944)', 'Lawnmower Man 2: Beyond Cyberspace (1996)', 'Lawnmower Man, The (1992)', 'Lay of the Land, The (1997)', 'Leading Man, The (1996)', 'Leaving Las Vegas (1995)', 'Legal Deceit (1997)', 'Legends of the Fall (1994)', 'Leopard Son, The (1996)', 'Letter From Death Row, A (1998)', 'Liebelei (1933)', 'Life Less Ordinary, A (1997)', 'Life with Mikey (1993)', 'Like Water For Chocolate (Como agua para chocolate) (1992)', 'Line King: Al Hirschfeld, The (1996)', 'Lion King, The (1994)', 'Little Big League (1994)', 'Little Buddha (1993)', 'Little City (1998)', 'Little Lord Fauntleroy (1936)', 'Little Odessa (1994)', 'Little Princess, A (1995)', 'Little Princess, The (1939)', 'Little Rascals, The (1994)', 'Little Women (1994)', 'Live Nude Girls (1995)', 'Living in Oblivion (1995)', 'Loaded (1994)', 'Local Hero (1983)', 'Loch Ness (1995)', 'Locusts, The (1997)', 'Lone Star (1996)', 'Long Kiss Goodnight, The (1996)', 'Looking for Richard (1996)', 'Lord of Illusions (1995)', 'Losing Chase (1996)', 'Losing Isaiah (1995)', 'Lost Highway (1997)', 'Lost Horizon (1937)', 'Lost World: Jurassic Park, The (1997)', 'Lost in Space (1998)', 'Lotto Land (1995)', 'Love & Human Remains (1993)', 'Love Affair (1994)', 'Love Bug, The (1969)', 'Love Is All There Is (1996)', 'Love Jones (1997)', 'Love Serenade (1996)', 'Love and Death on Long Island (1997)', 'Love and Other Catastrophes (1996)', 'Love and a .45 (1994)', 'Love in the Afternoon (1957)', 'Love! Valour! Compassion! (1997)', \"Lover's Knot (1996)\", 'Low Down Dirty Shame, A (1994)', 'Low Life, The (1994)', 'M (1931)', 'M. Butterfly (1993)', 'MURDER and murder (1996)', 'Ma vie en rose (My Life in Pink) (1997)', 'Machine, The (1994)', 'Mad City (1997)', 'Mad Dog Time (1996)', 'Mad Love (1995)', 'Madame Butterfly (1995)', 'Made in America (1993)', 'Madness of King George, The (1994)', 'Madonna: Truth or Dare (1991)', 'Magic Hour, The (1998)', 'Major Payne (1994)', 'Malice (1993)', 'Mallrats (1995)', 'Maltese Falcon, The (1941)', 'Mamma Roma (1962)', 'Man Who Knew Too Little, The (1997)', 'Man Who Would Be King, The (1975)', 'Man Without a Face, The (1993)', 'Man from Down Under, The (1943)', 'Man in the Iron Mask, The (1998)', 'Man of No Importance, A (1994)', 'Man of the House (1995)', 'Man of the Year (1995)', 'Manchurian Candidate, The (1962)', 'Manhattan (1979)', 'Manhattan Murder Mystery (1993)', 'Manny & Lo (1996)', 'Manon of the Spring (Manon des sources) (1986)', \"Margaret's Museum (1995)\", 'Mark of Zorro, The (1940)', 'Marked for Death (1990)', 'Marlene Dietrich: Shadow and Light (1996) ', 'Mars Attacks! (1996)', \"Marvin's Room (1996)\", 'Mary Poppins (1964)', 'Mary Reilly (1996)', \"Mary Shelley's Frankenstein (1994)\", 'Mask, The (1994)', \"Mat' i syn (1997)\", 'MatchMaker, The (1997)', 'Matilda (1996)', 'Maverick (1994)', 'Maximum Risk (1996)', 'Maya Lin: A Strong Clear Vision (1994)', 'Maybe, Maybe Not (Bewegte Mann, Der) (1994)', 'Mediterraneo (1991)', 'Meet John Doe (1941)', 'Meet Me in St. Louis (1944)', 'Meet Wally Sparks (1997)', 'Men With Guns (1997)', 'Men in Black (1997)', 'Men of Means (1998)', 'Menace II Society (1993)', 'Mercury Rising (1998)', 'Metisse (Café au Lait) (1993)', 'Metro (1997)', 'Miami Rhapsody (1995)', 'Michael (1996)', 'Michael Collins (1996)', \"Microcosmos: Le peuple de l'herbe (1996)\", 'Midnight Dancers (Sibak) (1994)', 'Midnight in the Garden of Good and Evil (1997)', 'Mighty Aphrodite (1995)', 'Mighty Morphin Power Rangers: The Movie (1995)', 'Mighty, The (1998)', 'Milk Money (1994)', 'Mille bolle blu (1993)', \"Miller's Crossing (1990)\", 'Mimic (1997)', 'Mina Tannenbaum (1994)', 'Miracle on 34th Street (1994)', 'Mirage (1995)', 'Mirror Has Two Faces, The (1996)', 'Misérables, Les (1995)', 'Mixed Nuts (1994)', 'Modern Affair, A (1995)', 'Moll Flanders (1996)', 'Mondo (1996)', 'Money Talks (1997)', 'Money Train (1995)', 'Month by the Lake, A (1995)', 'Moonlight and Valentino (1995)', 'Mortal Kombat (1995)', 'Mortal Kombat: Annihilation (1997)', 'Mostro, Il (1994)', 'Mother (1996)', 'Mother Night (1996)', 'Mouse Hunt (1997)', \"Mr. Holland's Opus (1995)\", 'Mr. Jones (1993)', 'Mr. Magoo (1997)', 'Mr. Smith Goes to Washington (1939)', 'Mr. Wonderful (1993)', 'Mr. Wrong (1996)', 'Mrs. Brown (Her Majesty, Mrs. Brown) (1997)', 'Mrs. Dalloway (1997)', 'Mrs. Parker and the Vicious Circle (1994)', 'Mrs. Winterbourne (1996)', 'Much Ado About Nothing (1993)', 'Mulholland Falls (1996)', 'Multiplicity (1996)', 'Murder at 1600 (1997)', 'Murder in the First (1995)', 'Murder, My Sweet (1944)', \"Muriel's Wedding (1994)\", 'Mute Witness (1994)', \"My Best Friend's Wedding (1997)\", 'My Crazy Life (Mi vida loca) (1993)', 'My Fair Lady (1964)', 'My Family (1995)', 'My Favorite Season (1993)', 'My Favorite Year (1982)', 'My Fellow Americans (1996)', 'My Left Foot (1989)', \"My Life and Times With Antonin Artaud (En compagnie d'Antonin Artaud) (1993)\", 'My Life as a Dog (Mitt liv som hund) (1985)', 'My Man Godfrey (1936)', 'My Own Private Idaho (1991)', 'Nadja (1994)', 'Naked (1993)', 'Naked in New York (1994)', \"National Lampoon's Senior Trip (1995)\", 'Nell (1994)', 'Nelly & Monsieur Arnaud (1995)', 'Nemesis 2: Nebula (1995)', 'Neon Bible, The (1995)', 'Net, The (1995)', 'NeverEnding Story III, The (1994)', 'New Age, The (1994)', 'New Jersey Drive (1995)', 'New York Cop (1996)', 'Newton Boys, The (1998)', 'Next Karate Kid, The (1994)', 'Next Step, The (1995)', 'Niagara, Niagara (1997)', 'Nick of Time (1995)', 'Nico Icon (1995)', 'Night Falls on Manhattan (1997)', 'Night Flier (1997)', 'Night of the Living Dead (1968)', 'Night on Earth (1991)', 'Nightmare Before Christmas, The (1993)', 'Nightmare on Elm Street, A (1984)', 'Nightwatch (1997)', 'Nikita (La Femme Nikita) (1990)', 'Nil By Mouth (1997)', 'Nina Takes a Lover (1994)', 'Nine Months (1995)', 'Ninotchka (1939)', 'Nixon (1995)', 'No Escape (1994)', 'Nobody Loves Me (Keiner liebt mich) (1994)', \"Nobody's Fool (1994)\", 'Normal Life (1996)', 'North (1994)', 'North by Northwest (1959)', 'Nosferatu (Nosferatu, eine Symphonie des Grauens) (1922)', 'Nosferatu a Venezia (1986)', 'Nothing Personal (1995)', 'Nothing to Lose (1994)', 'Notorious (1946)', 'Now and Then (1995)', 'Nowhere (1997)', 'Nénette et Boni (1996)', 'Object of My Affection, The (1998)', 'Of Human Bondage (1934)', 'Of Love and Shadows (1994)', 'Office Killer (1997)', 'Old Lady Who Walked in the Sea, The (Vieille qui marchait dans la mer, La) (1991)', 'Old Man and the Sea, The (1958)', 'Old Yeller (1957)', 'Oliver & Company (1988)', 'Omen, The (1976)', 'On Golden Pond (1981)', 'Once Upon a Time in America (1984)', 'Once Upon a Time in the West (1969)', 'Once Upon a Time... When We Were Colored (1995)', 'Once Were Warriors (1994)', 'One Fine Day (1996)', \"One Flew Over the Cuckoo's Nest (1975)\", 'One Night Stand (1997)', 'Only You (1994)', 'Open Season (1996)', 'Original Gangstas (1996)', 'Orlando (1993)', 'Oscar & Lucinda (1997)', 'Othello (1995)', 'Other Voices, Other Rooms (1997)', 'Out to Sea (1997)', 'Outbreak (1995)', 'Outlaw, The (1943)', 'Pagemaster, The (1994)', 'Pallbearer, The (1996)', 'Palmetto (1998)', 'Palookaville (1996)', 'Panther (1995)', 'Paper, The (1994)', 'Paradise Lost: The Child Murders at Robin Hood Hills (1996)', 'Paradise Road (1997)', 'Parent Trap, The (1961)', 'Paris Is Burning (1990)', 'Paris Was a Woman (1995)', 'Paris, France (1993)', 'Paris, Texas (1984)', 'Party Girl (1995)', 'Passion Fish (1992)', 'Pather Panchali (1955)', 'Paths of Glory (1957)', 'Patton (1970)', 'Peacemaker, The (1997)', 'Penny Serenade (1941)', 'People vs. Larry Flynt, The (1996)', 'Perez Family, The (1995)', 'Perfect Candidate, A (1996)', 'Perfect World, A (1993)', 'Persuasion (1995)', \"Pete's Dragon (1977)\", 'Phantom, The (1996)', 'Phantoms (1998)', \"Pharaoh's Army (1995)\", 'Phat Beach (1996)', 'Phenomenon (1996)', 'Philadelphia (1993)', 'Philadelphia Story, The (1940)', 'Piano, The (1993)', 'Picnic (1955)', 'Picture Bride (1995)', 'Picture Perfect (1997)', 'Pie in the Sky (1995)', 'Pillow Book, The (1995)', 'Pink Floyd - The Wall (1982)', 'Pinocchio (1940)', 'Platoon (1986)', 'Playing God (1997)', 'Pocahontas (1995)', 'Poetic Justice (1993)', 'Poison Ivy II (1995)', 'Police Story 4: Project S (Chao ji ji hua) (1993)', 'Pollyanna (1960)', 'Pompatus of Love, The (1996)', 'Ponette (1996)', 'Portrait of a Lady, The (1996)', 'Postino, Il (1994)', 'Postman, The (1997)', 'Powder (1995)', 'Power 98 (1995)', \"Preacher's Wife, The (1996)\", 'Prefontaine (1997)', 'Pretty Woman (1990)', 'Price Above Rubies, A (1998)', 'Priest (1994)', 'Primal Fear (1996)', 'Primary Colors (1998)', 'Princess Caraboo (1994)', 'Prisoner of the Mountains (Kavkazsky Plennik) (1996)', 'Private Parts (1997)', 'Professional, The (1994)', 'Program, The (1993)', 'Promesse, La (1996)', 'Promise, The (Versprechen, Das) (1994)', 'Prophecy II, The (1998)', 'Prophecy, The (1995)', 'Psycho (1960)', 'Pulp Fiction (1994)', 'Pump Up the Volume (1990)', 'Purple Noon (1960)', 'Pushing Hands (1992)', \"Pyromaniac's Love Story, A (1995)\", 'Quartier Mozart (1992)', 'Queen Margot (Reine Margot, La) (1994)', 'Quest, The (1996)', 'Quick and the Dead, The (1995)', 'Quiet Room, The (1996)', 'Quiz Show (1994)', 'Race the Sun (1996)', 'Radioland Murders (1994)', 'Raging Bull (1980)', 'Rainmaker, The (1997)', 'Raise the Red Lantern (1991)', 'Ran (1985)', 'Ransom (1996)', 'Raw Deal (1948)', 'Ready to Wear (Pret-A-Porter) (1994)', 'Real Genius (1985)', 'Reality Bites (1994)', 'Rear Window (1954)', 'Rebecca (1940)', 'Rebel Without a Cause (1955)', 'Reckless (1995)', 'Red Corner (1997)', 'Red Firecracker, Green Firecracker (1994)', 'Red Rock West (1992)', 'Relative Fear (1994)', 'Relic, The (1997)', 'Reluctant Debutante, The (1958)', 'Remains of the Day, The (1993)', 'Renaissance Man (1994)', 'Rendezvous in Paris (Rendez-vous de Paris, Les) (1995)', 'Rent-a-Kid (1995)', 'Replacement Killers, The (1998)', 'Reservoir Dogs (1992)', 'Restoration (1995)', 'Return of Martin Guerre, The (Retour de Martin Guerre, Le) (1982)', 'Rhyme & Reason (1997)', \"Rich Man's Wife, The (1996)\", 'Richard III (1995)', 'Richie Rich (1994)', 'Ridicule (1996)', 'Right Stuff, The (1983)', 'Ripe (1996)', 'Rising Sun (1993)', 'River Wild, The (1994)', 'Road to Wellville, The (1994)', 'Rob Roy (1995)', \"Robert A. Heinlein's The Puppet Masters (1994)\", 'Robin Hood: Men in Tights (1993)', 'Robin Hood: Prince of Thieves (1991)', 'Robocop 3 (1993)', 'Roman Holiday (1953)', 'Romeo Is Bleeding (1993)', 'Romper Stomper (1992)', \"Romy and Michele's High School Reunion (1997)\", 'Room with a View, A (1986)', 'Roommates (1995)', \"Roseanna's Grave (For Roseanna) (1997)\", 'Rosencrantz and Guildenstern Are Dead (1990)', 'Rosewood (1997)', 'Rough Magic (1995)', 'Ruby in Paradise (1993)', 'Rudy (1993)', 'Ruling Class, The (1972)', 'Run of the Country, The (1995)', 'S.F.W. (1994)', 'Sabrina (1954)', 'Sabrina (1995)', 'Safe (1995)', 'Safe Passage (1994)', 'Saint of Fort Washington, The (1993)', 'Saint, The (1997)', 'Salut cousin! (1996)', 'Santa Clause, The (1994)', 'Santa with Muscles (1996)', 'Savage Nights (Nuits fauves, Les) (1992)', 'Scarlet Letter, The (1926)', 'Scarlet Letter, The (1995)', \"Schindler's List (1993)\", 'Schizopolis (1996)', 'Scout, The (1994)', 'Scream (1996)', 'Scream 2 (1997)', 'Scream of Stone (Schrei aus Stein) (1991)', 'Screamers (1995)', 'Search for One-eye Jimmy, The (1996)', 'Searching for Bobby Fischer (1993)', 'Second Jungle Book: Mowgli & Baloo, The (1997)', 'Secret Adventures of Tom Thumb, The (1993)', 'Secret Agent, The (1996)', 'Secret Garden, The (1993)', 'Secret of Roan Inish, The (1994)', 'Secrets & Lies (1996)', 'Selena (1997)', 'Sense and Sensibility (1995)', 'Senseless (1998)', 'Serial Mom (1994)', 'Set It Off (1996)', 'Seven (Se7en) (1995)', 'Seven Years in Tibet (1997)', 'Seventh Seal, The (Sjunde inseglet, Det) (1957)', 'Sex, Lies, and Videotape (1989)', 'Sexual Life of the Belgians, The (1994)', 'Shadow Conspiracy (1997)', 'Shadow of Angels (Schatten der Engel) (1976)', 'Shadow, The (1994)', 'Shadowlands (1993)', 'Shadows (Cienie) (1988)', 'Shaggy Dog, The (1959)', 'Shall We Dance? (1937)', 'Shall We Dance? (1996)', 'Shallow Grave (1994)', 'Shanghai Triad (Yao a yao yao dao waipo qiao) (1995)', 'Shawshank Redemption, The (1994)', \"She's So Lovely (1997)\", \"She's the One (1996)\", 'Shiloh (1997)', 'Shine (1996)', 'Shining, The (1980)', 'Shooter, The (1995)', 'Shooting Fish (1997)', 'Shopping (1994)', 'Short Cuts (1993)', 'Show, The (1995)', 'Showgirls (1995)', 'Silence of the Lambs, The (1991)', 'Silence of the Palace, The (Saimt el Qusur) (1994)', 'Simple Twist of Fate, A (1994)', 'Simple Wish, A (1997)', \"Singin' in the Rain (1952)\", 'Sirens (1994)', 'Six Degrees of Separation (1993)', 'Sixth Man, The (1997)', 'Sleeper (1973)', 'Sleepers (1996)', 'Sleepless in Seattle (1993)', 'Sleepover (1995)', 'Sliding Doors (1998)', 'Sling Blade (1996)', 'Slingshot, The (1993)', 'Sliver (1993)', 'Small Faces (1995)', 'Smile Like Yours, A (1997)', \"Smilla's Sense of Snow (1997)\", 'Smoke (1995)', 'Sneakers (1992)', 'Snow White and the Seven Dwarfs (1937)', 'So Dear to My Heart (1949)', 'So I Married an Axe Murderer (1993)', 'Solo (1996)', 'Some Folks Call It a Sling Blade (1993)', 'Some Kind of Wonderful (1987)', 'Some Like It Hot (1959)', \"Some Mother's Son (1996)\", 'Somebody to Love (1994)', \"Someone Else's America (1995)\", 'Something to Talk About (1995)', 'Somewhere in Time (1980)', 'Son in Law (1993)', \"Sophie's Choice (1982)\", 'Soul Food (1997)', 'Sound of Music, The (1965)', 'Space Jam (1996)', 'Spanish Prisoner, The (1997)', 'Spanking the Monkey (1994)', 'Specialist, The (1994)', 'Species (1995)', 'Speechless (1994)', 'Speed 2: Cruise Control (1997)', 'Spellbound (1945)', 'Sphere (1998)', 'Spice World (1997)', 'Spirits of the Dead (Tre passi nel delirio) (1968)', 'Spitfire Grill, The (1996)', 'Sprung (1997)', 'Squeeze (1996)', 'Stag (1997)', 'Stalingrad (1993)', 'Stalker (1979)', 'Stand by Me (1986)', 'Star Kid (1997)', \"Star Maker, The (Uomo delle stelle, L') (1995)\", 'Star Maps (1997)', 'Star Trek V: The Final Frontier (1989)', 'Star Trek: Generations (1994)', 'Stars Fell on Henrietta, The (1995)', 'Starship Troopers (1997)', 'Steal Big, Steal Little (1995)', 'Stealing Beauty (1996)', 'Steel (1997)', 'Stefano Quantestorie (1993)', \"Stephen King's The Langoliers (1995)\", 'Stonewall (1995)', 'Story of Xinghua, The (1993)', 'Strange Days (1995)', 'Stranger in the House (1997)', 'Stranger, The (1994)', 'Strawberry and Chocolate (Fresa y chocolate) (1993)', 'Street Fighter (1994)', 'Streetcar Named Desire, A (1951)', 'Strictly Ballroom (1992)', 'Striking Distance (1993)', 'Stripes (1981)', 'Striptease (1996)', 'SubUrbia (1997)', 'Substance of Fire, The (1996)', 'Substitute, The (1996)', 'Sudden Death (1995)', 'Sudden Manhattan (1996)', 'Sum of Us, The (1994)', 'Sunchaser, The (1996)', 'Sunset Blvd. (1950)', 'Sunset Park (1996)', 'Super Mario Bros. (1993)', 'Surviving Picasso (1996)', 'Surviving the Game (1994)', 'Suture (1993)', 'Swan Princess, The (1994)', 'Sweet Hereafter, The (1997)', 'Sweet Nothing (1995)', 'Swept from the Sea (1997)', 'Swimming with Sharks (1995)', 'Swingers (1996)', 'Swiss Family Robinson (1960)', 'Switchback (1997)', 'Switchblade Sisters (1975)', 'Sword in the Stone, The (1963)', 'Symphonie pastorale, La (1946)', 'T-Men (1947)', 'Tainted (1998)', 'Tales From the Crypt Presents: Demon Knight (1995)', 'Tales from the Crypt Presents: Bordello of Blood (1996)', 'Tales from the Hood (1995)', 'Talking About Sex (1994)', 'Tango Lesson, The (1997)', 'Tank Girl (1995)', 'Target (1995)', 'Taxi Driver (1976)', 'Telling Lies in America (1997)', 'Temptress Moon (Feng Yue) (1996)', 'Terminal Velocity (1994)', 'Terror in a Texas Town (1958)', 'Tetsuo II: Body Hammer (1992)', 'That Darn Cat! (1965)', 'That Old Feeling (1997)', 'That Thing You Do! (1996)', 'The Courtyard (1995)', 'The Deadly Cure (1996)', 'The Innocent (1994)', 'Theodore Rex (1995)', 'They Made Me a Criminal (1939)', 'Thieves (Voleurs, Les) (1996)', 'Thin Blue Line, The (1988)', 'Thin Line Between Love and Hate, A (1996)', 'Thin Man, The (1934)', \"Things to Do in Denver when You're Dead (1995)\", 'Thinner (1996)', 'Third Man, The (1949)', 'Thirty-Two Short Films About Glenn Gould (1993)', 'Thousand Acres, A (1997)', 'Three Caballeros, The (1945)', 'Three Colors: Blue (1993)', 'Three Colors: Red (1994)', 'Three Colors: White (1994)', 'Three Lives and Only One Death (1996)', 'Three Wishes (1995)', 'Threesome (1994)', 'Tie Me Up! Tie Me Down! (1990)', 'Tie That Binds, The (1995)', 'Tigrero: A Film That Was Never Made (1994)', 'Time Tracers (1995)', 'Time to Kill, A (1996)', 'Timecop (1994)', 'Tin Cup (1996)', 'Tin Drum, The (Blechtrommel, Die) (1979)', 'Titanic (1997)', 'To Be or Not to Be (1942)', 'To Catch a Thief (1955)', 'To Cross the Rubicon (1991)', 'To Die For (1995)', 'To Gillian on Her 37th Birthday (1996)', 'To Have, or Not (1995)', 'To Kill a Mockingbird (1962)', 'To Live (Huozhe) (1994)', 'To Wong Foo, Thanks for Everything! Julie Newmar (1995)', 'Tokyo Fist (1995)', 'Tom & Viv (1994)', 'Tom and Huck (1995)', 'Tombstone (1993)', 'Tommy Boy (1995)', 'Tomorrow Never Dies (1997)', 'Top Hat (1935)', 'Total Eclipse (1995)', 'Touch (1997)', 'Touch of Evil (1958)', 'Tough and Deadly (1995)', 'Touki Bouki (Journey of the Hyena) (1973)', 'Toy Story (1995)', 'Trainspotting (1996)', 'Transformers: The Movie, The (1986)', 'Traveller (1997)', 'Treasure of the Sierra Madre, The (1948)', 'Trees Lounge (1996)', 'Trial and Error (1997)', 'Trial by Jury (1994)', 'Trigger Effect, The (1996)', 'True Crime (1995)', 'True Romance (1993)', 'Truman Show, The (1998)', 'Trust (1990)', 'Truth About Cats & Dogs, The (1996)', 'Truth or Consequences, N.M. (1997)', 'Turbo: A Power Rangers Movie (1997)', 'Turbulence (1997)', 'Turning, The (1992)', 'Twelfth Night (1996)', 'Twelve Monkeys (1995)', 'Twilight (1998)', 'Twin Town (1997)', 'Twisted (1996)', 'Two Bits (1995)', 'Two Deaths (1995)', 'Two Friends (1986) ', 'Two Much (1996)', 'Two if by Sea (1996)', 'Two or Three Things I Know About Her (1966)', 'U Turn (1997)', 'U.S. Marshalls (1998)', \"Ulee's Gold (1997)\", 'Umbrellas of Cherbourg, The (Parapluies de Cherbourg, Les) (1964)', 'Unbearable Lightness of Being, The (1988)', 'Under Siege 2: Dark Territory (1995)', 'Underground (1995)', 'Underneath, The (1995)', 'Underworld (1997)', 'Unforgettable (1996)', 'Unforgiven (1992)', 'Unhook the Stars (1996)', 'Unstrung Heroes (1995)', 'Until the End of the World (Bis ans Ende der Welt) (1991)', 'Unzipped (1995)', 'Up Close and Personal (1996)', 'Up in Smoke (1978)', 'Usual Suspects, The (1995)', 'Vampire in Brooklyn (1995)', 'Van, The (1996)', 'Vanya on 42nd Street (1994)', 'Venice/Venice (1992)', 'Vermin (1998)', 'Vermont Is For Lovers (1992)', 'Vertigo (1958)', 'Very Brady Sequel, A (1996)', 'Very Natural Thing, A (1974)', 'Victor/Victoria (1982)', 'Vie est belle, La (Life is Rosey) (1987)', 'Village of the Damned (1995)', 'Virtuosity (1995)', 'Visitors, The (Visiteurs, Les) (1993)', 'Volcano (1997)', 'Wag the Dog (1997)', 'Waiting for Guffman (1996)', 'Waiting to Exhale (1995)', 'Walk in the Clouds, A (1995)', 'Walk in the Sun, A (1945)', 'Walkabout (1971)', 'Walking Dead, The (1995)', 'Walking and Talking (1996)', 'Wallace & Gromit: The Best of Aardman Animation (1996)', 'War Room, The (1993)', 'War at Home, The (1996)', 'War, The (1994)', 'Warriors of Virtue (1997)', 'Washington Square (1997)', 'Wedding Bell Blues (1996)', 'Wedding Gift, The (1994)', 'Wedding Singer, The (1998)', \"Weekend at Bernie's (1989)\", 'Welcome To Sarajevo (1997)', 'Welcome to the Dollhouse (1995)', \"Wend Kuuni (God's Gift) (1982)\", \"Wes Craven's New Nightmare (1994)\", 'What Happened Was... (1994)', \"What's Eating Gilbert Grape (1993)\", \"What's Love Got to Do with It (1993)\", 'When Night Is Falling (1995)', 'When We Were Kings (1996)', 'When a Man Loves a Woman (1994)', 'When the Cats Away (Chacun cherche son chat) (1996)', 'While You Were Sleeping (1995)', 'White Balloon, The (1995)', \"White Man's Burden (1995)\", 'White Squall (1996)', 'Whole Wide World, The (1996)', \"Widows' Peak (1994)\", 'Wife, The (1995)', 'Wild America (1997)', 'Wild Bill (1995)', 'Wild Bunch, The (1969)', 'Wild Reeds (1994)', 'Wild Things (1998)', \"William Shakespeare's Romeo and Juliet (1996)\", 'Willy Wonka and the Chocolate Factory (1971)', 'Window to Paris (1994)', 'Wings of Courage (1995)', 'Wings of Desire (1987)', 'Wings of the Dove, The (1997)', 'Winnie the Pooh and the Blustery Day (1968)', 'Winter Guest, The (1997)', 'Wishmaster (1997)', 'With Honors (1994)', 'Withnail and I (1987)', 'Witness (1985)', 'Wizard of Oz, The (1939)', 'Wolf (1994)', 'Woman in Question, The (1950)', 'Women, The (1939)', 'Wonderful, Horrible Life of Leni Riefenstahl, The (1993)', 'Wonderland (1997)', \"Wooden Man's Bride, The (Wu Kui) (1994)\", 'World of Apu, The (Apur Sansar) (1959)', 'Wrong Trousers, The (1993)', 'Wyatt Earp (1994)', 'Yankee Zulu (1994)', 'Year of the Horse (1997)', 'You So Crazy (1994)', 'Young Guns (1988)', 'Young Guns II (1990)', \"Young Poisoner's Handbook, The (1995)\", 'Zeus and Roxanne (1997)', 'unknown', 'Á köldum klaka (Cold Fever) (1994)']\n",
            "\n",
            "filtered user_ratings size for 638:47\n",
            "\n",
            "top 10 sorted movies for 638:['Alien (1979)', 'Braveheart (1995)', 'Conan the Barbarian (1981)', 'Executive Decision (1996)', 'Fargo (1996)', 'Full Metal Jacket (1987)', 'Jaws (1975)', 'Kingpin (1996)', 'Psycho (1960)', 'Silence of the Lambs, The (1991)']\n",
            "\n",
            "filtered user_ratings size for 746:54\n",
            "\n",
            "top 10 sorted movies for 746:['Alien (1979)', 'Babe (1995)', 'Dead Poets Society (1989)', 'Demolition Man (1993)', 'Jurassic Park (1993)', 'Much Ado About Nothing (1993)', 'Platoon (1986)', 'Shawshank Redemption, The (1994)', 'Toy Story (1995)', 'Wizard of Oz, The (1939)']\n",
            "\n",
            "filtered user_ratings size for 158:59\n",
            "\n",
            "top 10 sorted movies for 158:['Bound (1996)', \"Bram Stoker's Dracula (1992)\", 'Braveheart (1995)', 'Devil in a Blue Dress (1995)', 'Emma (1996)', 'Jurassic Park (1993)', 'Much Ado About Nothing (1993)', 'Pulp Fiction (1994)', 'Sense and Sensibility (1995)', 'Tin Cup (1996)']\n",
            "\n",
            "filtered user_ratings size for 648:54\n",
            "\n",
            "top 10 sorted movies for 648:['Alien (1979)', 'Amadeus (1984)', 'American Werewolf in London, An (1981)', 'Fantasia (1940)', 'Full Metal Jacket (1987)', 'Good, The Bad and The Ugly, The (1966)', 'Net, The (1995)', 'Psycho (1960)', 'Ransom (1996)', 'While You Were Sleeping (1995)']\n",
            "\n",
            "filtered user_ratings size for 102:59\n",
            "\n",
            "top 10 sorted movies for 102:['Aladdin (1992)', 'Alien (1979)', 'Beauty and the Beast (1991)', 'Carrie (1976)', \"Devil's Advocate, The (1997)\", 'Everyone Says I Love You (1996)', 'Heavy Metal (1981)', 'Jaws (1975)', 'Lost Horizon (1937)', 'Silence of the Lambs, The (1991)']\n",
            "\n",
            "\n",
            "Results map:{638: ['Braveheart (1995)', 'Psycho (1960)', 'Kingpin (1996)', 'Alien (1979)', 'Jaws (1975)', 'Executive Decision (1996)', 'Conan the Barbarian (1981)', 'Fargo (1996)', 'Full Metal Jacket (1987)', 'Silence of the Lambs, The (1991)', 'Dragonheart (1996)', 'Annie Hall (1977)', 'Bonnie and Clyde (1967)', 'Jurassic Park (1993)', 'Star Trek V: The Final Frontier (1989)', 'Ninotchka (1939)', 'Nina Takes a Lover (1994)', 'Nixon (1995)', 'Nine Months (1995)', 'Palmetto (1998)', 'Out to Sea (1997)', 'Pallbearer, The (1996)', 'Outbreak (1995)', 'Outlaw, The (1943)', 'Palookaville (1996)', 'Pagemaster, The (1994)', 'Nil By Mouth (1997)', 'Panther (1995)', 'Paper, The (1994)', 'Nightmare on Elm Street, A (1984)', 'Nightwatch (1997)', 'Paths of Glory (1957)', 'Pather Panchali (1955)', 'Passion Fish (1992)', 'Party Girl (1995)', 'Paris, Texas (1984)', 'Paris, France (1993)', 'Paris Was a Woman (1995)', 'Nikita (La Femme Nikita) (1990)', 'Paris Is Burning (1990)', 'Parent Trap, The (1961)', 'Paradise Road (1997)', 'No Escape (1994)', 'Paradise Lost: The Child Murders at Robin Hood Hills (1996)', 'Other Voices, Other Rooms (1997)', 'Open Season (1996)', 'Othello (1995)'], 746: ['Alien (1979)', 'Demolition Man (1993)', 'Babe (1995)', 'Jurassic Park (1993)', 'Dead Poets Society (1989)', 'Platoon (1986)', 'Much Ado About Nothing (1993)', 'Shawshank Redemption, The (1994)', 'Toy Story (1995)', 'Wizard of Oz, The (1939)', 'Eraser (1996)', 'Braveheart (1995)', 'Young Guns (1988)', 'First Knight (1995)', 'Pulp Fiction (1994)', 'E.T. the Extra-Terrestrial (1982)', 'Executive Decision (1996)', 'River Wild, The (1994)', 'Rebel Without a Cause (1955)', 'Net, The (1995)', '2001: A Space Odyssey (1968)', 'Outbreak (1995)', 'Out to Sea (1997)', 'Other Voices, Other Rooms (1997)', 'Othello (1995)', 'Pather Panchali (1955)', 'Paths of Glory (1957)', 'Oscar & Lucinda (1997)', 'Parent Trap, The (1961)', 'Outlaw, The (1943)', 'Pagemaster, The (1994)', 'Passion Fish (1992)', 'Party Girl (1995)', 'Palmetto (1998)', 'Paris, Texas (1984)', 'Palookaville (1996)', 'Paris, France (1993)', 'Paris Was a Woman (1995)', 'Panther (1995)', 'Paper, The (1994)', 'Orlando (1993)', 'Paradise Lost: The Child Murders at Robin Hood Hills (1996)', 'Paris Is Burning (1990)', 'Paradise Road (1997)', 'Pallbearer, The (1996)', \"'Til There Was You (1997)\", 'Original Gangstas (1996)', 'Nobody Loves Me (Keiner liebt mich) (1994)', 'Notorious (1946)', 'Nothing to Lose (1994)', 'Nothing Personal (1995)', 'Nosferatu a Venezia (1986)', 'Nosferatu (Nosferatu, eine Symphonie des Grauens) (1922)', 'North by Northwest (1959)'], 158: ['Braveheart (1995)', 'Sense and Sensibility (1995)', 'Pulp Fiction (1994)', \"Bram Stoker's Dracula (1992)\", 'Bound (1996)', 'Jurassic Park (1993)', 'Tin Cup (1996)', 'Devil in a Blue Dress (1995)', 'Emma (1996)', 'Much Ado About Nothing (1993)', 'Perfect World, A (1993)', 'Persuasion (1995)', 'Big Sleep, The (1946)', 'Big Night (1996)', 'Twelve Monkeys (1995)', 'Fargo (1996)', 'Strange Days (1995)', 'Strictly Ballroom (1992)', 'Casablanca (1942)', 'Arsenic and Old Lace (1944)', 'Close Shave, A (1995)', 'Cold Comfort Farm (1995)', 'Local Hero (1983)', 'GoodFellas (1990)', 'Secrets & Lies (1996)', 'Henry V (1989)', 'Babe (1995)', \"Miller's Crossing (1990)\", 'Arrival, The (1996)', 'Shadow, The (1994)', 'Four Weddings and a Funeral (1994)', 'Seven (Se7en) (1995)', 'Michael Collins (1996)', 'Bad Company (1995)', 'Truth About Cats & Dogs, The (1996)', 'True Romance (1993)', 'Full Metal Jacket (1987)', 'Stalingrad (1993)', 'Cliffhanger (1993)', 'Good, The Bad and The Ugly, The (1966)', 'Net, The (1995)', 'Courage Under Fire (1996)', 'Bottle Rocket (1996)', 'Crash (1996)', 'Ghost and the Darkness, The (1996)', 'My Favorite Year (1982)', \"Smilla's Sense of Snow (1997)\", 'Blood & Wine (1997)', 'Multiplicity (1996)', 'Toy Story (1995)', 'Professional, The (1994)', 'Starship Troopers (1997)', 'Angels and Insects (1995)', 'L.A. Confidential (1997)', 'Richard III (1995)', 'Ruling Class, The (1972)', 'Rosencrantz and Guildenstern Are Dead (1990)', 'Restoration (1995)', 'Flirting With Disaster (1996)'], 648: ['Fantasia (1940)', 'American Werewolf in London, An (1981)', 'Amadeus (1984)', 'Alien (1979)', 'Ransom (1996)', 'Full Metal Jacket (1987)', 'While You Were Sleeping (1995)', 'Psycho (1960)', 'Net, The (1995)', 'Good, The Bad and The Ugly, The (1966)', 'Sense and Sensibility (1995)', 'Apollo 13 (1995)', 'Jaws (1975)', 'Executive Decision (1996)', \"Stephen King's The Langoliers (1995)\", 'Toy Story (1995)', 'Ace Ventura: When Nature Calls (1995)', 'Fly Away Home (1996)', 'Wrong Trousers, The (1993)', 'Maltese Falcon, The (1941)', 'Jurassic Park (1993)', 'Rear Window (1954)', 'Sleeper (1973)', 'Casablanca (1942)', 'Truth About Cats & Dogs, The (1996)', \"Dante's Peak (1997)\", 'Forbidden Planet (1956)', 'Carrie (1976)', 'Vertigo (1958)', 'Sound of Music, The (1965)', 'Arrival, The (1996)', 'Lawnmower Man, The (1992)', 'Shadow, The (1994)', 'E.T. the Extra-Terrestrial (1982)', 'Victor/Victoria (1982)', 'Jane Eyre (1996)', 'Day the Earth Stood Still, The (1951)', 'Dr. Strangelove or: How I Learned to Stop Worrying and Love the Bomb (1963)', 'Treasure of the Sierra Madre, The (1948)', 'Dial M for Murder (1954)', 'Sleepless in Seattle (1993)', 'Craft, The (1996)', 'To Wong Foo, Thanks for Everything! Julie Newmar (1995)', 'Demolition Man (1993)', 'Courage Under Fire (1996)', 'Harriet the Spy (1996)', 'Moll Flanders (1996)', 'Silence of the Lambs, The (1991)', 'Copycat (1995)', 'Juror, The (1996)', 'Great Escape, The (1963)', 'Gone with the Wind (1939)', 'Cliffhanger (1993)', 'Gandhi (1982)'], 102: [\"Devil's Advocate, The (1997)\", 'Beauty and the Beast (1991)', 'Everyone Says I Love You (1996)', 'Silence of the Lambs, The (1991)', 'Alien (1979)', 'Aladdin (1992)', 'Carrie (1976)', 'Heavy Metal (1981)', 'Lost Horizon (1937)', 'Jaws (1975)', 'Murder at 1600 (1997)', 'Psycho (1960)', 'Mulholland Falls (1996)', 'Much Ado About Nothing (1993)', 'As Good As It Gets (1997)', 'Audrey Rose (1977)', 'Tomorrow Never Dies (1997)', 'Big Blue, The (Grand bleu, Le) (1988)', 'Toy Story (1995)', 'Jackal, The (1997)', \"Devil's Own, The (1997)\", 'Mighty Aphrodite (1995)', 'Down by Law (1986)', 'G.I. Jane (1997)', 'Being There (1979)', 'Interview with the Vampire (1994)', 'Seventh Seal, The (Sjunde inseglet, Det) (1957)', 'Professional, The (1994)', 'Seven (Se7en) (1995)', 'Don Juan DeMarco (1995)', 'Birds, The (1963)', 'Perfect World, A (1993)', 'Sword in the Stone, The (1963)', 'Good Will Hunting (1997)', 'GoodFellas (1990)', 'Cape Fear (1991)', 'Peacemaker, The (1997)', 'Nosferatu (Nosferatu, eine Symphonie des Grauens) (1922)', 'Cinderella (1950)', 'Great Dictator, The (1940)', 'Coneheads (1993)', 'Copycat (1995)', 'Omen, The (1976)', 'Sneakers (1992)', 'Grosse Pointe Blank (1997)', 'Aristocats, The (1970)', 'Heat (1995)', 'Titanic (1997)', 'Shining, The (1980)', 'In & Out (1997)', 'Sleepless in Seattle (1993)', 'Nightmare Before Christmas, The (1993)', 'Bride of Frankenstein (1935)', 'Pulp Fiction (1994)', 'Stand by Me (1986)', 'Fantasia (1940)', 'First Wives Club, The (1996)', 'L.A. Confidential (1997)', 'Saint, The (1997)']} \n",
            "\n",
            "Results List:[\"'Til There Was You (1997)\", '2001: A Space Odyssey (1968)', 'Ace Ventura: When Nature Calls (1995)', 'Aladdin (1992)', 'Alien (1979)', 'Amadeus (1984)', 'American Werewolf in London, An (1981)', 'Angels and Insects (1995)', 'Annie Hall (1977)', 'Apollo 13 (1995)', 'Aristocats, The (1970)', 'Arrival, The (1996)', 'Arsenic and Old Lace (1944)', 'As Good As It Gets (1997)', 'Audrey Rose (1977)', 'Babe (1995)', 'Bad Company (1995)', 'Beauty and the Beast (1991)', 'Being There (1979)', 'Big Blue, The (Grand bleu, Le) (1988)', 'Big Night (1996)', 'Big Sleep, The (1946)', 'Birds, The (1963)', 'Blood & Wine (1997)', 'Bonnie and Clyde (1967)', 'Bottle Rocket (1996)', 'Bound (1996)', \"Bram Stoker's Dracula (1992)\", 'Braveheart (1995)', 'Bride of Frankenstein (1935)', 'Cape Fear (1991)', 'Carrie (1976)', 'Casablanca (1942)', 'Cinderella (1950)', 'Cliffhanger (1993)', 'Close Shave, A (1995)', 'Cold Comfort Farm (1995)', 'Conan the Barbarian (1981)', 'Coneheads (1993)', 'Copycat (1995)', 'Courage Under Fire (1996)', 'Craft, The (1996)', 'Crash (1996)', \"Dante's Peak (1997)\", 'Day the Earth Stood Still, The (1951)', 'Dead Poets Society (1989)', 'Demolition Man (1993)', 'Devil in a Blue Dress (1995)', \"Devil's Advocate, The (1997)\", \"Devil's Own, The (1997)\", 'Dial M for Murder (1954)', 'Don Juan DeMarco (1995)', 'Down by Law (1986)', 'Dr. Strangelove or: How I Learned to Stop Worrying and Love the Bomb (1963)', 'Dragonheart (1996)', 'E.T. the Extra-Terrestrial (1982)', 'Emma (1996)', 'Eraser (1996)', 'Everyone Says I Love You (1996)', 'Executive Decision (1996)', 'Fantasia (1940)', 'Fargo (1996)', 'First Knight (1995)', 'First Wives Club, The (1996)', 'Flirting With Disaster (1996)', 'Fly Away Home (1996)', 'Forbidden Planet (1956)', 'Four Weddings and a Funeral (1994)', 'Full Metal Jacket (1987)', 'G.I. Jane (1997)', 'Gandhi (1982)', 'Ghost and the Darkness, The (1996)', 'Gone with the Wind (1939)', 'Good Will Hunting (1997)', 'Good, The Bad and The Ugly, The (1966)', 'GoodFellas (1990)', 'Great Dictator, The (1940)', 'Great Escape, The (1963)', 'Grosse Pointe Blank (1997)', 'Harriet the Spy (1996)', 'Heat (1995)', 'Heavy Metal (1981)', 'Henry V (1989)', 'In & Out (1997)', 'Interview with the Vampire (1994)', 'Jackal, The (1997)', 'Jane Eyre (1996)', 'Jaws (1975)', 'Jurassic Park (1993)', 'Juror, The (1996)', 'Kingpin (1996)', 'L.A. Confidential (1997)', 'Lawnmower Man, The (1992)', 'Local Hero (1983)', 'Lost Horizon (1937)', 'Maltese Falcon, The (1941)', 'Michael Collins (1996)', 'Mighty Aphrodite (1995)', \"Miller's Crossing (1990)\", 'Moll Flanders (1996)', 'Much Ado About Nothing (1993)', 'Mulholland Falls (1996)', 'Multiplicity (1996)', 'Murder at 1600 (1997)', 'My Favorite Year (1982)', 'Net, The (1995)', 'Nightmare Before Christmas, The (1993)', 'Nightmare on Elm Street, A (1984)', 'Nightwatch (1997)', 'Nikita (La Femme Nikita) (1990)', 'Nil By Mouth (1997)', 'Nina Takes a Lover (1994)', 'Nine Months (1995)', 'Ninotchka (1939)', 'Nixon (1995)', 'No Escape (1994)', 'Nobody Loves Me (Keiner liebt mich) (1994)', 'North by Northwest (1959)', 'Nosferatu (Nosferatu, eine Symphonie des Grauens) (1922)', 'Nosferatu a Venezia (1986)', 'Nothing Personal (1995)', 'Nothing to Lose (1994)', 'Notorious (1946)', 'Omen, The (1976)', 'Open Season (1996)', 'Original Gangstas (1996)', 'Orlando (1993)', 'Oscar & Lucinda (1997)', 'Othello (1995)', 'Other Voices, Other Rooms (1997)', 'Out to Sea (1997)', 'Outbreak (1995)', 'Outlaw, The (1943)', 'Pagemaster, The (1994)', 'Pallbearer, The (1996)', 'Palmetto (1998)', 'Palookaville (1996)', 'Panther (1995)', 'Paper, The (1994)', 'Paradise Lost: The Child Murders at Robin Hood Hills (1996)', 'Paradise Road (1997)', 'Parent Trap, The (1961)', 'Paris Is Burning (1990)', 'Paris Was a Woman (1995)', 'Paris, France (1993)', 'Paris, Texas (1984)', 'Party Girl (1995)', 'Passion Fish (1992)', 'Pather Panchali (1955)', 'Paths of Glory (1957)', 'Peacemaker, The (1997)', 'Perfect World, A (1993)', 'Persuasion (1995)', 'Platoon (1986)', 'Professional, The (1994)', 'Psycho (1960)', 'Pulp Fiction (1994)', 'Ransom (1996)', 'Rear Window (1954)', 'Rebel Without a Cause (1955)', 'Restoration (1995)', 'Richard III (1995)', 'River Wild, The (1994)', 'Rosencrantz and Guildenstern Are Dead (1990)', 'Ruling Class, The (1972)', 'Saint, The (1997)', 'Secrets & Lies (1996)', 'Sense and Sensibility (1995)', 'Seven (Se7en) (1995)', 'Seventh Seal, The (Sjunde inseglet, Det) (1957)', 'Shadow, The (1994)', 'Shawshank Redemption, The (1994)', 'Shining, The (1980)', 'Silence of the Lambs, The (1991)', 'Sleeper (1973)', 'Sleepless in Seattle (1993)', \"Smilla's Sense of Snow (1997)\", 'Sneakers (1992)', 'Sound of Music, The (1965)', 'Stalingrad (1993)', 'Stand by Me (1986)', 'Star Trek V: The Final Frontier (1989)', 'Starship Troopers (1997)', \"Stephen King's The Langoliers (1995)\", 'Strange Days (1995)', 'Strictly Ballroom (1992)', 'Sword in the Stone, The (1963)', 'Tin Cup (1996)', 'Titanic (1997)', 'To Wong Foo, Thanks for Everything! Julie Newmar (1995)', 'Tomorrow Never Dies (1997)', 'Toy Story (1995)', 'Treasure of the Sierra Madre, The (1948)', 'True Romance (1993)', 'Truth About Cats & Dogs, The (1996)', 'Twelve Monkeys (1995)', 'Vertigo (1958)', 'Victor/Victoria (1982)', 'While You Were Sleeping (1995)', 'Wizard of Oz, The (1939)', 'Wrong Trousers, The (1993)', 'Young Guns (1988)']\n"
          ]
        }
      ]
    },
    {
      "cell_type": "code",
      "source": [
        "# Convert lists to sets for set operations\n",
        "set1 = set(result_list)\n",
        "set2 = set(r_list)\n",
        "\n",
        "# Create a Venn diagram\n",
        "plt.figure(figsize=(8, 8))\n",
        "venn2([set1, set2], ('Content-Based', 'Collaborative'))\n",
        "\n",
        "# Title and display the plot\n",
        "plt.title('Venn Diagram of Movie Genres')\n",
        "plt.show()\n"
      ],
      "metadata": {
        "colab": {
          "base_uri": "https://localhost:8080/",
          "height": 453
        },
        "id": "oKP5HF3c0OF7",
        "outputId": "f8733d97-b9bf-42db-9bd4-32fcd37630d0"
      },
      "execution_count": 208,
      "outputs": [
        {
          "output_type": "display_data",
          "data": {
            "text/plain": [
              "<Figure size 800x800 with 1 Axes>"
            ],
            "image/png": "[encoded data removed]"
          },
          "metadata": {}
        }
      ]
    }
  ]
}