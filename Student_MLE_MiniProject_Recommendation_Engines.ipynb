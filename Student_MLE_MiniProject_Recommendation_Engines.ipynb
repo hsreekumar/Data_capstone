{
  "nbformat": 4,
  "nbformat_minor": 0,
  "metadata": {
    "colab": {
      "provenance": [],
      "machine_shape": "hm"
    },
    "kernelspec": {
      "name": "python3",
      "display_name": "Python 3"
    },
    "language_info": {
      "name": "python"
    }
  },
  "cells": [
    {
      "cell_type": "markdown",
      "source": [
        "# Mini Project: Recommendation Engines\n",
        "\n",
        "Recommendation engines are algorithms designed to provide personalized suggestions or recommendations to users. These systems analyze user behavior, preferences, and interactions with items (products, movies, music, articles, etc.) to predict and offer items that users are likely to be interested in. Recommendation engines play a crucial role in enhancing user experience, driving engagement, and increasing conversion rates in various applications, including e-commerce, entertainment, content platforms, and more.\n",
        "\n",
        "There are generally two approaches taken in collaborative filtering and content-based recommendation engines:\n",
        "\n",
        "**1. Collaborative Filtering:**\n",
        "Collaborative Filtering is a popular approach to building recommendation systems that leverages the collective behavior of users to make personalized recommendations. It is based on the idea that users who have agreed in the past will likely agree in the future. There are two main types of collaborative filtering:\n",
        "\n",
        "- **User-based Collaborative Filtering:** This method finds users similar to the target user based on their past interactions (e.g., ratings or purchases). It then recommends items that similar users have liked but the target user has not interacted with yet.\n",
        "\n",
        "- **Item-based Collaborative Filtering:** In this approach, the system identifies similar items based on user interactions. It recommends items that are similar to the ones the target user has already liked or interacted with.\n",
        "\n",
        "Collaborative filtering does not require any explicit information about items but relies on the similarity between users or items. It is effective in capturing complex patterns and can provide serendipitous recommendations. However, it suffers from the cold-start problem (i.e., difficulty in recommending to new users or items with no interactions) and scalability challenges in large datasets.\n",
        "\n",
        "**2. Content-Based Recommendation:**\n",
        "Content-based recommendation is an alternative approach to building recommendation systems that focuses on the attributes or features of items and users. It leverages the characteristics of items to make recommendations. The key steps involved in content-based recommendation are:\n",
        "\n",
        "- **Feature Extraction:** For each item, relevant features are extracted. For movies, these features could be genre, director, actors, and plot summary.\n",
        "\n",
        "- **User Profile:** A user profile is created based on the items they have interacted with in the past. The user profile contains the weighted importance of features based on their interactions.\n",
        "\n",
        "- **Similarity Calculation:** The similarity between items or between items and the user profile is calculated using similarity metrics like cosine similarity or Euclidean distance.\n",
        "\n",
        "- **Recommendation:** Items that are most similar to the user profile are recommended to the user.\n",
        "\n",
        "Content-based recommendation systems are less affected by the cold-start problem as they can still recommend items based on their features. They are also more interpretable as they rely on item attributes. However, they may miss out on providing serendipitous recommendations and can be limited by the quality of feature extraction and user profiles.\n",
        "\n",
        "**Choosing Between Collaborative Filtering and Content-Based:**\n",
        "Both collaborative filtering and content-based approaches have their strengths and weaknesses. The choice between them depends on the specific requirements of the recommendation system, the type of data available, and the user base. Hybrid approaches that combine collaborative filtering and content-based techniques are also common, aiming to leverage the strengths of both methods and mitigate their weaknesses."
      ],
      "metadata": {
        "id": "fyXucUekO19i"
      }
    },
    {
      "cell_type": "markdown",
      "source": [
        "In this mini-project, you'll be building both content based and collaborative filtering engines for the [MovieLens 25M dataset](https://grouplens.org/datasets/movielens/25m/). The MovieLens 25M dataset is one of the most widely used and popular datasets for building and evaluating recommendation systems. It is provided by the GroupLens Research project, which collects and studies datasets related to movie ratings and recommendations. The MovieLens 25M dataset contains movie ratings and other related information contributed by users of the MovieLens website.\n",
        "\n",
        "**Dataset Details:**\n",
        "- **Size:** The dataset contains approximately 25 million movie ratings.\n",
        "- **Users:** It includes ratings from over 162,000 users.\n",
        "- **Movies:** The dataset consists of ratings for more than 62,000 movies.\n",
        "- **Ratings:** The ratings are provided on a scale of 1 to 5, where 1 is the lowest rating and 5 is the highest.\n",
        "- **Timestamps:** Each rating is associated with a timestamp, indicating when the rating was given.\n",
        "\n",
        "**Data Files:**\n",
        "The dataset is usually split into three CSV files:\n",
        "\n",
        "1. **movies.csv:** Contains information about movies, including the movie ID, title, genres, and release year.\n",
        "   - Columns: movieId, title, genres\n",
        "\n",
        "2. **ratings.csv:** Contains movie ratings provided by users, including the user ID, movie ID, rating, and timestamp.\n",
        "   - Columns: userId, movieId, rating, timestamp\n",
        "\n",
        "3. **tags.csv:** Contains user-generated tags for movies, including the user ID, movie ID, tag, and timestamp.\n",
        "   - Columns: userId, movieId, tag, timestamp"
      ],
      "metadata": {
        "id": "TYuE9O6I2uRY"
      }
    },
    {
      "cell_type": "markdown",
      "source": [
        "First, import all the libraries you'll need."
      ],
      "metadata": {
        "id": "DN0qzP-cRlMo"
      }
    },
    {
      "cell_type": "code",
      "execution_count": 80,
      "metadata": {
        "id": "kLWR1DfQPakn"
      },
      "outputs": [],
      "source": [
        "import zipfile\n",
        "import numpy as np\n",
        "import pandas as pd\n",
        "from urllib.request import urlretrieve\n",
        "from sklearn.metrics.pairwise import cosine_similarity\n",
        "from sklearn.feature_extraction.text import TfidfTransformer\n",
        "import matplotlib.pyplot as plt\n",
        "from matplotlib_venn import venn2\n",
        "\n",
        "from itertools import chain"
      ]
    },
    {
      "cell_type": "markdown",
      "source": [
        "Next, download the relevant components of the MoveLens dataset. Note, these instructions are roughly based on the colab [here](https://colab.research.google.com/github/google/eng-edu/blob/main/ml/recommendation-systems/recommendation-systems.ipynb?utm_source=ss-recommendation-systems&utm_campaign=colab-external&utm_medium=referral&utm_content=recommendation-systems#scrollTo=O3bcgduFo4s6)."
      ],
      "metadata": {
        "id": "iaG6vAKyREej"
      }
    },
    {
      "cell_type": "code",
      "source": [
        "print(\"Downloading movielens data...\")\n",
        "\n",
        "urlretrieve('http://files.grouplens.org/datasets/movielens/ml-100k.zip', 'movielens.zip')\n",
        "zip_ref = zipfile.ZipFile('movielens.zip', 'r')\n",
        "zip_ref.extractall()\n",
        "print(\"Done. Dataset contains:\")\n",
        "print(zip_ref.read('ml-100k/u.info'))\n",
        "\n",
        "ratings_cols = ['user_id', 'movie_id', 'rating', 'unix_timestamp']\n",
        "ratings = pd.read_csv(\n",
        "    'ml-100k/u.data', sep='\\t', names=ratings_cols, encoding='latin-1')\n",
        "\n",
        "# The movies file contains a binary feature for each genre.\n",
        "genre_cols = [\n",
        "    \"genre_unknown\", \"Action\", \"Adventure\", \"Animation\", \"Children\", \"Comedy\",\n",
        "    \"Crime\", \"Documentary\", \"Drama\", \"Fantasy\", \"Film-Noir\", \"Horror\",\n",
        "    \"Musical\", \"Mystery\", \"Romance\", \"Sci-Fi\", \"Thriller\", \"War\", \"Western\"\n",
        "]\n",
        "movies_cols = [\n",
        "    'movie_id', 'title', 'release_date', \"video_release_date\", \"imdb_url\"\n",
        "] + genre_cols\n",
        "movies = pd.read_csv(\n",
        "    'ml-100k/u.item', sep='|', names=movies_cols, encoding='latin-1')"
      ],
      "metadata": {
        "id": "-wCvx2ukPm-3",
        "colab": {
          "base_uri": "https://localhost:8080/"
        },
        "outputId": "15520d47-df2b-41a0-9129-4413436aeaf0"
      },
      "execution_count": 3,
      "outputs": [
        {
          "output_type": "stream",
          "name": "stdout",
          "text": [
            "Downloading movielens data...\n",
            "Done. Dataset contains:\n",
            "b'943 users\\n1682 items\\n100000 ratings\\n'\n"
          ]
        }
      ]
    },
    {
      "cell_type": "markdown",
      "source": [
        "Before doing any kind of machine learning, it's always good to familiarize yourself with the datasets you'lll be working with.\n",
        "\n",
        "Here are your tasks:\n",
        "\n",
        "1. Spend some time familiarizing yourself with both the `movies` and `ratings` dataframes. How many unique user ids are present? How many unique movies are there?\n",
        "2. Create a new dataframe that merges the `movies` and `ratings` tables on 'movie_id'. Only keep the 'user_id', 'title', 'rating' fields in this new dataframe."
      ],
      "metadata": {
        "id": "pLAMVhnbR-Cy"
      }
    },
    {
      "cell_type": "code",
      "source": [
        "print(movies.head())\n",
        "print(ratings.head())# Spend some time familiarizing yourself with both the movies and ratings\n",
        "# dataframes. How many unique user ids are present? How many unique movies are there?\n",
        "nUsers = ratings['user_id'].unique().size\n",
        "print(f'\\n no: of users: {nUsers}')\n",
        "nMovies = ratings['movie_id'].unique().size\n",
        "print(f'\\n no: of movies: {nMovies}')"
      ],
      "metadata": {
        "id": "vp7Tx7H_P5f2",
        "colab": {
          "base_uri": "https://localhost:8080/"
        },
        "outputId": "2c020460-70ce-4b66-8749-5eb38135da2b"
      },
      "execution_count": 4,
      "outputs": [
        {
          "output_type": "stream",
          "name": "stdout",
          "text": [
            "   movie_id              title release_date  video_release_date  \\\n",
            "0         1   Toy Story (1995)  01-Jan-1995                 NaN   \n",
            "1         2   GoldenEye (1995)  01-Jan-1995                 NaN   \n",
            "2         3  Four Rooms (1995)  01-Jan-1995                 NaN   \n",
            "3         4  Get Shorty (1995)  01-Jan-1995                 NaN   \n",
            "4         5     Copycat (1995)  01-Jan-1995                 NaN   \n",
            "\n",
            "                                            imdb_url  genre_unknown  Action  \\\n",
            "0  http://us.imdb.com/M/title-exact?Toy%20Story%2...              0       0   \n",
            "1  http://us.imdb.com/M/title-exact?GoldenEye%20(...              0       1   \n",
            "2  http://us.imdb.com/M/title-exact?Four%20Rooms%...              0       0   \n",
            "3  http://us.imdb.com/M/title-exact?Get%20Shorty%...              0       1   \n",
            "4  http://us.imdb.com/M/title-exact?Copycat%20(1995)              0       0   \n",
            "\n",
            "   Adventure  Animation  Children  ...  Fantasy  Film-Noir  Horror  Musical  \\\n",
            "0          0          1         1  ...        0          0       0        0   \n",
            "1          1          0         0  ...        0          0       0        0   \n",
            "2          0          0         0  ...        0          0       0        0   \n",
            "3          0          0         0  ...        0          0       0        0   \n",
            "4          0          0         0  ...        0          0       0        0   \n",
            "\n",
            "   Mystery  Romance  Sci-Fi  Thriller  War  Western  \n",
            "0        0        0       0         0    0        0  \n",
            "1        0        0       0         1    0        0  \n",
            "2        0        0       0         1    0        0  \n",
            "3        0        0       0         0    0        0  \n",
            "4        0        0       0         1    0        0  \n",
            "\n",
            "[5 rows x 24 columns]\n",
            "   user_id  movie_id  rating  unix_timestamp\n",
            "0      196       242       3       881250949\n",
            "1      186       302       3       891717742\n",
            "2       22       377       1       878887116\n",
            "3      244        51       2       880606923\n",
            "4      166       346       1       886397596\n",
            "\n",
            " no: of users: 943\n",
            "\n",
            " no: of movies: 1682\n"
          ]
        }
      ]
    },
    {
      "cell_type": "code",
      "source": [
        "merged_df = pd.merge(movies, ratings, on='movie_id')\n",
        "merged_df.head()\n",
        "print(merged_df.head())# Merge movies and ratings dataframes"
      ],
      "metadata": {
        "id": "f6MrymMJRMjB",
        "colab": {
          "base_uri": "https://localhost:8080/"
        },
        "outputId": "e0f19354-ffe3-403f-96c5-46464eb15c49"
      },
      "execution_count": 5,
      "outputs": [
        {
          "output_type": "stream",
          "name": "stdout",
          "text": [
            "   movie_id             title release_date  video_release_date  \\\n",
            "0         1  Toy Story (1995)  01-Jan-1995                 NaN   \n",
            "1         1  Toy Story (1995)  01-Jan-1995                 NaN   \n",
            "2         1  Toy Story (1995)  01-Jan-1995                 NaN   \n",
            "3         1  Toy Story (1995)  01-Jan-1995                 NaN   \n",
            "4         1  Toy Story (1995)  01-Jan-1995                 NaN   \n",
            "\n",
            "                                            imdb_url  genre_unknown  Action  \\\n",
            "0  http://us.imdb.com/M/title-exact?Toy%20Story%2...              0       0   \n",
            "1  http://us.imdb.com/M/title-exact?Toy%20Story%2...              0       0   \n",
            "2  http://us.imdb.com/M/title-exact?Toy%20Story%2...              0       0   \n",
            "3  http://us.imdb.com/M/title-exact?Toy%20Story%2...              0       0   \n",
            "4  http://us.imdb.com/M/title-exact?Toy%20Story%2...              0       0   \n",
            "\n",
            "   Adventure  Animation  Children  ...  Musical  Mystery  Romance  Sci-Fi  \\\n",
            "0          0          1         1  ...        0        0        0       0   \n",
            "1          0          1         1  ...        0        0        0       0   \n",
            "2          0          1         1  ...        0        0        0       0   \n",
            "3          0          1         1  ...        0        0        0       0   \n",
            "4          0          1         1  ...        0        0        0       0   \n",
            "\n",
            "   Thriller  War  Western  user_id  rating  unix_timestamp  \n",
            "0         0    0        0      308       4       887736532  \n",
            "1         0    0        0      287       5       875334088  \n",
            "2         0    0        0      148       4       877019411  \n",
            "3         0    0        0      280       4       891700426  \n",
            "4         0    0        0       66       3       883601324  \n",
            "\n",
            "[5 rows x 27 columns]\n"
          ]
        }
      ]
    },
    {
      "cell_type": "markdown",
      "source": [
        "As mentioned in the introduction, content-Based Filtering is a recommendation engine approach that focuses on the attributes or features of items (products, movies, music, articles, etc.) and leverages these features to make personalized recommendations. The underlying idea is to match the characteristics of items with the preferences of users to suggest items that align with their interests. Content-based filtering is particularly useful when explicit user-item interactions (e.g., ratings or purchases) are sparse or unavailable.\n",
        "\n",
        "**Key Steps in Content-Based Filtering:**\n",
        "\n",
        "1. **Feature Extraction:**\n",
        "   - For each item, relevant features are extracted. These features are typically descriptive attributes that can be represented numerically, such as genre, director, actors, author, publication date, and keywords.\n",
        "   - In the case of text-based items, natural language processing techniques may be used to extract features like TF-IDF (Term Frequency-Inverse Document Frequency) scores.\n",
        "\n",
        "2. **User Profile Creation:**\n",
        "   - A user profile is created based on the items they have interacted with in the past. The user profile contains the weighted importance of features based on their interactions.\n",
        "   - For example, if a user has watched several action movies, the action genre feature would receive a higher weight in their profile.\n",
        "\n",
        "3. **Similarity Calculation:**\n",
        "   - The similarity between items or between items and the user profile is calculated using similarity metrics like cosine similarity, Euclidean distance, or Pearson correlation.\n",
        "   - Cosine similarity is commonly used as it measures the cosine of the angle between two vectors, which represents their similarity.\n",
        "\n",
        "4. **Recommendation:**\n",
        "   - Items that are most similar to the user profile are recommended to the user. These are items whose features have the highest similarity scores with the user profile.\n",
        "   - The recommended items are presented as a list sorted by their similarity scores.\n",
        "\n",
        "**Advantages of Content-Based Filtering:**\n",
        "1. **No Cold-Start Problem:** Content-based filtering can make recommendations even for new users with no historical interactions because it relies on item features rather than user history.\n",
        "\n",
        "2. **User Independence:** The recommendations are based solely on the features of items and do not require knowledge of other users' preferences or behavior.\n",
        "\n",
        "3. **Transparency:** Content-based recommendations are interpretable, as they depend on the features of items, making it easier for users to understand why specific items are recommended.\n",
        "\n",
        "4. **Serendipity:** Content-based filtering can recommend items with characteristics not seen before by the user, leading to serendipitous discoveries.\n",
        "\n",
        "5. **Diversity in Recommendations:** The method can offer diverse recommendations since it suggests items with different feature combinations.\n",
        "\n",
        "**Limitations of Content-Based Filtering:**\n",
        "1. **Limited Discovery:** Content-based filtering may struggle to recommend items outside the scope of users' historical interactions or interests.\n",
        "\n",
        "2. **Over-Specialization:** Users may receive recommendations that are too similar to their previous choices, leading to a lack of exposure to new item categories.\n",
        "\n",
        "3. **Dependency on Feature Quality:** The quality and relevance of item features significantly influence the quality of recommendations.\n",
        "\n",
        "4. **Limited for Cold Items:** Content-based filtering can struggle to recommend new items with limited feature information."
      ],
      "metadata": {
        "id": "_U44W0TMT3qf"
      }
    },
    {
      "cell_type": "markdown",
      "source": [
        "Here is your task:\n",
        "\n",
        "1. Write a function that takes in a user id and the dataframe you created before that contains 'user_id', 'title', and 'rating'. The function should return content-based recommendations for this user. Here are steps you can take:\n",
        "\n",
        "  A. Get the user's rated movies\n",
        "\n",
        "  B. Create a TF-IDF matrix using movie genres. Note, this can be extracted from the `movies` dataframe.\n",
        "\n",
        "  C. Compute the cosine similarity between movie genres. Use the [cosine_similarity](https://scikit-learn.org/stable/modules/generated/sklearn.metrics.pairwise.cosine_similarity.html) function.\n",
        "\n",
        "  D. Get the indices of similar movies to those rated by the user based on cosine similarity. Keep only the top 5.\n",
        "\n",
        "  E. Remove duplicates and movies already rated by the user."
      ],
      "metadata": {
        "id": "sbJGD7j7Ui-8"
      }
    },
    {
      "cell_type": "code",
      "source": [
        "# Content-Based Filtering using Movie Genres\n",
        "def content_based_recommendation(user_id, df):\n",
        "  # Get the user's rated movies\n",
        "  result = {}\n",
        "  user_movies = df[merged_df['user_id'] == user_id][['title', 'rating', 'movie_id','user_id']]\n",
        "  user_movie_index = user_movies['title'].apply(lambda x: movies[movies['title'] == x].index[0]).tolist()\n",
        "  umid = user_movies['movie_id'].tolist()\n",
        "\n",
        "  #Create a TF-IDF matrix using movie genres. Note, this can be extracted from the movies dataframe.\n",
        "\n",
        "  tfidf = TfidfTransformer()\n",
        "\n",
        "  movie_genres = movies[genre_cols]\n",
        "  tfidf_matrix = tfidf.fit_transform(movie_genres)\n",
        "\n",
        "  #Compute the cosine similarity between movie genres. Use the cosine_similarity function.\n",
        "  cosine_sim = cosine_similarity(tfidf_matrix, tfidf_matrix)\n",
        "\n",
        "  #Get the indices of similar movies to those rated by the user based on cosine similarity. Keep only the top 5 movies for each user_movie_index\n",
        "\n",
        "  indices = cosine_sim[user_movie_index].argsort()\n",
        "  print(f'movies for userId : {user_id} are {user_movie_index}')\n",
        "  print(f'\\ncosine for 3rd movie with movie index: {user_movie_index[2:3]} : {cosine_sim[user_movie_index][2:3]}\\n')\n",
        "  first =cosine_sim[user_movie_index][2:3]\n",
        "  sorted_indices = first.argsort()\n",
        "  sorted_indices_descending = np.flip(sorted_indices)\n",
        "  print(f'sorted cosine for 3rd movie: {sorted_indices} \\n')\n",
        "  print('\\n---- last 5 values or the first 10 user_movies in cosines sorted order-------\\n')\n",
        "  print(indices[:10, -5:])\n",
        "  similar_indices = indices[:, -5:]\n",
        "\n",
        "\n",
        "# get the elements corresponding to sorted indices in descending order\n",
        "\n",
        "  similar_movies = []\n",
        "  present = []\n",
        "  for i in range(similar_indices.shape[0]):\n",
        "    similar_movies.append([])\n",
        "\n",
        "  for i in range(similar_indices.shape[0]):\n",
        "    movie_key = movies[movies.index == user_movie_index[i]]['title'].values[0]\n",
        "    #print(movie_key)\n",
        "    for j in range(similar_indices.shape[1]):\n",
        "        index = similar_indices[i][j]\n",
        "\n",
        "        # Check if the index is in the movies DataFrame\n",
        "        if not np.isin(index, list(movies.index)):\n",
        "            similar_movies[i].append(None)\n",
        "        else:\n",
        "            movie_id = movies[movies.index == index]['movie_id'].values[0]\n",
        "            # Check if the movie_id is not in the user's rated movies\n",
        "            if movie_id not in umid:\n",
        "                m = movies[movies['movie_id'] == index]\n",
        "                # Check if the DataFrame is not empty before accessing its elements\n",
        "                if not m.empty:\n",
        "                    movie_title = m['title'].values[0]  # Extract the title from the DataFrame\n",
        "                    if movie_title not in present:\n",
        "                      # Avoid duplicates\n",
        "                      present.append(movie_title)\n",
        "                      similar_movies[i].append(movie_title)\n",
        "\n",
        "    result[movie_key] =  similar_movies[i]\n",
        "\n",
        "  return result, present\n"
      ],
      "metadata": {
        "id": "JwBQSC-POTzn"
      },
      "execution_count": 23,
      "outputs": []
    },
    {
      "cell_type": "code",
      "source": [
        "result_map, result_list = content_based_recommendation(22, merged_df)\n",
        "print(f'\\nResult Map: {result_map} \\n')\n",
        "print(f'Result List: {result_list}')\n"
      ],
      "metadata": {
        "colab": {
          "base_uri": "https://localhost:8080/"
        },
        "id": "OlXbnc6uA0Pi",
        "outputId": "6ae10c2e-12b7-4d21-bb8c-3a443bd70299"
      },
      "execution_count": 25,
      "outputs": [
        {
          "output_type": "stream",
          "name": "stdout",
          "text": [
            "movies for userId : 22 are [1, 3, 16, 20, 23, 28, 49, 52, 61, 67, 78, 79, 84, 88, 93, 95, 104, 108, 109, 116, 117, 120, 126, 127, 143, 152, 153, 160, 162, 166, 167, 171, 172, 173, 174, 175, 180, 183, 185, 186, 193, 194, 200, 201, 203, 207, 208, 209, 210, 215, 221, 225, 226, 227, 228, 229, 230, 232, 237, 240, 249, 257, 264, 289, 293, 357, 366, 375, 376, 383, 384, 385, 392, 398, 402, 404, 406, 410, 429, 430, 432, 434, 448, 450, 454, 455, 501, 509, 510, 514, 522, 525, 545, 549, 553, 565, 567, 635, 647, 650, 664, 682, 683, 686, 687, 691, 711, 730, 731, 779, 790, 791, 839, 861, 870, 877, 925, 931, 947, 987, 995, 996, 997, 998, 999, 1000, 1001, 877]\n",
            "\n",
            "cosine for 3rd movie with movie index: [16] : [[0.10801791 0.43694049 0.40701128 ... 0.         0.30913614 0.        ]]\n",
            "\n",
            "sorted cosine for 3rd movie: [[1681  470 1084 ...  272  395   16]] \n",
            "\n",
            "\n",
            "---- last 5 values or the first 10 user_movies in cosines sorted order-------\n",
            "\n",
            "[[ 565  929    1 1015 1104]\n",
            " [1180 1182  875   73    3]\n",
            " [ 306 1138  272  395   16]\n",
            " [1313  117  185  361   20]\n",
            " [  28  402  575  253   23]\n",
            " [  23  253  575  230   28]\n",
            " [ 497  270  171   49  180]\n",
            " [1547   78 1594  545  840]\n",
            " [ 227  228  229   61  448]\n",
            " [ 567   32 1088  750   67]]\n",
            "\n",
            "Result Map: {'GoldenEye (1995)': ['Harriet the Spy (1996)', 'Shiloh (1997)', \"C'est arrivé près de chez vous (1992)\"], 'Get Shorty (1995)': ['I Love Trouble (1994)', 'Cops and Robbersons (1994)', \"She's So Lovely (1997)\", 'Maverick (1994)'], 'From Dusk Till Dawn (1996)': ['Mrs. Brown (Her Majesty, Mrs. Brown) (1997)', 'Best Men (1997)', 'Good Will Hunting (1997)', 'Robin Hood: Men in Tights (1993)'], 'Muppet Treasure Island (1996)': ['Palmetto (1998)', 'Incognito (1997)'], 'Rumble in the Bronx (1995)': [\"City Slickers II: The Legend of Curly's Gold (1994)\", 'Pillow Book, The (1995)'], 'Batman Forever (1995)': [], 'Star Wars (1977)': ['Bringing Up Baby (1938)', 'Gattaca (1997)'], 'Natural Born Killers (1994)': ['Show, The (1995)', 'Everest (1998)', 'Last Man Standing (1996)'], 'Stargate (1994)': [], 'Crow, The (1994)': ['Crumb (1994)', 'Double Team (1997)', 'Amistad (1997)'], 'Fugitive, The (1993)': [], 'Hot Shots! Part Deux (1993)': ['Godfather: Part II, The (1974)', 'Crash (1996)'], 'Ref, The (1994)': ['Nutty Professor, The (1996)', 'Kundun (1997)', 'Surviving Picasso (1996)', 'Babysitter, The (1995)'], 'Blade Runner (1982)': ['Woman in Question, The (1950)', 'Bhaji on the Beach (1993)', 'Roman Holiday (1953)', 'Seven Years in Tibet (1997)'], 'Home Alone (1990)': ['Stargate (1994)', 'Anastasia (1997)', 'Pollyanna (1960)', 'D3: The Mighty Ducks (1996)', 'Event Horizon (1997)'], 'Terminator 2: Judgment Day (1991)': ['Great White Hype, The (1996)', \"Ulee's Gold (1997)\", 'Primary Colors (1998)', 'Devil in a Blue Dress (1995)', 'Shopping (1994)'], 'Sgt. Bilko (1996)': [], 'Mystery Science Theater 3000: The Movie (1996)': ['Cinema Paradiso (1988)', 'Cliffhanger (1993)', 'Hideaway (1995)'], 'Operation Dumbo Drop (1995)': ['Treasure of the Sierra Madre, The (1948)', \"Daniel Defoe's Robinson Crusoe (1996)\"], 'Rock, The (1996)': [], 'Twister (1996)': [], 'Independence Day (ID4) (1996)': ['James and the Giant Peach (1996)', 'Jaws (1975)'], 'Godfather, The (1972)': ['Nightwatch (1997)', 'American Dream (1990)', 'Manhattan Murder Mystery (1993)'], 'Supercop (1992)': [], 'Die Hard (1988)': [], 'Fish Called Wanda, A (1988)': [], \"Monty Python's Life of Brian (1979)\": [], 'Top Gun (1986)': ['Midnight in the Garden of Good and Evil (1997)', 'Akira (1988)', 'Gate of Heavenly Peace, The (1995)', 'Murder, My Sweet (1944)'], 'Return of the Pink Panther, The (1974)': [], 'Private Benjamin (1980)': [], 'Monty Python and the Holy Grail (1974)': [], 'Empire Strikes Back, The (1980)': [], 'Princess Bride, The (1987)': ['Canadian Bacon (1994)', 'Full Speed (1996)'], 'Raiders of the Lost Ark (1981)': ['Homeward Bound II: Lost in San Francisco (1996)', 'Money Train (1995)', 'Long Kiss Goodnight, The (1996)', 'Hunt for Red October, The (1990)'], 'Brazil (1985)': ['Backbeat (1993)', 'Lord of Illusions (1995)', 'Fair Game (1995)', \"Roseanna's Grave (For Roseanna) (1997)\"], 'Aliens (1986)': ['That Darn Cat! (1997)'], 'Return of the Jedi (1983)': [], 'Army of Darkness (1993)': ['Wild Bunch, The (1969)', 'Spice World (1997)', 'When the Cats Away (Chacun cherche son chat) (1996)'], 'Blues Brothers, The (1980)': ['Prophecy II, The (1998)', 'Oliver & Company (1988)', 'Month by the Lake, A (1995)'], 'Godfather: Part II, The (1974)': [], 'Sting, The (1973)': ['Turbo: A Power Rangers Movie (1997)', 'Flirt (1995)', 'Apartment, The (1960)', \"I Don't Want to Talk About It (De eso no se habla) (1993)\"], 'Terminator, The (1984)': [], 'Evil Dead II (1987)': ['Grease (1978)', 'Jaws 2 (1978)'], 'Groundhog Day (1993)': ['Hearts and Minds (1996)', 'Ice Storm, The (1997)', 'Sirens (1994)', 'Meet Wally Sparks (1997)', 'Nightmare on Elm Street, A (1984)'], 'Back to the Future (1985)': [], 'Young Frankenstein (1974)': ['Amityville: Dollhouse (1996)', 'Cable Guy, The (1996)', 'Braindead (1992)', 'Bloody Child, The (1996)', 'Purple Noon (1960)'], 'This Is Spinal Tap (1984)': ['Love Affair (1994)'], 'Indiana Jones and the Last Crusade (1989)': [], 'M*A*S*H (1970)': ['Hear My Song (1991)'], 'When Harry Met Sally... (1989)': [], 'Star Trek: First Contact (1996)': [], 'Die Hard 2 (1990)': [], 'Star Trek VI: The Undiscovered Country (1991)': [], 'Star Trek: The Wrath of Khan (1982)': [], 'Star Trek III: The Search for Spock (1984)': [], 'Star Trek IV: The Voyage Home (1986)': [], 'Batman Returns (1992)': [], 'Under Siege (1992)': ['Night Flier (1997)', 'In the Company of Men (1997)', 'Lay of the Land, The (1997)', 'Machine, The (1994)', \"It's My Party (1995)\"], 'Raising Arizona (1987)': [], 'Last of the Mohicans, The (1992)': ['Last Time I Saw Paris, The (1954)', \"Ed's Next Move (1996)\", 'Original Gangstas (1996)', 'Great Race, The (1965)'], 'Fifth Element, The (1997)': ['Coneheads (1993)', 'In the Realm of the Senses (Ai no corrida) (1976)', 'Speechless (1994)', 'Joy Luck Club, The (1993)'], 'Contact (1997)': ['Shanghai Triad (Yao a yao yao dao waipo qiao) (1995)', 'Harold and Maude (1971)', 'Double vie de Véronique, La (Double Life of Veronique, The) (1991)'], 'Hunt for Red October, The (1990)': [], 'Fierce Creatures (1997)': [], 'Liar Liar (1997)': [], 'Spawn (1997)': ['Return of the Pink Panther, The (1974)', 'Shall We Dance? (1996)', 'Power 98 (1995)'], 'Clueless (1995)': [], 'Houseguest (1994)': [], 'Heavyweights (1994)': [], 'Naked Gun 33 1/3: The Final Insult (1994)': [], 'True Lies (1994)': [], 'Addams Family Values (1993)': [], 'Mrs. Doubtfire (1993)': [], 'Three Musketeers, The (1993)': ['Alaska (1996)', 'To Catch a Thief (1955)', 'Tango Lesson, The (1997)'], 'Batman (1989)': [], 'Mission: Impossible (1996)': ['Program, The (1993)', 'Casper (1995)'], 'Spy Hard (1996)': [], 'Nutty Professor, The (1996)': ['I, Worst of All (Yo, la peor de todas) (1990)', 'Aladdin and the King of Thieves (1996)', 'Cool Runnings (1993)', 'Interview with the Vampire (1994)'], 'Duck Soup (1933)': [], 'Highlander (1986)': [], 'Heathers (1989)': [], 'Butch Cassidy and the Sundance Kid (1969)': ['Aliens (1986)', 'Switchblade Sisters (1975)', 'Mask, The (1994)', 'Batman Returns (1992)'], 'Star Trek: The Motion Picture (1979)': [], 'Grease (1978)': ['Princess Caraboo (1994)', \"Schindler's List (1993)\", 'Drop Dead Fred (1991)', 'Maybe, Maybe Not (Bewegte Mann, Der) (1994)'], \"Jackie Chan's First Strike (1996)\": [], 'Beverly Hills Ninja (1997)': ['Fear of a Black Hat (1993)', 'Man in the Iron Mask, The (1998)', 'Soul Food (1997)'], 'Bananas (1971)': [], 'Magnificent Seven, The (1954)': [], 'Lawrence of Arabia (1962)': [], 'Boot, Das (1981)': ['Hard Target (1993)', 'Muppet Treasure Island (1996)'], 'Cool Hand Luke (1967)': ['Jackie Brown (1997)', 'Apostle, The (1997)', 'Two Much (1996)', 'Fire Down Below (1997)', 'Vermont Is For Lovers (1992)'], 'Ben-Hur (1959)': ['Conan the Barbarian (1981)'], 'Broken Arrow (1996)': [], 'Die Hard: With a Vengeance (1995)': [], 'Waterworld (1995)': [], 'Clear and Present Danger (1994)': [], 'Speed (1994)': [], 'Escape from New York (1981)': [], 'Quiet Man, The (1952)': [], 'Glory (1989)': [], 'Alien 3 (1992)': ['Man Who Knew Too Little, The (1997)', 'GoodFellas (1990)'], 'Rocket Man (1997)': [], 'In the Line of Fire (1993)': [], \"McHale's Navy (1997)\": [], 'Leave It to Beaver (1997)': [], 'American President, The (1995)': ['Lawrence of Arabia (1962)', 'Red Firecracker, Green Firecracker (1994)', 'Paradise Road (1997)', 'Wrong Trousers, The (1993)'], 'Tin Men (1987)': [], 'Corrina, Corrina (1994)': [], 'Dave (1993)': [], 'Dumb & Dumber (1994)': [], 'Baby-Sitters Club, The (1995)': ['Exit to Eden (1994)', 'Apple Dumpling Gang, The (1975)', 'Police Story 4: Project S (Chao ji ji hua) (1993)', 'Portrait of a Lady, The (1996)'], 'Bullets Over Broadway (1994)': [], 'Last Man Standing (1996)': [], 'Jingle All the Way (1996)': ['Selena (1997)', 'Jefferson in Paris (1995)', 'Reckless (1995)', 'Swingers (1996)'], 'Vegas Vacation (1997)': [], 'That Darn Cat! (1997)': [], 'Down Periscope (1996)': [], 'First Kid (1996)': [], 'Booty Call (1997)': [], 'Beautician and the Beast, The (1997)': [], 'Big Green, The (1995)': [], 'Stuart Saves His Family (1995)': [], 'Cabin Boy (1994)': [], 'Clean Slate (1994)': [], 'Lightning Jack (1994)': ['Beauty and the Beast (1991)', 'Angel and the Badman (1947)', 'Groundhog Day (1993)', 'Boxing Helena (1993)'], 'Stupids, The (1996)': [], 'Pest, The (1997)': []} \n",
            "\n",
            "Result List: ['Harriet the Spy (1996)', 'Shiloh (1997)', \"C'est arrivé près de chez vous (1992)\", 'I Love Trouble (1994)', 'Cops and Robbersons (1994)', \"She's So Lovely (1997)\", 'Maverick (1994)', 'Mrs. Brown (Her Majesty, Mrs. Brown) (1997)', 'Best Men (1997)', 'Good Will Hunting (1997)', 'Robin Hood: Men in Tights (1993)', 'Palmetto (1998)', 'Incognito (1997)', \"City Slickers II: The Legend of Curly's Gold (1994)\", 'Pillow Book, The (1995)', 'Bringing Up Baby (1938)', 'Gattaca (1997)', 'Show, The (1995)', 'Everest (1998)', 'Last Man Standing (1996)', 'Crumb (1994)', 'Double Team (1997)', 'Amistad (1997)', 'Godfather: Part II, The (1974)', 'Crash (1996)', 'Nutty Professor, The (1996)', 'Kundun (1997)', 'Surviving Picasso (1996)', 'Babysitter, The (1995)', 'Woman in Question, The (1950)', 'Bhaji on the Beach (1993)', 'Roman Holiday (1953)', 'Seven Years in Tibet (1997)', 'Stargate (1994)', 'Anastasia (1997)', 'Pollyanna (1960)', 'D3: The Mighty Ducks (1996)', 'Event Horizon (1997)', 'Great White Hype, The (1996)', \"Ulee's Gold (1997)\", 'Primary Colors (1998)', 'Devil in a Blue Dress (1995)', 'Shopping (1994)', 'Cinema Paradiso (1988)', 'Cliffhanger (1993)', 'Hideaway (1995)', 'Treasure of the Sierra Madre, The (1948)', \"Daniel Defoe's Robinson Crusoe (1996)\", 'James and the Giant Peach (1996)', 'Jaws (1975)', 'Nightwatch (1997)', 'American Dream (1990)', 'Manhattan Murder Mystery (1993)', 'Midnight in the Garden of Good and Evil (1997)', 'Akira (1988)', 'Gate of Heavenly Peace, The (1995)', 'Murder, My Sweet (1944)', 'Canadian Bacon (1994)', 'Full Speed (1996)', 'Homeward Bound II: Lost in San Francisco (1996)', 'Money Train (1995)', 'Long Kiss Goodnight, The (1996)', 'Hunt for Red October, The (1990)', 'Backbeat (1993)', 'Lord of Illusions (1995)', 'Fair Game (1995)', \"Roseanna's Grave (For Roseanna) (1997)\", 'That Darn Cat! (1997)', 'Wild Bunch, The (1969)', 'Spice World (1997)', 'When the Cats Away (Chacun cherche son chat) (1996)', 'Prophecy II, The (1998)', 'Oliver & Company (1988)', 'Month by the Lake, A (1995)', 'Turbo: A Power Rangers Movie (1997)', 'Flirt (1995)', 'Apartment, The (1960)', \"I Don't Want to Talk About It (De eso no se habla) (1993)\", 'Grease (1978)', 'Jaws 2 (1978)', 'Hearts and Minds (1996)', 'Ice Storm, The (1997)', 'Sirens (1994)', 'Meet Wally Sparks (1997)', 'Nightmare on Elm Street, A (1984)', 'Amityville: Dollhouse (1996)', 'Cable Guy, The (1996)', 'Braindead (1992)', 'Bloody Child, The (1996)', 'Purple Noon (1960)', 'Love Affair (1994)', 'Hear My Song (1991)', 'Night Flier (1997)', 'In the Company of Men (1997)', 'Lay of the Land, The (1997)', 'Machine, The (1994)', \"It's My Party (1995)\", 'Last Time I Saw Paris, The (1954)', \"Ed's Next Move (1996)\", 'Original Gangstas (1996)', 'Great Race, The (1965)', 'Coneheads (1993)', 'In the Realm of the Senses (Ai no corrida) (1976)', 'Speechless (1994)', 'Joy Luck Club, The (1993)', 'Shanghai Triad (Yao a yao yao dao waipo qiao) (1995)', 'Harold and Maude (1971)', 'Double vie de Véronique, La (Double Life of Veronique, The) (1991)', 'Return of the Pink Panther, The (1974)', 'Shall We Dance? (1996)', 'Power 98 (1995)', 'Alaska (1996)', 'To Catch a Thief (1955)', 'Tango Lesson, The (1997)', 'Program, The (1993)', 'Casper (1995)', 'I, Worst of All (Yo, la peor de todas) (1990)', 'Aladdin and the King of Thieves (1996)', 'Cool Runnings (1993)', 'Interview with the Vampire (1994)', 'Aliens (1986)', 'Switchblade Sisters (1975)', 'Mask, The (1994)', 'Batman Returns (1992)', 'Princess Caraboo (1994)', \"Schindler's List (1993)\", 'Drop Dead Fred (1991)', 'Maybe, Maybe Not (Bewegte Mann, Der) (1994)', 'Fear of a Black Hat (1993)', 'Man in the Iron Mask, The (1998)', 'Soul Food (1997)', 'Hard Target (1993)', 'Muppet Treasure Island (1996)', 'Jackie Brown (1997)', 'Apostle, The (1997)', 'Two Much (1996)', 'Fire Down Below (1997)', 'Vermont Is For Lovers (1992)', 'Conan the Barbarian (1981)', 'Man Who Knew Too Little, The (1997)', 'GoodFellas (1990)', 'Lawrence of Arabia (1962)', 'Red Firecracker, Green Firecracker (1994)', 'Paradise Road (1997)', 'Wrong Trousers, The (1993)', 'Exit to Eden (1994)', 'Apple Dumpling Gang, The (1975)', 'Police Story 4: Project S (Chao ji ji hua) (1993)', 'Portrait of a Lady, The (1996)', 'Selena (1997)', 'Jefferson in Paris (1995)', 'Reckless (1995)', 'Swingers (1996)', 'Foreign Correspondent (1940)', 'Jimmy Hollywood (1994)', '8 Seconds (1994)', 'Beauty and the Beast (1991)', 'Angel and the Badman (1947)', 'Groundhog Day (1993)', 'Boxing Helena (1993)']\n"
          ]
        }
      ]
    },
    {
      "cell_type": "markdown",
      "source": [
        "The key idea behind collaborative filtering is that users who have agreed in the past will likely agree in the future. Instead of relying on item attributes or user profiles, collaborative filtering identifies patterns of user behavior and item preferences from the interactions present in the data.\n",
        "\n",
        "**Types of Collaborative Filtering:**\n",
        "There are two main types of collaborative filtering:\n",
        "\n",
        "**Collaborative Filtering Process:**\n",
        "The collaborative filtering process typically involves the following steps:\n",
        "\n",
        "1. **Data Collection:**\n",
        "   - Gather data on user-item interactions, such as movie ratings, product purchases, or article clicks.\n",
        "\n",
        "2. **User-Item Matrix:**\n",
        "   - Organize the data into a user-item matrix, where rows represent users, columns represent items, and the entries contain the users' interactions (e.g., ratings).\n",
        "\n",
        "3. **Similarity Calculation:**\n",
        "   - Calculate the similarity between users or items using similarity metrics such as cosine similarity, Pearson correlation, or Jaccard similarity.\n",
        "   - For user-based collaborative filtering, user similarities are calculated, and for item-based collaborative filtering, item similarities are calculated.\n",
        "\n",
        "4. **Neighborhood Selection:**\n",
        "   - For each user or item, select the most similar users or items as the neighborhood.\n",
        "   - The size of the neighborhood (the number of similar users or items to consider) is an important parameter to control the system's behavior.\n",
        "\n",
        "5. **Prediction Generation:**\n",
        "   - Predict the ratings for items that the target user has not yet interacted with by combining the ratings of neighboring users or items.\n",
        "\n",
        "6. **Recommendation Generation:**\n",
        "   - Recommend items with the highest predicted ratings to the target user.\n",
        "\n",
        "**Advantages of Collaborative Filtering using User-Item Interactions:**\n",
        "- Collaborative filtering is based solely on user interactions and does not require knowledge of item attributes, making it useful for cases where item data is sparse or unavailable.\n",
        "- It can provide serendipitous recommendations, suggesting items that users may not have discovered on their own.\n",
        "- Collaborative filtering can be applied in various domains, including e-commerce, music, movie, and content recommendations.\n",
        "\n",
        "**Limitations of Collaborative Filtering:**\n",
        "- The cold-start problem: Collaborative filtering struggles to recommend to new users or items with no or limited interaction history.\n",
        "- It may suffer from sparsity when data is limited or when users have only interacted with a small subset of items.\n",
        "- Scalability issues can arise with large datasets and an increasing number of users or items."
      ],
      "metadata": {
        "id": "2NNt3gHLYDxU"
      }
    },
    {
      "cell_type": "markdown",
      "source": [
        "Here is your task:\n",
        "\n",
        "1. Write a function that takes in a user id and the dataframe you created before that contains 'user_id', 'title', and 'rating'. The function should return collaborative filtering recommendations for this user based on a user-item interaction matrix. Here are steps you can take:\n",
        "\n",
        "  A. Create the user-item matrix using Pandas' [pivot_table](https://pandas.pydata.org/docs/reference/api/pandas.pivot_table.html).\n",
        "\n",
        "  B. Fill missing values with zeros in this matrix.\n",
        "\n",
        "  C. Calculate user-user similarity matrix using cosine similarity.\n",
        "\n",
        "  D. Get the array of similarity scores of the target user with all other users from the similarity matrix.\n",
        "\n",
        "  E. Extract, say the the top 5 most similar users (excluding the target user).\n",
        "\n",
        "  F. Generate movie recommendations based on the most similar users.\n",
        "\n",
        "  G. Remove duplicate movies recommendations."
      ],
      "metadata": {
        "id": "ks4mWyCaYVNY"
      }
    },
    {
      "cell_type": "code",
      "source": [
        "# Collaborative Filtering using User-Item Interactions\n",
        "def collaborative_filtering_recommendation(user_id, df):\n",
        "  # Create the user-item matrix\n",
        "  user_item_matrix = df.pivot_table(index='user_id', columns='title', values='rating')\n",
        "  #print(user_item_matrix)\n",
        "  # Fill missing values with 0 (indicating no rating)\n",
        "  user_item_matrix = user_item_matrix.fillna(0)\n",
        "  # Calculate user-user similarity matrix using cosine similarity\n",
        "  user_similarity = cosine_similarity(user_item_matrix)\n",
        "  # Get the array of similarity scores of the target user with all other users\n",
        "  target_user_similarity = user_similarity[user_id - 1]\n",
        "  # Find the top N most similar users (excluding the target user)\n",
        "  top_similar_users = np.argsort(target_user_similarity)[::-1][:6]\n",
        "  print(f'top_similar_users:{top_similar_users}\\n')\n",
        "  top_similar_users = top_similar_users[1:]\n",
        "  print(f'top_similar_users excluding self:{top_similar_users}\\n')\n",
        "  # Generate movie recommendations based on the most similar users\n",
        "  recommendations = {}\n",
        "  for user_index in top_similar_users:\n",
        "    user_ratings = user_item_matrix.iloc[user_index]\n",
        "  # Remove duplicates from recommendations\n",
        "    top50 = user_ratings[user_ratings != 0].sort_values( ascending=False).head(50).index.tolist()\n",
        "    recommendations[user_index + 1] = top50\n",
        "    print(f'user_ratings for {user_index +1}:{top50[:10]}\\n')\n",
        "  return recommendations"
      ],
      "metadata": {
        "id": "BqZPgKRDWf-c"
      },
      "execution_count": 82,
      "outputs": []
    },
    {
      "cell_type": "markdown",
      "source": [
        "Now, test your recommendations engines! Select a few user ids and generate recommendations using both functions you've written. Are the recommendations similar? Do the recommendations make sense?"
      ],
      "metadata": {
        "id": "-Jj883VAZRNe"
      }
    },
    {
      "cell_type": "code",
      "source": [
        "# Test the recommendation engines\n",
        "r_map = collaborative_filtering_recommendation(22, merged_df)\n",
        "r_list = list(r_map.values())\n",
        "print(f'\\nResults map:{r_map} \\n')\n",
        "print(f'Results List:{r_list}')"
      ],
      "metadata": {
        "id": "kt9nuOTNJXz8",
        "colab": {
          "base_uri": "https://localhost:8080/"
        },
        "outputId": "59e55c5f-4d32-4a22-d5c1-04bfa1192792"
      },
      "execution_count": 83,
      "outputs": [
        {
          "output_type": "stream",
          "name": "stdout",
          "text": [
            "top_similar_users:[ 21 637 745 157 647 101]\n",
            "\n",
            "top_similar_users excluding self:[637 745 157 647 101]\n",
            "\n",
            "user_ratings for 638:['Return of the Jedi (1983)', 'Braveheart (1995)', 'Psycho (1960)', 'Duck Soup (1933)', 'Raiders of the Lost Ark (1981)', 'Die Hard: With a Vengeance (1995)', 'Die Hard 2 (1990)', 'Die Hard (1988)', 'Star Trek IV: The Voyage Home (1986)', 'Hunt for Red October, The (1990)']\n",
            "\n",
            "user_ratings for 746:['Indiana Jones and the Last Crusade (1989)', 'Fugitive, The (1993)', 'Empire Strikes Back, The (1980)', 'True Lies (1994)', 'Groundhog Day (1993)', 'Highlander (1986)', 'Die Hard (1988)', 'Star Wars (1977)', 'Raiders of the Lost Ark (1981)', 'Back to the Future (1985)']\n",
            "\n",
            "user_ratings for 158:['Jurassic Park (1993)', 'Star Trek: The Wrath of Khan (1982)', 'Casablanca (1942)', 'Groundhog Day (1993)', 'GoodFellas (1990)', 'Close Shave, A (1995)', 'Cold Comfort Farm (1995)', 'Sense and Sensibility (1995)', 'Secrets & Lies (1996)', 'Godfather: Part II, The (1974)']\n",
            "\n",
            "user_ratings for 648:['Young Frankenstein (1974)', 'Speed (1994)', 'Fly Away Home (1996)', 'Fantasia (1940)', 'Executive Decision (1996)', 'Sense and Sensibility (1995)', 'Empire Strikes Back, The (1980)', 'Duck Soup (1933)', 'Sleeper (1973)', \"Dante's Peak (1997)\"]\n",
            "\n",
            "user_ratings for 102:['Young Frankenstein (1974)', 'Lost Horizon (1937)', 'Brazil (1985)', 'Magnificent Seven, The (1954)', 'Everyone Says I Love You (1996)', 'Blues Brothers, The (1980)', 'Carrie (1976)', 'Blade Runner (1982)', 'Star Trek VI: The Undiscovered Country (1991)', 'Star Trek: The Motion Picture (1979)']\n",
            "\n",
            "\n",
            "Results map:{638: ['Return of the Jedi (1983)', 'Braveheart (1995)', 'Psycho (1960)', 'Duck Soup (1933)', 'Raiders of the Lost Ark (1981)', 'Die Hard: With a Vengeance (1995)', 'Die Hard 2 (1990)', 'Die Hard (1988)', 'Star Trek IV: The Voyage Home (1986)', 'Hunt for Red October, The (1990)', 'Back to the Future (1985)', 'Blues Brothers, The (1980)', 'True Lies (1994)', 'Star Trek: First Contact (1996)', 'Independence Day (ID4) (1996)', 'Jaws (1975)', 'Kingpin (1996)', 'M*A*S*H (1970)', 'Monty Python and the Holy Grail (1974)', 'Top Gun (1986)', 'Star Wars (1977)', 'Terminator, The (1984)', 'Terminator 2: Judgment Day (1991)', 'Raising Arizona (1987)', 'Highlander (1986)', 'Rock, The (1996)', 'Alien (1979)', 'Indiana Jones and the Last Crusade (1989)', 'Empire Strikes Back, The (1980)', 'Boot, Das (1981)', 'Get Shorty (1995)', 'Blade Runner (1982)', 'Executive Decision (1996)', 'Cool Hand Luke (1967)', 'Brazil (1985)', 'Groundhog Day (1993)', 'Butch Cassidy and the Sundance Kid (1969)', 'Silence of the Lambs, The (1991)', 'Conan the Barbarian (1981)', 'Star Trek: The Wrath of Khan (1982)', 'Sting, The (1973)', 'Supercop (1992)', 'Batman (1989)', 'Twister (1996)', 'Stargate (1994)', 'Waterworld (1995)', 'Dragonheart (1996)', 'Last of the Mohicans, The (1992)', 'Full Metal Jacket (1987)', 'Aliens (1986)'], 746: ['Indiana Jones and the Last Crusade (1989)', 'Fugitive, The (1993)', 'Empire Strikes Back, The (1980)', 'True Lies (1994)', 'Groundhog Day (1993)', 'Highlander (1986)', 'Die Hard (1988)', 'Star Wars (1977)', 'Raiders of the Lost Ark (1981)', 'Back to the Future (1985)', 'Return of the Jedi (1983)', 'Aliens (1986)', 'Platoon (1986)', 'Star Trek: The Wrath of Khan (1982)', 'Much Ado About Nothing (1993)', 'Jurassic Park (1993)', \"Jackie Chan's First Strike (1996)\", 'Alien (1979)', 'In the Line of Fire (1993)', 'Hunt for Red October, The (1990)', 'Speed (1994)', 'Shawshank Redemption, The (1994)', 'Terminator 2: Judgment Day (1991)', 'Toy Story (1995)', 'Clear and Present Danger (1994)', 'Rumble in the Bronx (1995)', 'Army of Darkness (1993)', 'Babe (1995)', 'Batman (1989)', 'Young Frankenstein (1974)', 'Blade Runner (1982)', 'Blues Brothers, The (1980)', 'Braveheart (1995)', 'Wizard of Oz, The (1939)', 'Rock, The (1996)', 'Under Siege (1992)', 'Crow, The (1994)', 'Dead Poets Society (1989)', 'Demolition Man (1993)', 'Die Hard 2 (1990)', 'Die Hard: With a Vengeance (1995)', 'Eraser (1996)', 'Stargate (1994)', 'Supercop (1992)', 'Star Trek: First Contact (1996)', 'Three Musketeers, The (1993)', 'Top Gun (1986)', 'Young Guns (1988)', 'River Wild, The (1994)', 'Rebel Without a Cause (1955)'], 158: ['Jurassic Park (1993)', 'Star Trek: The Wrath of Khan (1982)', 'Casablanca (1942)', 'Groundhog Day (1993)', 'GoodFellas (1990)', 'Close Shave, A (1995)', 'Cold Comfort Farm (1995)', 'Sense and Sensibility (1995)', 'Secrets & Lies (1996)', 'Godfather: Part II, The (1974)', 'Godfather, The (1972)', 'Glory (1989)', 'Devil in a Blue Dress (1995)', 'Monty Python and the Holy Grail (1974)', 'Much Ado About Nothing (1993)', 'Duck Soup (1933)', 'Emma (1996)', 'Raising Arizona (1987)', 'Raiders of the Lost Ark (1981)', 'Quiet Man, The (1952)', 'Pulp Fiction (1994)', 'Fargo (1996)', 'Perfect World, A (1993)', 'Persuasion (1995)', 'Butch Cassidy and the Sundance Kid (1969)', 'Terminator, The (1984)', 'Strictly Ballroom (1992)', 'Young Frankenstein (1974)', 'Twister (1996)', 'Twelve Monkeys (1995)', 'Lawrence of Arabia (1962)', 'Highlander (1986)', 'Arsenic and Old Lace (1944)', 'Babe (1995)', 'Tin Cup (1996)', 'This Is Spinal Tap (1984)', 'Braveheart (1995)', 'Henry V (1989)', 'Princess Bride, The (1987)', 'Strange Days (1995)', 'Sting, The (1973)', \"Bram Stoker's Dracula (1992)\", 'Bound (1996)', 'Stargate (1994)', 'Big Night (1996)', 'Local Hero (1983)', 'Blade Runner (1982)', 'Big Sleep, The (1946)', 'My Favorite Year (1982)', 'Multiplicity (1996)'], 648: ['Young Frankenstein (1974)', 'Speed (1994)', 'Fly Away Home (1996)', 'Fantasia (1940)', 'Executive Decision (1996)', 'Sense and Sensibility (1995)', 'Empire Strikes Back, The (1980)', 'Duck Soup (1933)', 'Sleeper (1973)', \"Dante's Peak (1997)\", 'Star Trek IV: The Voyage Home (1986)', 'Terminator 2: Judgment Day (1991)', 'Star Trek: First Contact (1996)', 'Star Trek: The Wrath of Khan (1982)', 'Star Wars (1977)', 'Stargate (1994)', \"Stephen King's The Langoliers (1995)\", 'Casablanca (1942)', 'Carrie (1976)', 'Sting, The (1973)', 'Forbidden Planet (1956)', 'Return of the Jedi (1983)', 'Rear Window (1954)', 'Ransom (1996)', 'Magnificent Seven, The (1954)', 'Monty Python and the Holy Grail (1974)', \"Monty Python's Life of Brian (1979)\", 'Jurassic Park (1993)', 'Jaws (1975)', 'Mystery Science Theater 3000: The Movie (1996)', 'Net, The (1995)', 'Independence Day (ID4) (1996)', 'Home Alone (1990)', 'Highlander (1986)', 'Princess Bride, The (1987)', 'Groundhog Day (1993)', 'Good, The Bad and The Ugly, The (1966)', 'Psycho (1960)', 'Raiders of the Lost Ark (1981)', 'Full Metal Jacket (1987)', 'Fugitive, The (1993)', 'Butch Cassidy and the Sundance Kid (1969)', 'Maltese Falcon, The (1941)', 'Blues Brothers, The (1980)', 'Wrong Trousers, The (1993)', 'True Lies (1994)', 'While You Were Sleeping (1995)', 'Toy Story (1995)', 'Amadeus (1984)', 'Alien (1979)'], 102: ['Young Frankenstein (1974)', 'Lost Horizon (1937)', 'Brazil (1985)', 'Magnificent Seven, The (1954)', 'Everyone Says I Love You (1996)', 'Blues Brothers, The (1980)', 'Carrie (1976)', 'Blade Runner (1982)', 'Star Trek VI: The Undiscovered Country (1991)', 'Star Trek: The Motion Picture (1979)', 'Star Trek: The Wrath of Khan (1982)', 'Beauty and the Beast (1991)', 'Star Wars (1977)', 'Raiders of the Lost Ark (1981)', 'Contact (1997)', 'Heavy Metal (1981)', \"Devil's Advocate, The (1997)\", 'Aladdin (1992)', 'Alien (1979)', 'Groundhog Day (1993)', 'Silence of the Lambs, The (1991)', 'Terminator, The (1984)', 'Back to the Future (1985)', \"Monty Python's Life of Brian (1979)\", 'Mars Attacks! (1996)', 'Maverick (1994)', 'Monty Python and the Holy Grail (1974)', 'Mrs. Doubtfire (1993)', 'Mask, The (1994)', 'Man Who Would Be King, The (1975)', 'Much Ado About Nothing (1993)', 'M*A*S*H (1970)', 'Mighty Aphrodite (1995)', 'Kiss the Girls (1997)', 'Lawrence of Arabia (1962)', 'Last of the Mohicans, The (1992)', 'L.A. Confidential (1997)', 'Murder at 1600 (1997)', 'Jaws (1975)', 'Jackal, The (1997)', 'Interview with the Vampire (1994)', 'Independence Day (ID4) (1996)', 'In & Out (1997)', 'Hunt for Red October, The (1990)', 'Highlander (1986)', 'Heat (1995)', 'Grosse Pointe Blank (1997)', 'Great Dictator, The (1940)', 'GoodFellas (1990)', 'Mulholland Falls (1996)']} \n",
            "\n",
            "Results List:[['Return of the Jedi (1983)', 'Braveheart (1995)', 'Psycho (1960)', 'Duck Soup (1933)', 'Raiders of the Lost Ark (1981)', 'Die Hard: With a Vengeance (1995)', 'Die Hard 2 (1990)', 'Die Hard (1988)', 'Star Trek IV: The Voyage Home (1986)', 'Hunt for Red October, The (1990)', 'Back to the Future (1985)', 'Blues Brothers, The (1980)', 'True Lies (1994)', 'Star Trek: First Contact (1996)', 'Independence Day (ID4) (1996)', 'Jaws (1975)', 'Kingpin (1996)', 'M*A*S*H (1970)', 'Monty Python and the Holy Grail (1974)', 'Top Gun (1986)', 'Star Wars (1977)', 'Terminator, The (1984)', 'Terminator 2: Judgment Day (1991)', 'Raising Arizona (1987)', 'Highlander (1986)', 'Rock, The (1996)', 'Alien (1979)', 'Indiana Jones and the Last Crusade (1989)', 'Empire Strikes Back, The (1980)', 'Boot, Das (1981)', 'Get Shorty (1995)', 'Blade Runner (1982)', 'Executive Decision (1996)', 'Cool Hand Luke (1967)', 'Brazil (1985)', 'Groundhog Day (1993)', 'Butch Cassidy and the Sundance Kid (1969)', 'Silence of the Lambs, The (1991)', 'Conan the Barbarian (1981)', 'Star Trek: The Wrath of Khan (1982)', 'Sting, The (1973)', 'Supercop (1992)', 'Batman (1989)', 'Twister (1996)', 'Stargate (1994)', 'Waterworld (1995)', 'Dragonheart (1996)', 'Last of the Mohicans, The (1992)', 'Full Metal Jacket (1987)', 'Aliens (1986)'], ['Indiana Jones and the Last Crusade (1989)', 'Fugitive, The (1993)', 'Empire Strikes Back, The (1980)', 'True Lies (1994)', 'Groundhog Day (1993)', 'Highlander (1986)', 'Die Hard (1988)', 'Star Wars (1977)', 'Raiders of the Lost Ark (1981)', 'Back to the Future (1985)', 'Return of the Jedi (1983)', 'Aliens (1986)', 'Platoon (1986)', 'Star Trek: The Wrath of Khan (1982)', 'Much Ado About Nothing (1993)', 'Jurassic Park (1993)', \"Jackie Chan's First Strike (1996)\", 'Alien (1979)', 'In the Line of Fire (1993)', 'Hunt for Red October, The (1990)', 'Speed (1994)', 'Shawshank Redemption, The (1994)', 'Terminator 2: Judgment Day (1991)', 'Toy Story (1995)', 'Clear and Present Danger (1994)', 'Rumble in the Bronx (1995)', 'Army of Darkness (1993)', 'Babe (1995)', 'Batman (1989)', 'Young Frankenstein (1974)', 'Blade Runner (1982)', 'Blues Brothers, The (1980)', 'Braveheart (1995)', 'Wizard of Oz, The (1939)', 'Rock, The (1996)', 'Under Siege (1992)', 'Crow, The (1994)', 'Dead Poets Society (1989)', 'Demolition Man (1993)', 'Die Hard 2 (1990)', 'Die Hard: With a Vengeance (1995)', 'Eraser (1996)', 'Stargate (1994)', 'Supercop (1992)', 'Star Trek: First Contact (1996)', 'Three Musketeers, The (1993)', 'Top Gun (1986)', 'Young Guns (1988)', 'River Wild, The (1994)', 'Rebel Without a Cause (1955)'], ['Jurassic Park (1993)', 'Star Trek: The Wrath of Khan (1982)', 'Casablanca (1942)', 'Groundhog Day (1993)', 'GoodFellas (1990)', 'Close Shave, A (1995)', 'Cold Comfort Farm (1995)', 'Sense and Sensibility (1995)', 'Secrets & Lies (1996)', 'Godfather: Part II, The (1974)', 'Godfather, The (1972)', 'Glory (1989)', 'Devil in a Blue Dress (1995)', 'Monty Python and the Holy Grail (1974)', 'Much Ado About Nothing (1993)', 'Duck Soup (1933)', 'Emma (1996)', 'Raising Arizona (1987)', 'Raiders of the Lost Ark (1981)', 'Quiet Man, The (1952)', 'Pulp Fiction (1994)', 'Fargo (1996)', 'Perfect World, A (1993)', 'Persuasion (1995)', 'Butch Cassidy and the Sundance Kid (1969)', 'Terminator, The (1984)', 'Strictly Ballroom (1992)', 'Young Frankenstein (1974)', 'Twister (1996)', 'Twelve Monkeys (1995)', 'Lawrence of Arabia (1962)', 'Highlander (1986)', 'Arsenic and Old Lace (1944)', 'Babe (1995)', 'Tin Cup (1996)', 'This Is Spinal Tap (1984)', 'Braveheart (1995)', 'Henry V (1989)', 'Princess Bride, The (1987)', 'Strange Days (1995)', 'Sting, The (1973)', \"Bram Stoker's Dracula (1992)\", 'Bound (1996)', 'Stargate (1994)', 'Big Night (1996)', 'Local Hero (1983)', 'Blade Runner (1982)', 'Big Sleep, The (1946)', 'My Favorite Year (1982)', 'Multiplicity (1996)'], ['Young Frankenstein (1974)', 'Speed (1994)', 'Fly Away Home (1996)', 'Fantasia (1940)', 'Executive Decision (1996)', 'Sense and Sensibility (1995)', 'Empire Strikes Back, The (1980)', 'Duck Soup (1933)', 'Sleeper (1973)', \"Dante's Peak (1997)\", 'Star Trek IV: The Voyage Home (1986)', 'Terminator 2: Judgment Day (1991)', 'Star Trek: First Contact (1996)', 'Star Trek: The Wrath of Khan (1982)', 'Star Wars (1977)', 'Stargate (1994)', \"Stephen King's The Langoliers (1995)\", 'Casablanca (1942)', 'Carrie (1976)', 'Sting, The (1973)', 'Forbidden Planet (1956)', 'Return of the Jedi (1983)', 'Rear Window (1954)', 'Ransom (1996)', 'Magnificent Seven, The (1954)', 'Monty Python and the Holy Grail (1974)', \"Monty Python's Life of Brian (1979)\", 'Jurassic Park (1993)', 'Jaws (1975)', 'Mystery Science Theater 3000: The Movie (1996)', 'Net, The (1995)', 'Independence Day (ID4) (1996)', 'Home Alone (1990)', 'Highlander (1986)', 'Princess Bride, The (1987)', 'Groundhog Day (1993)', 'Good, The Bad and The Ugly, The (1966)', 'Psycho (1960)', 'Raiders of the Lost Ark (1981)', 'Full Metal Jacket (1987)', 'Fugitive, The (1993)', 'Butch Cassidy and the Sundance Kid (1969)', 'Maltese Falcon, The (1941)', 'Blues Brothers, The (1980)', 'Wrong Trousers, The (1993)', 'True Lies (1994)', 'While You Were Sleeping (1995)', 'Toy Story (1995)', 'Amadeus (1984)', 'Alien (1979)'], ['Young Frankenstein (1974)', 'Lost Horizon (1937)', 'Brazil (1985)', 'Magnificent Seven, The (1954)', 'Everyone Says I Love You (1996)', 'Blues Brothers, The (1980)', 'Carrie (1976)', 'Blade Runner (1982)', 'Star Trek VI: The Undiscovered Country (1991)', 'Star Trek: The Motion Picture (1979)', 'Star Trek: The Wrath of Khan (1982)', 'Beauty and the Beast (1991)', 'Star Wars (1977)', 'Raiders of the Lost Ark (1981)', 'Contact (1997)', 'Heavy Metal (1981)', \"Devil's Advocate, The (1997)\", 'Aladdin (1992)', 'Alien (1979)', 'Groundhog Day (1993)', 'Silence of the Lambs, The (1991)', 'Terminator, The (1984)', 'Back to the Future (1985)', \"Monty Python's Life of Brian (1979)\", 'Mars Attacks! (1996)', 'Maverick (1994)', 'Monty Python and the Holy Grail (1974)', 'Mrs. Doubtfire (1993)', 'Mask, The (1994)', 'Man Who Would Be King, The (1975)', 'Much Ado About Nothing (1993)', 'M*A*S*H (1970)', 'Mighty Aphrodite (1995)', 'Kiss the Girls (1997)', 'Lawrence of Arabia (1962)', 'Last of the Mohicans, The (1992)', 'L.A. Confidential (1997)', 'Murder at 1600 (1997)', 'Jaws (1975)', 'Jackal, The (1997)', 'Interview with the Vampire (1994)', 'Independence Day (ID4) (1996)', 'In & Out (1997)', 'Hunt for Red October, The (1990)', 'Highlander (1986)', 'Heat (1995)', 'Grosse Pointe Blank (1997)', 'Great Dictator, The (1940)', 'GoodFellas (1990)', 'Mulholland Falls (1996)']]\n"
          ]
        }
      ]
    },
    {
      "cell_type": "code",
      "source": [
        "flattened_rlist = list(chain(*r_list))\n",
        "print(flattened_rlist)\n",
        "\n",
        "\n",
        "# Convert lists to sets for set operations\n",
        "set1 = set(result_list)\n",
        "set2 = set(flattened_rlist)\n",
        "\n",
        "# Create a Venn diagram\n",
        "plt.figure(figsize=(8, 8))\n",
        "venn2([set1, set2], ('Content-Based', 'Collaborative'))\n",
        "\n",
        "# Title and display the plot\n",
        "plt.title('Venn Diagram of Movie Genres')\n",
        "plt.show()\n"
      ],
      "metadata": {
        "colab": {
          "base_uri": "https://localhost:8080/",
          "height": 477
        },
        "id": "oKP5HF3c0OF7",
        "outputId": "26f2590b-1cb7-44c5-d034-94c0f41812f0"
      },
      "execution_count": 84,
      "outputs": [
        {
          "output_type": "stream",
          "name": "stdout",
          "text": [
            "['Return of the Jedi (1983)', 'Braveheart (1995)', 'Psycho (1960)', 'Duck Soup (1933)', 'Raiders of the Lost Ark (1981)', 'Die Hard: With a Vengeance (1995)', 'Die Hard 2 (1990)', 'Die Hard (1988)', 'Star Trek IV: The Voyage Home (1986)', 'Hunt for Red October, The (1990)', 'Back to the Future (1985)', 'Blues Brothers, The (1980)', 'True Lies (1994)', 'Star Trek: First Contact (1996)', 'Independence Day (ID4) (1996)', 'Jaws (1975)', 'Kingpin (1996)', 'M*A*S*H (1970)', 'Monty Python and the Holy Grail (1974)', 'Top Gun (1986)', 'Star Wars (1977)', 'Terminator, The (1984)', 'Terminator 2: Judgment Day (1991)', 'Raising Arizona (1987)', 'Highlander (1986)', 'Rock, The (1996)', 'Alien (1979)', 'Indiana Jones and the Last Crusade (1989)', 'Empire Strikes Back, The (1980)', 'Boot, Das (1981)', 'Get Shorty (1995)', 'Blade Runner (1982)', 'Executive Decision (1996)', 'Cool Hand Luke (1967)', 'Brazil (1985)', 'Groundhog Day (1993)', 'Butch Cassidy and the Sundance Kid (1969)', 'Silence of the Lambs, The (1991)', 'Conan the Barbarian (1981)', 'Star Trek: The Wrath of Khan (1982)', 'Sting, The (1973)', 'Supercop (1992)', 'Batman (1989)', 'Twister (1996)', 'Stargate (1994)', 'Waterworld (1995)', 'Dragonheart (1996)', 'Last of the Mohicans, The (1992)', 'Full Metal Jacket (1987)', 'Aliens (1986)', 'Indiana Jones and the Last Crusade (1989)', 'Fugitive, The (1993)', 'Empire Strikes Back, The (1980)', 'True Lies (1994)', 'Groundhog Day (1993)', 'Highlander (1986)', 'Die Hard (1988)', 'Star Wars (1977)', 'Raiders of the Lost Ark (1981)', 'Back to the Future (1985)', 'Return of the Jedi (1983)', 'Aliens (1986)', 'Platoon (1986)', 'Star Trek: The Wrath of Khan (1982)', 'Much Ado About Nothing (1993)', 'Jurassic Park (1993)', \"Jackie Chan's First Strike (1996)\", 'Alien (1979)', 'In the Line of Fire (1993)', 'Hunt for Red October, The (1990)', 'Speed (1994)', 'Shawshank Redemption, The (1994)', 'Terminator 2: Judgment Day (1991)', 'Toy Story (1995)', 'Clear and Present Danger (1994)', 'Rumble in the Bronx (1995)', 'Army of Darkness (1993)', 'Babe (1995)', 'Batman (1989)', 'Young Frankenstein (1974)', 'Blade Runner (1982)', 'Blues Brothers, The (1980)', 'Braveheart (1995)', 'Wizard of Oz, The (1939)', 'Rock, The (1996)', 'Under Siege (1992)', 'Crow, The (1994)', 'Dead Poets Society (1989)', 'Demolition Man (1993)', 'Die Hard 2 (1990)', 'Die Hard: With a Vengeance (1995)', 'Eraser (1996)', 'Stargate (1994)', 'Supercop (1992)', 'Star Trek: First Contact (1996)', 'Three Musketeers, The (1993)', 'Top Gun (1986)', 'Young Guns (1988)', 'River Wild, The (1994)', 'Rebel Without a Cause (1955)', 'Jurassic Park (1993)', 'Star Trek: The Wrath of Khan (1982)', 'Casablanca (1942)', 'Groundhog Day (1993)', 'GoodFellas (1990)', 'Close Shave, A (1995)', 'Cold Comfort Farm (1995)', 'Sense and Sensibility (1995)', 'Secrets & Lies (1996)', 'Godfather: Part II, The (1974)', 'Godfather, The (1972)', 'Glory (1989)', 'Devil in a Blue Dress (1995)', 'Monty Python and the Holy Grail (1974)', 'Much Ado About Nothing (1993)', 'Duck Soup (1933)', 'Emma (1996)', 'Raising Arizona (1987)', 'Raiders of the Lost Ark (1981)', 'Quiet Man, The (1952)', 'Pulp Fiction (1994)', 'Fargo (1996)', 'Perfect World, A (1993)', 'Persuasion (1995)', 'Butch Cassidy and the Sundance Kid (1969)', 'Terminator, The (1984)', 'Strictly Ballroom (1992)', 'Young Frankenstein (1974)', 'Twister (1996)', 'Twelve Monkeys (1995)', 'Lawrence of Arabia (1962)', 'Highlander (1986)', 'Arsenic and Old Lace (1944)', 'Babe (1995)', 'Tin Cup (1996)', 'This Is Spinal Tap (1984)', 'Braveheart (1995)', 'Henry V (1989)', 'Princess Bride, The (1987)', 'Strange Days (1995)', 'Sting, The (1973)', \"Bram Stoker's Dracula (1992)\", 'Bound (1996)', 'Stargate (1994)', 'Big Night (1996)', 'Local Hero (1983)', 'Blade Runner (1982)', 'Big Sleep, The (1946)', 'My Favorite Year (1982)', 'Multiplicity (1996)', 'Young Frankenstein (1974)', 'Speed (1994)', 'Fly Away Home (1996)', 'Fantasia (1940)', 'Executive Decision (1996)', 'Sense and Sensibility (1995)', 'Empire Strikes Back, The (1980)', 'Duck Soup (1933)', 'Sleeper (1973)', \"Dante's Peak (1997)\", 'Star Trek IV: The Voyage Home (1986)', 'Terminator 2: Judgment Day (1991)', 'Star Trek: First Contact (1996)', 'Star Trek: The Wrath of Khan (1982)', 'Star Wars (1977)', 'Stargate (1994)', \"Stephen King's The Langoliers (1995)\", 'Casablanca (1942)', 'Carrie (1976)', 'Sting, The (1973)', 'Forbidden Planet (1956)', 'Return of the Jedi (1983)', 'Rear Window (1954)', 'Ransom (1996)', 'Magnificent Seven, The (1954)', 'Monty Python and the Holy Grail (1974)', \"Monty Python's Life of Brian (1979)\", 'Jurassic Park (1993)', 'Jaws (1975)', 'Mystery Science Theater 3000: The Movie (1996)', 'Net, The (1995)', 'Independence Day (ID4) (1996)', 'Home Alone (1990)', 'Highlander (1986)', 'Princess Bride, The (1987)', 'Groundhog Day (1993)', 'Good, The Bad and The Ugly, The (1966)', 'Psycho (1960)', 'Raiders of the Lost Ark (1981)', 'Full Metal Jacket (1987)', 'Fugitive, The (1993)', 'Butch Cassidy and the Sundance Kid (1969)', 'Maltese Falcon, The (1941)', 'Blues Brothers, The (1980)', 'Wrong Trousers, The (1993)', 'True Lies (1994)', 'While You Were Sleeping (1995)', 'Toy Story (1995)', 'Amadeus (1984)', 'Alien (1979)', 'Young Frankenstein (1974)', 'Lost Horizon (1937)', 'Brazil (1985)', 'Magnificent Seven, The (1954)', 'Everyone Says I Love You (1996)', 'Blues Brothers, The (1980)', 'Carrie (1976)', 'Blade Runner (1982)', 'Star Trek VI: The Undiscovered Country (1991)', 'Star Trek: The Motion Picture (1979)', 'Star Trek: The Wrath of Khan (1982)', 'Beauty and the Beast (1991)', 'Star Wars (1977)', 'Raiders of the Lost Ark (1981)', 'Contact (1997)', 'Heavy Metal (1981)', \"Devil's Advocate, The (1997)\", 'Aladdin (1992)', 'Alien (1979)', 'Groundhog Day (1993)', 'Silence of the Lambs, The (1991)', 'Terminator, The (1984)', 'Back to the Future (1985)', \"Monty Python's Life of Brian (1979)\", 'Mars Attacks! (1996)', 'Maverick (1994)', 'Monty Python and the Holy Grail (1974)', 'Mrs. Doubtfire (1993)', 'Mask, The (1994)', 'Man Who Would Be King, The (1975)', 'Much Ado About Nothing (1993)', 'M*A*S*H (1970)', 'Mighty Aphrodite (1995)', 'Kiss the Girls (1997)', 'Lawrence of Arabia (1962)', 'Last of the Mohicans, The (1992)', 'L.A. Confidential (1997)', 'Murder at 1600 (1997)', 'Jaws (1975)', 'Jackal, The (1997)', 'Interview with the Vampire (1994)', 'Independence Day (ID4) (1996)', 'In & Out (1997)', 'Hunt for Red October, The (1990)', 'Highlander (1986)', 'Heat (1995)', 'Grosse Pointe Blank (1997)', 'Great Dictator, The (1940)', 'GoodFellas (1990)', 'Mulholland Falls (1996)']\n"
          ]
        },
        {
          "output_type": "display_data",
          "data": {
            "text/plain": [
              "<Figure size 800x800 with 1 Axes>"
            ],
            "image/png": "[encoded data removed]"
          },
          "metadata": {}
        }
      ]
    }
  ]
}